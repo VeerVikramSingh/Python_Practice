{
  "nbformat": 4,
  "nbformat_minor": 0,
  "metadata": {
    "colab": {
      "name": "python_practice.ipynb",
      "provenance": [],
      "collapsed_sections": [],
      "include_colab_link": true
    },
    "kernelspec": {
      "name": "python3",
      "display_name": "Python 3"
    }
  },
  "cells": [
    {
      "cell_type": "markdown",
      "metadata": {
        "id": "view-in-github",
        "colab_type": "text"
      },
      "source": [
        "<a href=\"https://colab.research.google.com/github/vitm31/Python_Practice/blob/master/python_practice.ipynb\" target=\"_parent\"><img src=\"https://colab.research.google.com/assets/colab-badge.svg\" alt=\"Open In Colab\"/></a>"
      ]
    },
    {
      "cell_type": "code",
      "metadata": {
        "id": "zjNTFPFujOXN",
        "colab_type": "code",
        "outputId": "b8ad4092-d962-47fd-8cab-eda169a28d90",
        "colab": {
          "base_uri": "https://localhost:8080/",
          "height": 119
        }
      },
      "source": [
        "print(\"Twinkle, twinkle, little star, \\n\\tHow I wonder what you are! \\n\\t\\tUp above the world so high, \\n\\t\\tLike a diamond in the sky. \\nTwinkle, twinkle, little star, \\n\\tHow I wonder what you are!\")\n"
      ],
      "execution_count": 0,
      "outputs": [
        {
          "output_type": "stream",
          "text": [
            "Twinkle, twinkle, little star, \n",
            "\tHow I wonder what you are! \n",
            "\t\tUp above the world so high, \n",
            "\t\tLike a diamond in the sky. \n",
            "Twinkle, twinkle, little star, \n",
            "\tHow I wonder what you are!\n"
          ],
          "name": "stdout"
        }
      ]
    },
    {
      "cell_type": "code",
      "metadata": {
        "id": "bwQJSrtwja6T",
        "colab_type": "code",
        "outputId": "2cc407c1-1a31-4e70-ab88-2cc18763600a",
        "colab": {
          "base_uri": "https://localhost:8080/",
          "height": 119
        }
      },
      "source": [
        "print(\"Twinkle, twinkle, little star, \\n\\tHow I wonder what you are! \\n\\t\\tUp above the world so high, \\n\\t\\tLike a diamond in the sky. \\nTwinkle, twinkle, little star, \\n\\tHow I wonder what you are!\")\n"
      ],
      "execution_count": 0,
      "outputs": [
        {
          "output_type": "stream",
          "text": [
            "Twinkle, twinkle, little star, \n",
            "\tHow I wonder what you are! \n",
            "\t\tUp above the world so high, \n",
            "\t\tLike a diamond in the sky. \n",
            "Twinkle, twinkle, little star, \n",
            "\tHow I wonder what you are!\n"
          ],
          "name": "stdout"
        }
      ]
    },
    {
      "cell_type": "code",
      "metadata": {
        "id": "xGgTmKumjm-C",
        "colab_type": "code",
        "outputId": "54b2ae1c-b351-4312-b029-09f9e0a2ac05",
        "colab": {
          "base_uri": "https://localhost:8080/",
          "height": 68
        }
      },
      "source": [
        "print(\"My name is Veer,\\n\\tI am from Bangalore\\n\\t\\tI live in Varthur\")"
      ],
      "execution_count": 0,
      "outputs": [
        {
          "output_type": "stream",
          "text": [
            "My name is Veer,\n",
            "\tI am from Bangalore\n",
            "\t\tI live in Varthur\n"
          ],
          "name": "stdout"
        }
      ]
    },
    {
      "cell_type": "code",
      "metadata": {
        "id": "QbR0NtK_lHTd",
        "colab_type": "code",
        "outputId": "303406df-70b5-4f94-ae92-e56280516278",
        "colab": {
          "base_uri": "https://localhost:8080/",
          "height": 68
        }
      },
      "source": [
        "print(\"Hello i am Veer,\\n\\tinterested in python\\n\\t\\twants to learn python\")"
      ],
      "execution_count": 0,
      "outputs": [
        {
          "output_type": "stream",
          "text": [
            "Hello i am Veer,\n",
            "\tinterested in python\n",
            "\t\twants to learn python\n"
          ],
          "name": "stdout"
        }
      ]
    },
    {
      "cell_type": "code",
      "metadata": {
        "id": "egAm19pfngFt",
        "colab_type": "code",
        "outputId": "802d768a-274b-4d90-8d04-b360e8f36b8c",
        "colab": {
          "base_uri": "https://localhost:8080/",
          "height": 68
        }
      },
      "source": [
        "import sys\n",
        "print(sys.version)\n",
        "print(sys.version_info)"
      ],
      "execution_count": 0,
      "outputs": [
        {
          "output_type": "stream",
          "text": [
            "3.6.8 (default, Oct  7 2019, 12:59:55) \n",
            "[GCC 8.3.0]\n",
            "sys.version_info(major=3, minor=6, micro=8, releaselevel='final', serial=0)\n"
          ],
          "name": "stdout"
        }
      ]
    },
    {
      "cell_type": "code",
      "metadata": {
        "id": "6_F8k2Ktnxb2",
        "colab_type": "code",
        "outputId": "d727e3d2-2e46-4236-f8d6-489d5c47f5d5",
        "colab": {
          "base_uri": "https://localhost:8080/",
          "height": 34
        }
      },
      "source": [
        "import datetime\n",
        "print(datetime.datetime.now())"
      ],
      "execution_count": 0,
      "outputs": [
        {
          "output_type": "stream",
          "text": [
            "2019-11-28 06:10:03.658000\n"
          ],
          "name": "stdout"
        }
      ]
    },
    {
      "cell_type": "code",
      "metadata": {
        "id": "CE6mN7kUoVNf",
        "colab_type": "code",
        "outputId": "9d654d6e-7cf8-4519-abe2-2619c1cbb7a8",
        "colab": {
          "base_uri": "https://localhost:8080/",
          "height": 51
        }
      },
      "source": [
        "import datetime\n",
        "now = datetime.datetime.now()\n",
        "print (\"Current date and time : \")\n",
        "print (now.strftime(\"%Y-%m-%d %H:%M:%S\"))"
      ],
      "execution_count": 0,
      "outputs": [
        {
          "output_type": "stream",
          "text": [
            "Current date and time : \n",
            "2019-11-28 06:10:50\n"
          ],
          "name": "stdout"
        }
      ]
    },
    {
      "cell_type": "code",
      "metadata": {
        "id": "G1cvvuiJoi_7",
        "colab_type": "code",
        "outputId": "aa0132df-63e9-4796-e849-b5da2da7de2a",
        "colab": {
          "base_uri": "https://localhost:8080/",
          "height": 34
        }
      },
      "source": [
        "import datetime\n",
        "print(datetime.datetime.now())"
      ],
      "execution_count": 0,
      "outputs": [
        {
          "output_type": "stream",
          "text": [
            "2019-11-28 06:14:31.735402\n"
          ],
          "name": "stdout"
        }
      ]
    },
    {
      "cell_type": "code",
      "metadata": {
        "id": "A3LbMxxGpB3n",
        "colab_type": "code",
        "outputId": "8473dfa2-2d83-4788-ce37-7ad60e3e9450",
        "colab": {
          "base_uri": "https://localhost:8080/",
          "height": 51
        }
      },
      "source": [
        "r=float(input(\"Enter value of radius r:\"))\n",
        "print(\"Area of circle is:\",3.14*r*r)"
      ],
      "execution_count": 0,
      "outputs": [
        {
          "output_type": "stream",
          "text": [
            "Enter value of radius r:2\n",
            "Area of circle is: 12.56\n"
          ],
          "name": "stdout"
        }
      ]
    },
    {
      "cell_type": "code",
      "metadata": {
        "id": "o0fvbOQ1qF2a",
        "colab_type": "code",
        "outputId": "6f87854d-410e-40ef-af19-cdbc1e9bac42",
        "colab": {
          "base_uri": "https://localhost:8080/",
          "height": 68
        }
      },
      "source": [
        "l=float(input(\"Enter length:\"))\n",
        "b=float(input(\"Enter breath:\"))\n",
        "print(\"area of square is:\",l*b)"
      ],
      "execution_count": 0,
      "outputs": [
        {
          "output_type": "stream",
          "text": [
            "Enter length:4\n",
            "Enter breath:4\n",
            "area of square is: 16.0\n"
          ],
          "name": "stdout"
        }
      ]
    },
    {
      "cell_type": "code",
      "metadata": {
        "id": "ahkjrM7bqSOC",
        "colab_type": "code",
        "outputId": "e0e64bba-f0ef-4824-cac5-992f79c81a28",
        "colab": {
          "base_uri": "https://localhost:8080/",
          "height": 68
        }
      },
      "source": [
        "fname=input(\"Enter first name:\")\n",
        "lname=input(\"Enter last name:\")\n",
        "print(\"Hello\",lname,fname)"
      ],
      "execution_count": 0,
      "outputs": [
        {
          "output_type": "stream",
          "text": [
            "Enter first name:veer\n",
            "Enter last name:singh\n",
            "Hello singh veer\n"
          ],
          "name": "stdout"
        }
      ]
    },
    {
      "cell_type": "code",
      "metadata": {
        "id": "tGx3Ev-1rroW",
        "colab_type": "code",
        "outputId": "0855e8c3-7b18-4d28-bdfe-821a50770bb8",
        "colab": {
          "base_uri": "https://localhost:8080/",
          "height": 68
        }
      },
      "source": [
        "sample_data=input(\"Enter sample numbers:\")\n",
        "my_list=list(sample_data.split(\",\"))\n",
        "my_tuple=tuple(sample_data.split(\",\"))\n",
        "print(\"list is:\",my_list)\n",
        "print(\"tuple is:\",my_tuple)\n"
      ],
      "execution_count": 0,
      "outputs": [
        {
          "output_type": "stream",
          "text": [
            "Enter sample numbers:3,5,7,23\n",
            "list is: ['3', '5', '7', '23']\n",
            "tuple is: ('3', '5', '7', '23')\n"
          ],
          "name": "stdout"
        }
      ]
    },
    {
      "cell_type": "code",
      "metadata": {
        "id": "DwGNsylsuEcc",
        "colab_type": "code",
        "outputId": "b56b71ea-869b-463b-ab89-bc3de607253c",
        "colab": {
          "base_uri": "https://localhost:8080/",
          "height": 68
        }
      },
      "source": [
        "sample_data=input(\"Enter comma seperated nos:\")\n",
        "print(\"My_list is :\",sample_data.split(\",\"))\n",
        "print(\"my_tuple is :\",tuple(sample_data.split(\",\")))"
      ],
      "execution_count": 0,
      "outputs": [
        {
          "output_type": "stream",
          "text": [
            "Enter comma seperated nos:8,3,9,24\n",
            "My_list is : ['8', '3', '9', '24']\n",
            "my_tuple is : ('8', '3', '9', '24')\n"
          ],
          "name": "stdout"
        }
      ]
    },
    {
      "cell_type": "code",
      "metadata": {
        "id": "sjS3ivpbwXDV",
        "colab_type": "code",
        "outputId": "6302f867-f66c-4637-8b01-9f7bc0a0b418",
        "colab": {
          "base_uri": "https://localhost:8080/",
          "height": 51
        }
      },
      "source": [
        "filename=input(\"Enter file name:\")\n",
        "file_ext=filename.split(\".\")\n",
        "print(\"Ext part is:\",file_ext[-1])"
      ],
      "execution_count": 0,
      "outputs": [
        {
          "output_type": "stream",
          "text": [
            "Enter file name:abc.python\n",
            "Ext part is: python\n"
          ],
          "name": "stdout"
        }
      ]
    },
    {
      "cell_type": "code",
      "metadata": {
        "id": "v5hLmpKYxhMj",
        "colab_type": "code",
        "outputId": "7a41ba9c-6f11-44a9-dece-2bc5632a3ae7",
        "colab": {
          "base_uri": "https://localhost:8080/",
          "height": 51
        }
      },
      "source": [
        "file_name=input(\"Enter file name :\")\n",
        "file_ext=file_name.split(\".\")\n",
        "print(\"Ext. part is:\",file_ext[-1])"
      ],
      "execution_count": 0,
      "outputs": [
        {
          "output_type": "stream",
          "text": [
            "Enter file name :abc.java\n",
            "Ext. part is: java\n"
          ],
          "name": "stdout"
        }
      ]
    },
    {
      "cell_type": "code",
      "metadata": {
        "id": "YDqpDMuJyrMh",
        "colab_type": "code",
        "outputId": "66f3ed5a-d298-4550-a1bb-2a02ce3768e5",
        "colab": {
          "base_uri": "https://localhost:8080/",
          "height": 34
        }
      },
      "source": [
        "color_list = [\"Red\",\"Green\",\"White\" ,\"Black\"]\n",
        "print(color_list[0::3])"
      ],
      "execution_count": 0,
      "outputs": [
        {
          "output_type": "stream",
          "text": [
            "['Red', 'Black']\n"
          ],
          "name": "stdout"
        }
      ]
    },
    {
      "cell_type": "code",
      "metadata": {
        "id": "NU1hmEECzBMn",
        "colab_type": "code",
        "outputId": "ae93984b-e011-494f-fe4f-0e32dbae9cc8",
        "colab": {
          "base_uri": "https://localhost:8080/",
          "height": 34
        }
      },
      "source": [
        "exam_st_date = (11,12,2014)\n",
        "print(\"Examination will start from: %i/ %i/ %i\"%exam_st_date)"
      ],
      "execution_count": 0,
      "outputs": [
        {
          "output_type": "stream",
          "text": [
            "Examination will start from: 11/ 12/ 2014\n"
          ],
          "name": "stdout"
        }
      ]
    },
    {
      "cell_type": "code",
      "metadata": {
        "id": "_-UuLd7g04Di",
        "colab_type": "code",
        "outputId": "684b3326-4c42-4f5c-bb01-9756fd175af3",
        "colab": {
          "base_uri": "https://localhost:8080/",
          "height": 34
        }
      },
      "source": [
        "exam_st_date = (11,12,2019)\n",
        "print(\"Examination will start from: %i /%i /%i\" %exam_st_date)"
      ],
      "execution_count": 0,
      "outputs": [
        {
          "output_type": "stream",
          "text": [
            "Examination will start from: 11 /12 /2019\n"
          ],
          "name": "stdout"
        }
      ]
    },
    {
      "cell_type": "code",
      "metadata": {
        "id": "ltFNoE022d_o",
        "colab_type": "code",
        "outputId": "acfbbe30-6643-470a-9246-7380183fabac",
        "colab": {
          "base_uri": "https://localhost:8080/",
          "height": 51
        }
      },
      "source": [
        "sample_value=int(input(\"Enter any value:\"))\n",
        "print(\"calculated o/p is:\",(sample_value+sample_value*2+sample_value*3))"
      ],
      "execution_count": 0,
      "outputs": [
        {
          "output_type": "stream",
          "text": [
            "Enter any value:5\n",
            "calculated o/p is: 30\n"
          ],
          "name": "stdout"
        }
      ]
    },
    {
      "cell_type": "code",
      "metadata": {
        "id": "hXi7LP6E3ibp",
        "colab_type": "code",
        "outputId": "eef4e946-d48a-47a0-ed6e-7512c0768eb2",
        "colab": {
          "base_uri": "https://localhost:8080/",
          "height": 34
        }
      },
      "source": [
        "abs(-5.7)"
      ],
      "execution_count": 0,
      "outputs": [
        {
          "output_type": "execute_result",
          "data": {
            "text/plain": [
              "5.7"
            ]
          },
          "metadata": {
            "tags": []
          },
          "execution_count": 55
        }
      ]
    },
    {
      "cell_type": "code",
      "metadata": {
        "id": "dIJQFJP66dP1",
        "colab_type": "code",
        "outputId": "a9c6da28-dbfb-4ef7-f981-b738296c4943",
        "colab": {
          "base_uri": "https://localhost:8080/",
          "height": 34
        }
      },
      "source": [
        "print(abs.__doc__)"
      ],
      "execution_count": 0,
      "outputs": [
        {
          "output_type": "stream",
          "text": [
            "Return the absolute value of the argument.\n"
          ],
          "name": "stdout"
        }
      ]
    },
    {
      "cell_type": "code",
      "metadata": {
        "id": "Wtno-eE47Nn8",
        "colab_type": "code",
        "outputId": "3453aaaf-74d0-47cc-c349-f38dd3216fe0",
        "colab": {
          "base_uri": "https://localhost:8080/",
          "height": 34
        }
      },
      "source": [
        "print(abs.__doc__)"
      ],
      "execution_count": 0,
      "outputs": [
        {
          "output_type": "stream",
          "text": [
            "Return the absolute value of the argument.\n"
          ],
          "name": "stdout"
        }
      ]
    },
    {
      "cell_type": "code",
      "metadata": {
        "id": "94HOw9NIFQQ6",
        "colab_type": "code",
        "outputId": "7413e8a3-cfd4-4467-dbc9-df3a0ef86332",
        "colab": {
          "base_uri": "https://localhost:8080/",
          "height": 187
        }
      },
      "source": [
        "import calendar\n",
        "y=int(input(\"Enter year:\"))\n",
        "m=int(input(\"Enter month:\"))\n",
        "print(\"Calendar is:\",calendar.month(y,m))"
      ],
      "execution_count": 0,
      "outputs": [
        {
          "output_type": "stream",
          "text": [
            "Enter year:2019\n",
            "Enter month:11\n",
            "Calendar is:    November 2019\n",
            "Mo Tu We Th Fr Sa Su\n",
            "             1  2  3\n",
            " 4  5  6  7  8  9 10\n",
            "11 12 13 14 15 16 17\n",
            "18 19 20 21 22 23 24\n",
            "25 26 27 28 29 30\n",
            "\n"
          ],
          "name": "stdout"
        }
      ]
    },
    {
      "cell_type": "code",
      "metadata": {
        "id": "fjdh1UVBGUte",
        "colab_type": "code",
        "outputId": "22876bee-666d-4d14-912d-0d07c55e421e",
        "colab": {
          "base_uri": "https://localhost:8080/",
          "height": 187
        }
      },
      "source": [
        "import calendar\n",
        "y=int(input(\"Enter year:\"))\n",
        "m=int(input(\"Enter month:\"))\n",
        "print(\"calendar is:\",calendar.month(y,m))"
      ],
      "execution_count": 0,
      "outputs": [
        {
          "output_type": "stream",
          "text": [
            "Enter year:2019\n",
            "Enter month:11\n",
            "calendar is:    November 2019\n",
            "Mo Tu We Th Fr Sa Su\n",
            "             1  2  3\n",
            " 4  5  6  7  8  9 10\n",
            "11 12 13 14 15 16 17\n",
            "18 19 20 21 22 23 24\n",
            "25 26 27 28 29 30\n",
            "\n"
          ],
          "name": "stdout"
        }
      ]
    },
    {
      "cell_type": "code",
      "metadata": {
        "id": "kjvUiw_ZHC6H",
        "colab_type": "code",
        "outputId": "6b9166b3-83cc-4f9e-dd83-5db6406922c6",
        "colab": {
          "base_uri": "https://localhost:8080/",
          "height": 85
        }
      },
      "source": [
        "print(\"\"\"a string that you \"don't\" have to escape\n",
        "This\n",
        "is a ....... multi-line\n",
        "heredoc string --------> example\"\"\")"
      ],
      "execution_count": 0,
      "outputs": [
        {
          "output_type": "stream",
          "text": [
            "a string that you \"don't\" have to escape\n",
            "This\n",
            "is a ....... multi-line\n",
            "heredoc string --------> example\n"
          ],
          "name": "stdout"
        }
      ]
    },
    {
      "cell_type": "code",
      "metadata": {
        "id": "hDoddVnTH5de",
        "colab_type": "code",
        "outputId": "91f84830-1371-4ef9-9d21-9462dd207ad5",
        "colab": {
          "base_uri": "https://localhost:8080/",
          "height": 34
        }
      },
      "source": [
        "from datetime import date\n",
        "f_date=date(2014, 7, 2)\n",
        "l_date=date(2014, 7, 11)\n",
        "print(\"No. of days:\",(l_date-f_date).days)"
      ],
      "execution_count": 0,
      "outputs": [
        {
          "output_type": "stream",
          "text": [
            "No. of days: 9\n"
          ],
          "name": "stdout"
        }
      ]
    },
    {
      "cell_type": "code",
      "metadata": {
        "id": "tEuCwVncJQdm",
        "colab_type": "code",
        "outputId": "adcc569f-a24a-4183-8195-cf2ae0157bd1",
        "colab": {
          "base_uri": "https://localhost:8080/",
          "height": 34
        }
      },
      "source": [
        "from datetime import date\n",
        "f_date=date(2019,8,14)\n",
        "l_date=date(2019,8,29)\n",
        "print(\"no. of days:\",(l_date-f_date).days)"
      ],
      "execution_count": 0,
      "outputs": [
        {
          "output_type": "stream",
          "text": [
            "no. of days: 15\n"
          ],
          "name": "stdout"
        }
      ]
    },
    {
      "cell_type": "code",
      "metadata": {
        "id": "OJ9dBajJKaBN",
        "colab_type": "code",
        "colab": {}
      },
      "source": [
        "def operation(z):\n",
        "  a=int(input(\"Enter any number:\"))\n",
        "  if (a-17)>17:\n",
        "    return (a-17)*2"
      ],
      "execution_count": 0,
      "outputs": []
    },
    {
      "cell_type": "code",
      "metadata": {
        "id": "U76Rptb_LOe9",
        "colab_type": "code",
        "outputId": "c777375c-840f-4d7e-ccf8-121db40a4bf9",
        "colab": {
          "base_uri": "https://localhost:8080/",
          "height": 51
        }
      },
      "source": [
        "operation(40)"
      ],
      "execution_count": 0,
      "outputs": [
        {
          "output_type": "stream",
          "text": [
            "Enter any number:40\n"
          ],
          "name": "stdout"
        },
        {
          "output_type": "execute_result",
          "data": {
            "text/plain": [
              "46"
            ]
          },
          "metadata": {
            "tags": []
          },
          "execution_count": 71
        }
      ]
    },
    {
      "cell_type": "code",
      "metadata": {
        "id": "NnI7zRraLV2X",
        "colab_type": "code",
        "colab": {}
      },
      "source": [
        "def sum(x,y,z):\n",
        "  if x==y==z:\n",
        "    return (x+y+z)*3\n",
        "  else:\n",
        "    return (x+y+z)"
      ],
      "execution_count": 0,
      "outputs": []
    },
    {
      "cell_type": "code",
      "metadata": {
        "id": "qv7sbEVKM0yw",
        "colab_type": "code",
        "outputId": "8919c8b3-225e-4258-8eaa-18fec7f897fd",
        "colab": {
          "base_uri": "https://localhost:8080/",
          "height": 34
        }
      },
      "source": [
        "sum(3,3,3)"
      ],
      "execution_count": 0,
      "outputs": [
        {
          "output_type": "execute_result",
          "data": {
            "text/plain": [
              "27"
            ]
          },
          "metadata": {
            "tags": []
          },
          "execution_count": 73
        }
      ]
    },
    {
      "cell_type": "code",
      "metadata": {
        "id": "zCBkt_sGM9K3",
        "colab_type": "code",
        "outputId": "d8a1ba35-4d89-4b74-c8dc-5ef4e2a5fcbb",
        "colab": {
          "base_uri": "https://localhost:8080/",
          "height": 34
        }
      },
      "source": [
        "sum(3,3,4)"
      ],
      "execution_count": 0,
      "outputs": [
        {
          "output_type": "execute_result",
          "data": {
            "text/plain": [
              "10"
            ]
          },
          "metadata": {
            "tags": []
          },
          "execution_count": 74
        }
      ]
    },
    {
      "cell_type": "code",
      "metadata": {
        "id": "ZbLvyy-HNAO5",
        "colab_type": "code",
        "colab": {}
      },
      "source": [
        "def newstring(string):\n",
        "  if len(string)>=2 and string[:2]==\"Is\":\n",
        "    return string\n",
        "  else:\n",
        "    return \"Is\" + string"
      ],
      "execution_count": 0,
      "outputs": []
    },
    {
      "cell_type": "code",
      "metadata": {
        "id": "mOzCZR7aPCbU",
        "colab_type": "code",
        "outputId": "8ae6c5c9-cd38-4ca9-d892-fe6e867c8be6",
        "colab": {
          "base_uri": "https://localhost:8080/",
          "height": 34
        }
      },
      "source": [
        "newstring(\" your setup working?\")"
      ],
      "execution_count": 0,
      "outputs": [
        {
          "output_type": "execute_result",
          "data": {
            "text/plain": [
              "'Is your setup working?'"
            ]
          },
          "metadata": {
            "tags": []
          },
          "execution_count": 83
        }
      ]
    },
    {
      "cell_type": "code",
      "metadata": {
        "id": "lTDSNXJDPO-9",
        "colab_type": "code",
        "outputId": "59c060db-22b1-446c-dc7f-3c2ad75c65bd",
        "colab": {
          "base_uri": "https://localhost:8080/",
          "height": 34
        }
      },
      "source": [
        "newstring(\"Is your baby small?\")"
      ],
      "execution_count": 0,
      "outputs": [
        {
          "output_type": "execute_result",
          "data": {
            "text/plain": [
              "'Is your baby small?'"
            ]
          },
          "metadata": {
            "tags": []
          },
          "execution_count": 85
        }
      ]
    },
    {
      "cell_type": "code",
      "metadata": {
        "id": "N_6er1f5Ptth",
        "colab_type": "code",
        "colab": {}
      },
      "source": [
        "def string(str):\n",
        "  a=int(input(\"Enter any integer value\"))\n",
        "  return str * a"
      ],
      "execution_count": 0,
      "outputs": []
    },
    {
      "cell_type": "code",
      "metadata": {
        "id": "3EQs4wPVQwIK",
        "colab_type": "code",
        "outputId": "4b2c3a2f-9c75-42dc-95a4-7014dbe63f9a",
        "colab": {
          "base_uri": "https://localhost:8080/",
          "height": 51
        }
      },
      "source": [
        "string(\"apple \")"
      ],
      "execution_count": 0,
      "outputs": [
        {
          "output_type": "stream",
          "text": [
            "Enter any integer value3\n"
          ],
          "name": "stdout"
        },
        {
          "output_type": "execute_result",
          "data": {
            "text/plain": [
              "'apple apple apple '"
            ]
          },
          "metadata": {
            "tags": []
          },
          "execution_count": 96
        }
      ]
    },
    {
      "cell_type": "code",
      "metadata": {
        "id": "4ZE8iUaNQ4dB",
        "colab_type": "code",
        "colab": {}
      },
      "source": [
        "def newstring(anystr,n):\n",
        "  for i in range (n):\n",
        "    return anystr*n\n"
      ],
      "execution_count": 0,
      "outputs": []
    },
    {
      "cell_type": "code",
      "metadata": {
        "id": "JquxfBTeSRpA",
        "colab_type": "code",
        "outputId": "12d6cfaa-8e60-4151-a0db-15952816a830",
        "colab": {
          "base_uri": "https://localhost:8080/",
          "height": 34
        }
      },
      "source": [
        "print(newstring(\"chiku \",4))"
      ],
      "execution_count": 0,
      "outputs": [
        {
          "output_type": "stream",
          "text": [
            "chiku chiku chiku chiku \n"
          ],
          "name": "stdout"
        }
      ]
    },
    {
      "cell_type": "code",
      "metadata": {
        "id": "lmxFXD5wSmyG",
        "colab_type": "code",
        "colab": {}
      },
      "source": [
        "def oddeven(number):\n",
        "  if number%2==0:\n",
        "    print(\"Even\")\n",
        "  else:\n",
        "    print(\"odd\")"
      ],
      "execution_count": 0,
      "outputs": []
    },
    {
      "cell_type": "code",
      "metadata": {
        "id": "gUesfltcUEI4",
        "colab_type": "code",
        "outputId": "50a4ec93-279a-4300-808a-a82aa3c01f05",
        "colab": {
          "base_uri": "https://localhost:8080/",
          "height": 34
        }
      },
      "source": [
        "oddeven(5)"
      ],
      "execution_count": 0,
      "outputs": [
        {
          "output_type": "stream",
          "text": [
            "odd\n"
          ],
          "name": "stdout"
        }
      ]
    },
    {
      "cell_type": "code",
      "metadata": {
        "id": "i4CLjSTXUGM9",
        "colab_type": "code",
        "outputId": "6e38464c-e7a6-4914-ee9b-adf9c611c923",
        "colab": {
          "base_uri": "https://localhost:8080/",
          "height": 34
        }
      },
      "source": [
        "oddeven(6)"
      ],
      "execution_count": 0,
      "outputs": [
        {
          "output_type": "stream",
          "text": [
            "Even\n"
          ],
          "name": "stdout"
        }
      ]
    },
    {
      "cell_type": "code",
      "metadata": {
        "id": "ZwyJ99h8USad",
        "colab_type": "code",
        "colab": {}
      },
      "source": [
        "import numpy as np"
      ],
      "execution_count": 0,
      "outputs": []
    },
    {
      "cell_type": "code",
      "metadata": {
        "id": "fhQLjCtWUlhM",
        "colab_type": "code",
        "outputId": "a770d8c6-dc35-4d0f-873a-b934f62e366b",
        "colab": {
          "base_uri": "https://localhost:8080/",
          "height": 34
        }
      },
      "source": [
        "array=[1,4,5,6,4,7,4]\n",
        "array.count(4)"
      ],
      "execution_count": 0,
      "outputs": [
        {
          "output_type": "execute_result",
          "data": {
            "text/plain": [
              "3"
            ]
          },
          "metadata": {
            "tags": []
          },
          "execution_count": 104
        }
      ]
    },
    {
      "cell_type": "code",
      "metadata": {
        "id": "b2NJLUhdUsMD",
        "colab_type": "code",
        "outputId": "b2f8cc75-1e80-48a4-9751-08ad2d9a3444",
        "colab": {
          "base_uri": "https://localhost:8080/",
          "height": 34
        }
      },
      "source": [
        "array\n",
        "\n",
        "\n",
        "\n",
        "\n"
      ],
      "execution_count": 0,
      "outputs": [
        {
          "output_type": "execute_result",
          "data": {
            "text/plain": [
              "[1, 4, 5, 6, 4, 7, 4]"
            ]
          },
          "metadata": {
            "tags": []
          },
          "execution_count": 110
        }
      ]
    },
    {
      "cell_type": "code",
      "metadata": {
        "id": "UOx2ymp1WARE",
        "colab_type": "code",
        "outputId": "84d41671-8371-4b8e-d66c-ccb479a36c61",
        "colab": {
          "base_uri": "https://localhost:8080/",
          "height": 34
        }
      },
      "source": [
        "count=0\n",
        "for i in array:\n",
        "  \n",
        "  if i==4:\n",
        "    count=count+1\n",
        "print(count)"
      ],
      "execution_count": 0,
      "outputs": [
        {
          "output_type": "stream",
          "text": [
            "3\n"
          ],
          "name": "stdout"
        }
      ]
    },
    {
      "cell_type": "code",
      "metadata": {
        "id": "dvKh7prnWrDh",
        "colab_type": "code",
        "colab": {}
      },
      "source": [
        "def string(str,n):\n",
        "  if len(str)<2:\n",
        "    return str*n\n",
        "  else:\n",
        "    return str[:2]*n"
      ],
      "execution_count": 0,
      "outputs": []
    },
    {
      "cell_type": "code",
      "metadata": {
        "id": "Dw2OjFqyZsH8",
        "colab_type": "code",
        "outputId": "1018b454-8d62-4649-d175-14828dd5319a",
        "colab": {
          "base_uri": "https://localhost:8080/",
          "height": 34
        }
      },
      "source": [
        "string(\"a \",4)"
      ],
      "execution_count": 0,
      "outputs": [
        {
          "output_type": "execute_result",
          "data": {
            "text/plain": [
              "'a a a a '"
            ]
          },
          "metadata": {
            "tags": []
          },
          "execution_count": 125
        }
      ]
    },
    {
      "cell_type": "code",
      "metadata": {
        "id": "TVCeQJ2JaBlD",
        "colab_type": "code",
        "outputId": "26e99b28-c0b4-4218-ceef-709159a2f5dd",
        "colab": {
          "base_uri": "https://localhost:8080/",
          "height": 34
        }
      },
      "source": [
        "string(\"abcde \",3)"
      ],
      "execution_count": 0,
      "outputs": [
        {
          "output_type": "execute_result",
          "data": {
            "text/plain": [
              "'ababab'"
            ]
          },
          "metadata": {
            "tags": []
          },
          "execution_count": 128
        }
      ]
    },
    {
      "cell_type": "code",
      "metadata": {
        "id": "LNvt9sQnaLbr",
        "colab_type": "code",
        "colab": {}
      },
      "source": [
        "def vowel(x):\n",
        "  if x in [\"a\",\"e\",\"i\",\"o\",\"u\"]:\n",
        "    return True\n",
        "  else:\n",
        "    return False"
      ],
      "execution_count": 0,
      "outputs": []
    },
    {
      "cell_type": "code",
      "metadata": {
        "id": "ayssfcDLbWM7",
        "colab_type": "code",
        "outputId": "e84ee664-fbf0-431e-8cb5-12478dda4bee",
        "colab": {
          "base_uri": "https://localhost:8080/",
          "height": 34
        }
      },
      "source": [
        "vowel(\"u\")"
      ],
      "execution_count": 0,
      "outputs": [
        {
          "output_type": "execute_result",
          "data": {
            "text/plain": [
              "True"
            ]
          },
          "metadata": {
            "tags": []
          },
          "execution_count": 130
        }
      ]
    },
    {
      "cell_type": "code",
      "metadata": {
        "id": "VFadXe3ObYTd",
        "colab_type": "code",
        "colab": {}
      },
      "source": [
        "\n",
        "def mylist(list):\n",
        "  result=\"\"\n",
        "  for element in list:\n",
        "    result+=str(element)\n",
        "  return result"
      ],
      "execution_count": 0,
      "outputs": []
    },
    {
      "cell_type": "code",
      "metadata": {
        "id": "1IJEaCseeElj",
        "colab_type": "code",
        "outputId": "7b56dc2e-df25-4dbf-96d1-ace598f5eb0b",
        "colab": {
          "base_uri": "https://localhost:8080/",
          "height": 34
        }
      },
      "source": [
        "mylist([1,5,8,9])"
      ],
      "execution_count": 0,
      "outputs": [
        {
          "output_type": "execute_result",
          "data": {
            "text/plain": [
              "'1589'"
            ]
          },
          "metadata": {
            "tags": []
          },
          "execution_count": 144
        }
      ]
    },
    {
      "cell_type": "code",
      "metadata": {
        "id": "JGirmCo2ePiQ",
        "colab_type": "code",
        "outputId": "808188be-3fd9-4bfd-e0d2-674be46c4414",
        "colab": {
          "base_uri": "https://localhost:8080/",
          "height": 34
        }
      },
      "source": [
        "array"
      ],
      "execution_count": 0,
      "outputs": [
        {
          "output_type": "execute_result",
          "data": {
            "text/plain": [
              "[1, 4, 5, 6, 4, 7, 4]"
            ]
          },
          "metadata": {
            "tags": []
          },
          "execution_count": 135
        }
      ]
    },
    {
      "cell_type": "code",
      "metadata": {
        "id": "W7GdJT6Xes0v",
        "colab_type": "code",
        "colab": {}
      },
      "source": [
        "numbers = [    \n",
        "    386, 462, 47, 418, 907, 344, 236, 375, 823, 566, 597, 978, 328, 615, 953, 345, \n",
        "    399, 162, 758, 219, 918, 237, 412, 566, 826, 248, 866, 950, 626, 949, 687, 217, \n",
        "    815, 67, 104, 58, 512, 24, 892, 894, 767, 553, 81, 379, 843, 831, 445, 742, 717, \n",
        "    958,743, 527\n",
        "    ]"
      ],
      "execution_count": 0,
      "outputs": []
    },
    {
      "cell_type": "code",
      "metadata": {
        "id": "dbuX9GUfiWlb",
        "colab_type": "code",
        "colab": {}
      },
      "source": [
        "for i in numbers:\n",
        "  while i <=237:\n",
        "    if i%2==0:\n",
        "      print(i)"
      ],
      "execution_count": 0,
      "outputs": []
    },
    {
      "cell_type": "code",
      "metadata": {
        "id": "h1kwlMqBiox-",
        "colab_type": "code",
        "colab": {}
      },
      "source": [
        "print(\"hello\")"
      ],
      "execution_count": 0,
      "outputs": []
    },
    {
      "cell_type": "code",
      "metadata": {
        "id": "GQhu9AkSjeNN",
        "colab_type": "code",
        "colab": {}
      },
      "source": [
        ""
      ],
      "execution_count": 0,
      "outputs": []
    }
  ]
}
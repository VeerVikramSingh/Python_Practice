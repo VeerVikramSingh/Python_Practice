{
  "nbformat": 4,
  "nbformat_minor": 0,
  "metadata": {
    "colab": {
      "name": "python_practice_2.ipynb",
      "provenance": [],
      "collapsed_sections": [],
      "include_colab_link": true
    },
    "kernelspec": {
      "name": "python3",
      "display_name": "Python 3"
    }
  },
  "cells": [
    {
      "cell_type": "markdown",
      "metadata": {
        "id": "view-in-github",
        "colab_type": "text"
      },
      "source": [
        "<a href=\"https://colab.research.google.com/github/vitm31/Python_Practice/blob/master/python_practice_2.ipynb\" target=\"_parent\"><img src=\"https://colab.research.google.com/assets/colab-badge.svg\" alt=\"Open In Colab\"/></a>"
      ]
    },
    {
      "cell_type": "code",
      "metadata": {
        "id": "ZJZ9ZxLJl08-",
        "colab_type": "code",
        "outputId": "94c657b3-57f1-4f79-91c9-e37ab98b33fe",
        "colab": {
          "base_uri": "https://localhost:8080/",
          "height": 34
        }
      },
      "source": [
        "print(\"Hello\")"
      ],
      "execution_count": 0,
      "outputs": [
        {
          "output_type": "stream",
          "text": [
            "Hello\n"
          ],
          "name": "stdout"
        }
      ]
    },
    {
      "cell_type": "code",
      "metadata": {
        "id": "6Qnt_5qal3dX",
        "colab_type": "code",
        "outputId": "4247f4af-1726-4a94-f827-5be089d29e1d",
        "colab": {
          "base_uri": "https://localhost:8080/",
          "height": 71
        }
      },
      "source": [
        "import keyword\n",
        "print(keyword.kwlist)\n",
        "len(keyword.kwlist)"
      ],
      "execution_count": 0,
      "outputs": [
        {
          "output_type": "stream",
          "text": [
            "['False', 'None', 'True', 'and', 'as', 'assert', 'break', 'class', 'continue', 'def', 'del', 'elif', 'else', 'except', 'finally', 'for', 'from', 'global', 'if', 'import', 'in', 'is', 'lambda', 'nonlocal', 'not', 'or', 'pass', 'raise', 'return', 'try', 'while', 'with', 'yield']\n"
          ],
          "name": "stdout"
        },
        {
          "output_type": "execute_result",
          "data": {
            "text/plain": [
              "33"
            ]
          },
          "metadata": {
            "tags": []
          },
          "execution_count": 2
        }
      ]
    },
    {
      "cell_type": "code",
      "metadata": {
        "id": "T1SJ2r7gAIQ6",
        "colab_type": "code",
        "colab": {}
      },
      "source": [
        "def square(num):\n",
        "  \"\"\"\n",
        "  this function will give square of any given number\n",
        "  \"\"\"\n",
        "  return num*num\n",
        "  "
      ],
      "execution_count": 0,
      "outputs": []
    },
    {
      "cell_type": "code",
      "metadata": {
        "id": "jZ758X2tCAMU",
        "colab_type": "code",
        "outputId": "d49a7059-07b8-4023-ad61-938bb6622f65",
        "colab": {
          "base_uri": "https://localhost:8080/",
          "height": 34
        }
      },
      "source": [
        "print(square(30))"
      ],
      "execution_count": 0,
      "outputs": [
        {
          "output_type": "stream",
          "text": [
            "900\n"
          ],
          "name": "stdout"
        }
      ]
    },
    {
      "cell_type": "code",
      "metadata": {
        "id": "LysDIvRgCPlq",
        "colab_type": "code",
        "outputId": "d933785b-8de1-479e-a470-5a5d653c51f8",
        "colab": {
          "base_uri": "https://localhost:8080/",
          "height": 68
        }
      },
      "source": [
        "print(square.__doc__)"
      ],
      "execution_count": 0,
      "outputs": [
        {
          "output_type": "stream",
          "text": [
            "\n",
            "  this function will give square of any given number\n",
            "  \n"
          ],
          "name": "stdout"
        }
      ]
    },
    {
      "cell_type": "code",
      "metadata": {
        "id": "PgNH3THlCVUK",
        "colab_type": "code",
        "outputId": "44b2be2c-0340-4ed9-8d46-74804490a5f4",
        "colab": {
          "base_uri": "https://localhost:8080/",
          "height": 68
        }
      },
      "source": [
        "for i in range(1,4):\n",
        "  print(i)"
      ],
      "execution_count": 0,
      "outputs": [
        {
          "output_type": "stream",
          "text": [
            "1\n",
            "2\n",
            "3\n"
          ],
          "name": "stdout"
        }
      ]
    },
    {
      "cell_type": "code",
      "metadata": {
        "id": "rxWEQEWwDJ5b",
        "colab_type": "code",
        "outputId": "8b7dfaaf-7379-41b9-8206-aeb7dd8b3319",
        "colab": {
          "base_uri": "https://localhost:8080/",
          "height": 34
        }
      },
      "source": [
        "integer_number,decimal_number,string_value=10,22.7,\"veer\"\n",
        "print(integer_number,decimal_number,string_value)"
      ],
      "execution_count": 0,
      "outputs": [
        {
          "output_type": "stream",
          "text": [
            "10 22.7 veer\n"
          ],
          "name": "stdout"
        }
      ]
    },
    {
      "cell_type": "code",
      "metadata": {
        "id": "HuiwlhiyIUZm",
        "colab_type": "code",
        "outputId": "544e4553-cfa5-46b1-ab06-b4c18854435d",
        "colab": {
          "base_uri": "https://localhost:8080/",
          "height": 34
        }
      },
      "source": [
        "variable1=variable2=variable3=\"all variables have same value\"\n",
        "print(variable1,variable2,variable3)"
      ],
      "execution_count": 0,
      "outputs": [
        {
          "output_type": "stream",
          "text": [
            "all variables have same value all variables have same value all variables have same value\n"
          ],
          "name": "stdout"
        }
      ]
    },
    {
      "cell_type": "code",
      "metadata": {
        "id": "9otpgbLYIusa",
        "colab_type": "code",
        "outputId": "9760dedb-3a8e-48ae-f8be-0bb080f98abc",
        "colab": {
          "base_uri": "https://localhost:8080/",
          "height": 51
        }
      },
      "source": [
        "print(id(integer_number))\n",
        "print(id(decimal_number))"
      ],
      "execution_count": 0,
      "outputs": [
        {
          "output_type": "stream",
          "text": [
            "10914784\n",
            "139635334252704\n"
          ],
          "name": "stdout"
        }
      ]
    },
    {
      "cell_type": "code",
      "metadata": {
        "id": "g24SwmR3JTYu",
        "colab_type": "code",
        "outputId": "f75a8cc5-76f1-47f0-b709-88bd0984e228",
        "colab": {
          "base_uri": "https://localhost:8080/",
          "height": 51
        }
      },
      "source": [
        "print(id(variable1))\n",
        "print(id(variable2))"
      ],
      "execution_count": 0,
      "outputs": [
        {
          "output_type": "stream",
          "text": [
            "139635324716256\n",
            "139635324716256\n"
          ],
          "name": "stdout"
        }
      ]
    },
    {
      "cell_type": "code",
      "metadata": {
        "id": "e3fVv85vJZ4U",
        "colab_type": "code",
        "colab": {}
      },
      "source": [
        "data1=12\n",
        "data2=25.7\n",
        "data3=10+20j"
      ],
      "execution_count": 0,
      "outputs": []
    },
    {
      "cell_type": "code",
      "metadata": {
        "id": "dchiTnnzNcYZ",
        "colab_type": "code",
        "outputId": "f88f92dd-dee0-4719-9041-011eaa1fead2",
        "colab": {
          "base_uri": "https://localhost:8080/",
          "height": 68
        }
      },
      "source": [
        "print(\"data1 is of type:\",type(data1))\n",
        "print(\"data2 is of type:\",type(data2))\n",
        "print(\"10+20j is of type complex?\", isinstance (data3,complex))"
      ],
      "execution_count": 0,
      "outputs": [
        {
          "output_type": "stream",
          "text": [
            "data1 is of type: <class 'int'>\n",
            "data2 is of type: <class 'float'>\n",
            "10+20j is of type complex? True\n"
          ],
          "name": "stdout"
        }
      ]
    },
    {
      "cell_type": "code",
      "metadata": {
        "id": "e_aHeXccOJGs",
        "colab_type": "code",
        "outputId": "e1f6029a-7106-4cf3-9c85-8e7578bad72c",
        "colab": {
          "base_uri": "https://localhost:8080/",
          "height": 34
        }
      },
      "source": [
        "print(\"30+40j is of type complex?\",isinstance(30+40j,complex))"
      ],
      "execution_count": 0,
      "outputs": [
        {
          "output_type": "stream",
          "text": [
            "30+40j is of type complex? True\n"
          ],
          "name": "stdout"
        }
      ]
    },
    {
      "cell_type": "code",
      "metadata": {
        "id": "x6viTy4ZPLb3",
        "colab_type": "code",
        "outputId": "609c49b9-3c71-4e29-8815-0b8d2604cc7a",
        "colab": {
          "base_uri": "https://localhost:8080/",
          "height": 34
        }
      },
      "source": [
        "boolean_variable=True\n",
        "print(type(boolean_variable))"
      ],
      "execution_count": 0,
      "outputs": [
        {
          "output_type": "stream",
          "text": [
            "<class 'bool'>\n"
          ],
          "name": "stdout"
        }
      ]
    },
    {
      "cell_type": "code",
      "metadata": {
        "id": "1q22kK6APZE9",
        "colab_type": "code",
        "outputId": "dcebb924-77ba-48b9-d1b2-7556cda675f9",
        "colab": {
          "base_uri": "https://localhost:8080/",
          "height": 34
        }
      },
      "source": [
        "string_variable=\"This is string variable\"\n",
        "print(\"String variable is:\",string_variable)"
      ],
      "execution_count": 0,
      "outputs": [
        {
          "output_type": "stream",
          "text": [
            "String variable is: This is string variable\n"
          ],
          "name": "stdout"
        }
      ]
    },
    {
      "cell_type": "code",
      "metadata": {
        "id": "IuPxW8UiQpJV",
        "colab_type": "code",
        "outputId": "404f8f59-6a86-46cb-abef-3ce2259c6906",
        "colab": {
          "base_uri": "https://localhost:8080/",
          "height": 34
        }
      },
      "source": [
        "print(\"First charac is:\",string_variable[0])"
      ],
      "execution_count": 0,
      "outputs": [
        {
          "output_type": "stream",
          "text": [
            "First charac is: T\n"
          ],
          "name": "stdout"
        }
      ]
    },
    {
      "cell_type": "code",
      "metadata": {
        "id": "TViC52miQxQZ",
        "colab_type": "code",
        "outputId": "5d402503-7062-4ac4-d101-ef2f46fd117f",
        "colab": {
          "base_uri": "https://localhost:8080/",
          "height": 34
        }
      },
      "source": [
        "string_variable[5:]"
      ],
      "execution_count": 0,
      "outputs": [
        {
          "output_type": "execute_result",
          "data": {
            "text/plain": [
              "'is string variable'"
            ]
          },
          "metadata": {
            "tags": []
          },
          "execution_count": 21
        }
      ]
    },
    {
      "cell_type": "code",
      "metadata": {
        "id": "zOonYwD7Q0nt",
        "colab_type": "code",
        "colab": {}
      },
      "source": [
        "my_list=[1,5,\"Third element\",12.4,20+10j,True]"
      ],
      "execution_count": 0,
      "outputs": []
    },
    {
      "cell_type": "code",
      "metadata": {
        "id": "3TaLpiGATEBc",
        "colab_type": "code",
        "outputId": "4d860e98-0e4d-4bfb-9b80-c2ed04a6e59a",
        "colab": {
          "base_uri": "https://localhost:8080/",
          "height": 51
        }
      },
      "source": [
        "print(my_list)\n",
        "my_list[2]"
      ],
      "execution_count": 0,
      "outputs": [
        {
          "output_type": "stream",
          "text": [
            "[1, 5, 'Third element', 12.4, (20+10j), True]\n"
          ],
          "name": "stdout"
        },
        {
          "output_type": "execute_result",
          "data": {
            "text/plain": [
              "'Third element'"
            ]
          },
          "metadata": {
            "tags": []
          },
          "execution_count": 23
        }
      ]
    },
    {
      "cell_type": "code",
      "metadata": {
        "id": "BPFZL2rDTMdu",
        "colab_type": "code",
        "outputId": "84fee7ae-786c-4f59-fb0a-34f4c8ef8029",
        "colab": {
          "base_uri": "https://localhost:8080/",
          "height": 34
        }
      },
      "source": [
        "my_list[2]=\"element three\"\n",
        "print(my_list)"
      ],
      "execution_count": 0,
      "outputs": [
        {
          "output_type": "stream",
          "text": [
            "[1, 5, 'element three', 12.4, (20+10j), True]\n"
          ],
          "name": "stdout"
        }
      ]
    },
    {
      "cell_type": "code",
      "metadata": {
        "id": "8qK04jUxTY97",
        "colab_type": "code",
        "colab": {}
      },
      "source": [
        "my_list.append(59.24)"
      ],
      "execution_count": 0,
      "outputs": []
    },
    {
      "cell_type": "code",
      "metadata": {
        "id": "XvyllwMuT6fo",
        "colab_type": "code",
        "outputId": "8aa1b921-57f9-4e94-d6d9-37f4fdd7139d",
        "colab": {
          "base_uri": "https://localhost:8080/",
          "height": 34
        }
      },
      "source": [
        "my_list"
      ],
      "execution_count": 0,
      "outputs": [
        {
          "output_type": "execute_result",
          "data": {
            "text/plain": [
              "[1, 5, 'element three', 12.4, (20+10j), True, 59.24]"
            ]
          },
          "metadata": {
            "tags": []
          },
          "execution_count": 26
        }
      ]
    },
    {
      "cell_type": "code",
      "metadata": {
        "id": "IEC3oqYtT9Is",
        "colab_type": "code",
        "outputId": "6cf0dd1f-53f1-4539-d526-615429ab5efe",
        "colab": {
          "base_uri": "https://localhost:8080/",
          "height": 34
        }
      },
      "source": [
        "my_list.remove(12.4)\n",
        "my_list.pop(2)"
      ],
      "execution_count": 0,
      "outputs": [
        {
          "output_type": "execute_result",
          "data": {
            "text/plain": [
              "'element three'"
            ]
          },
          "metadata": {
            "tags": []
          },
          "execution_count": 27
        }
      ]
    },
    {
      "cell_type": "code",
      "metadata": {
        "id": "rTJbJE46UMBH",
        "colab_type": "code",
        "outputId": "1ffb880a-f0da-4ace-8196-23a96c9231e2",
        "colab": {
          "base_uri": "https://localhost:8080/",
          "height": 34
        }
      },
      "source": [
        "my_list"
      ],
      "execution_count": 0,
      "outputs": [
        {
          "output_type": "execute_result",
          "data": {
            "text/plain": [
              "[1, 5, (20+10j), True, 59.24]"
            ]
          },
          "metadata": {
            "tags": []
          },
          "execution_count": 28
        }
      ]
    },
    {
      "cell_type": "code",
      "metadata": {
        "id": "4Y99mqAmUODW",
        "colab_type": "code",
        "colab": {}
      },
      "source": [
        "my_tuple=(10,20,30,\"my_text\")"
      ],
      "execution_count": 0,
      "outputs": []
    },
    {
      "cell_type": "code",
      "metadata": {
        "id": "ZPNiSZQdWXLd",
        "colab_type": "code",
        "outputId": "270c2316-da8a-4bc6-a642-911750a47567",
        "colab": {
          "base_uri": "https://localhost:8080/",
          "height": 34
        }
      },
      "source": [
        "my_tuple[2]\n"
      ],
      "execution_count": 0,
      "outputs": [
        {
          "output_type": "execute_result",
          "data": {
            "text/plain": [
              "30"
            ]
          },
          "metadata": {
            "tags": []
          },
          "execution_count": 31
        }
      ]
    },
    {
      "cell_type": "code",
      "metadata": {
        "id": "iOOAM2ZEWsGS",
        "colab_type": "code",
        "outputId": "215dc35d-c00e-41ca-cca7-8aee32a98885",
        "colab": {
          "base_uri": "https://localhost:8080/",
          "height": 163
        }
      },
      "source": [
        "my_tuple[3]=40"
      ],
      "execution_count": 0,
      "outputs": [
        {
          "output_type": "error",
          "ename": "TypeError",
          "evalue": "ignored",
          "traceback": [
            "\u001b[0;31m---------------------------------------------------------------------------\u001b[0m",
            "\u001b[0;31mTypeError\u001b[0m                                 Traceback (most recent call last)",
            "\u001b[0;32m<ipython-input-32-9d340f241c3d>\u001b[0m in \u001b[0;36m<module>\u001b[0;34m()\u001b[0m\n\u001b[0;32m----> 1\u001b[0;31m \u001b[0mmy_tuple\u001b[0m\u001b[0;34m[\u001b[0m\u001b[0;36m3\u001b[0m\u001b[0;34m]\u001b[0m\u001b[0;34m=\u001b[0m\u001b[0;36m40\u001b[0m\u001b[0;34m\u001b[0m\u001b[0;34m\u001b[0m\u001b[0m\n\u001b[0m",
            "\u001b[0;31mTypeError\u001b[0m: 'tuple' object does not support item assignment"
          ]
        }
      ]
    },
    {
      "cell_type": "code",
      "metadata": {
        "id": "-jm8SZ5gWwbD",
        "colab_type": "code",
        "outputId": "7f4eaeb0-ade9-40b8-8f1f-617780583b7c",
        "colab": {
          "base_uri": "https://localhost:8080/",
          "height": 34
        }
      },
      "source": [
        "my_set={10,20,30,20,40,50,40}\n",
        "my_set"
      ],
      "execution_count": 0,
      "outputs": [
        {
          "output_type": "execute_result",
          "data": {
            "text/plain": [
              "{10, 20, 30, 40, 50}"
            ]
          },
          "metadata": {
            "tags": []
          },
          "execution_count": 33
        }
      ]
    },
    {
      "cell_type": "code",
      "metadata": {
        "id": "NyQKrdtxXEIE",
        "colab_type": "code",
        "outputId": "bcfbc7da-1b87-4fa3-b424-b1d769c7a291",
        "colab": {
          "base_uri": "https://localhost:8080/",
          "height": 163
        }
      },
      "source": [
        "my_set[3]"
      ],
      "execution_count": 0,
      "outputs": [
        {
          "output_type": "error",
          "ename": "TypeError",
          "evalue": "ignored",
          "traceback": [
            "\u001b[0;31m---------------------------------------------------------------------------\u001b[0m",
            "\u001b[0;31mTypeError\u001b[0m                                 Traceback (most recent call last)",
            "\u001b[0;32m<ipython-input-34-f8dc66ded068>\u001b[0m in \u001b[0;36m<module>\u001b[0;34m()\u001b[0m\n\u001b[0;32m----> 1\u001b[0;31m \u001b[0mmy_set\u001b[0m\u001b[0;34m[\u001b[0m\u001b[0;36m3\u001b[0m\u001b[0;34m]\u001b[0m\u001b[0;34m\u001b[0m\u001b[0;34m\u001b[0m\u001b[0m\n\u001b[0m",
            "\u001b[0;31mTypeError\u001b[0m: 'set' object does not support indexing"
          ]
        }
      ]
    },
    {
      "cell_type": "code",
      "metadata": {
        "id": "HpbAdM4pXHYm",
        "colab_type": "code",
        "outputId": "27595dac-8016-479a-e2a7-eeaa45c9b1cc",
        "colab": {
          "base_uri": "https://localhost:8080/",
          "height": 34
        }
      },
      "source": [
        "my_dictionary={\"key1\":\"value1\",\"key2\":\"value2\",\"key3\":\"value3\"}\n",
        "print(my_dictionary[\"key2\"])\n",
        "my_dictionary[\"key2\"]=20"
      ],
      "execution_count": 0,
      "outputs": [
        {
          "output_type": "stream",
          "text": [
            "value2\n"
          ],
          "name": "stdout"
        }
      ]
    },
    {
      "cell_type": "code",
      "metadata": {
        "id": "Y5OugwNEZfHt",
        "colab_type": "code",
        "outputId": "0f79629a-a154-4a5a-857a-d3810ef176d9",
        "colab": {
          "base_uri": "https://localhost:8080/",
          "height": 34
        }
      },
      "source": [
        "my_dictionary"
      ],
      "execution_count": 0,
      "outputs": [
        {
          "output_type": "execute_result",
          "data": {
            "text/plain": [
              "{'key1': 'value1', 'key2': 20, 'key3': 'value3'}"
            ]
          },
          "metadata": {
            "tags": []
          },
          "execution_count": 38
        }
      ]
    },
    {
      "cell_type": "code",
      "metadata": {
        "id": "NC9aV8chZqQw",
        "colab_type": "code",
        "outputId": "5bcb8d84-c7ae-4faa-cac3-e2001fa04fd5",
        "colab": {
          "base_uri": "https://localhost:8080/",
          "height": 51
        }
      },
      "source": [
        "print(int(5.5))\n",
        "print(int(\"5\"))\n"
      ],
      "execution_count": 0,
      "outputs": [
        {
          "output_type": "stream",
          "text": [
            "5\n",
            "5\n"
          ],
          "name": "stdout"
        }
      ]
    },
    {
      "cell_type": "code",
      "metadata": {
        "id": "7yKX8jw7anRG",
        "colab_type": "code",
        "outputId": "7aa1b869-5dae-4e0d-f583-56c319171308",
        "colab": {
          "base_uri": "https://localhost:8080/",
          "height": 163
        }
      },
      "source": [
        "print(int(10+30j))"
      ],
      "execution_count": 0,
      "outputs": [
        {
          "output_type": "error",
          "ename": "TypeError",
          "evalue": "ignored",
          "traceback": [
            "\u001b[0;31m---------------------------------------------------------------------------\u001b[0m",
            "\u001b[0;31mTypeError\u001b[0m                                 Traceback (most recent call last)",
            "\u001b[0;32m<ipython-input-40-f2cdec903df9>\u001b[0m in \u001b[0;36m<module>\u001b[0;34m()\u001b[0m\n\u001b[0;32m----> 1\u001b[0;31m \u001b[0mprint\u001b[0m\u001b[0;34m(\u001b[0m\u001b[0mint\u001b[0m\u001b[0;34m(\u001b[0m\u001b[0;36m10\u001b[0m\u001b[0;34m+\u001b[0m\u001b[0;36m30j\u001b[0m\u001b[0;34m)\u001b[0m\u001b[0;34m)\u001b[0m\u001b[0;34m\u001b[0m\u001b[0;34m\u001b[0m\u001b[0m\n\u001b[0m",
            "\u001b[0;31mTypeError\u001b[0m: can't convert complex to int"
          ]
        }
      ]
    },
    {
      "cell_type": "code",
      "metadata": {
        "id": "3VHlN3XvawQ1",
        "colab_type": "code",
        "outputId": "d2d3a323-fd65-4b06-8726-b80af5829674",
        "colab": {
          "base_uri": "https://localhost:8080/",
          "height": 34
        }
      },
      "source": [
        "print(float(6))"
      ],
      "execution_count": 0,
      "outputs": [
        {
          "output_type": "stream",
          "text": [
            "6.0\n"
          ],
          "name": "stdout"
        }
      ]
    },
    {
      "cell_type": "code",
      "metadata": {
        "id": "Q0h4vnVgazfP",
        "colab_type": "code",
        "outputId": "dd5abd11-2413-4304-b153-2cb1d90a0372",
        "colab": {
          "base_uri": "https://localhost:8080/",
          "height": 163
        }
      },
      "source": [
        "print(int(\"5.6\"))"
      ],
      "execution_count": 0,
      "outputs": [
        {
          "output_type": "error",
          "ename": "ValueError",
          "evalue": "ignored",
          "traceback": [
            "\u001b[0;31m---------------------------------------------------------------------------\u001b[0m",
            "\u001b[0;31mValueError\u001b[0m                                Traceback (most recent call last)",
            "\u001b[0;32m<ipython-input-42-a3dc29ed60f6>\u001b[0m in \u001b[0;36m<module>\u001b[0;34m()\u001b[0m\n\u001b[0;32m----> 1\u001b[0;31m \u001b[0mprint\u001b[0m\u001b[0;34m(\u001b[0m\u001b[0mint\u001b[0m\u001b[0;34m(\u001b[0m\u001b[0;34m\"5.6\"\u001b[0m\u001b[0;34m)\u001b[0m\u001b[0;34m)\u001b[0m\u001b[0;34m\u001b[0m\u001b[0;34m\u001b[0m\u001b[0m\n\u001b[0m",
            "\u001b[0;31mValueError\u001b[0m: invalid literal for int() with base 10: '5.6'"
          ]
        }
      ]
    },
    {
      "cell_type": "code",
      "metadata": {
        "id": "3BRFZh1Aa3lv",
        "colab_type": "code",
        "outputId": "acc52cda-b5f5-4628-93c5-02108b9c5326",
        "colab": {
          "base_uri": "https://localhost:8080/",
          "height": 163
        }
      },
      "source": [
        "my_new_string=\"text1\"+20+\"text2\""
      ],
      "execution_count": 0,
      "outputs": [
        {
          "output_type": "error",
          "ename": "TypeError",
          "evalue": "ignored",
          "traceback": [
            "\u001b[0;31m---------------------------------------------------------------------------\u001b[0m",
            "\u001b[0;31mTypeError\u001b[0m                                 Traceback (most recent call last)",
            "\u001b[0;32m<ipython-input-43-36fb393b7430>\u001b[0m in \u001b[0;36m<module>\u001b[0;34m()\u001b[0m\n\u001b[0;32m----> 1\u001b[0;31m \u001b[0mmy_new_string\u001b[0m\u001b[0;34m=\u001b[0m\u001b[0;34m\"text1\"\u001b[0m\u001b[0;34m+\u001b[0m\u001b[0;36m20\u001b[0m\u001b[0;34m+\u001b[0m\u001b[0;34m\"text2\"\u001b[0m\u001b[0;34m\u001b[0m\u001b[0;34m\u001b[0m\u001b[0m\n\u001b[0m",
            "\u001b[0;31mTypeError\u001b[0m: must be str, not int"
          ]
        }
      ]
    },
    {
      "cell_type": "code",
      "metadata": {
        "id": "BEx4vd-7bJys",
        "colab_type": "code",
        "colab": {}
      },
      "source": [
        "my_new_string=\"text1 \"+str(20)+ \" text2\""
      ],
      "execution_count": 0,
      "outputs": []
    },
    {
      "cell_type": "code",
      "metadata": {
        "id": "Rsb0Z-BUbSUW",
        "colab_type": "code",
        "outputId": "69ff07e5-7e27-4523-9cd5-be6af9e07638",
        "colab": {
          "base_uri": "https://localhost:8080/",
          "height": 34
        }
      },
      "source": [
        "print(my_new_string)"
      ],
      "execution_count": 0,
      "outputs": [
        {
          "output_type": "stream",
          "text": [
            "text1 20 text2\n"
          ],
          "name": "stdout"
        }
      ]
    },
    {
      "cell_type": "code",
      "metadata": {
        "id": "Wz9-xRx9bU0C",
        "colab_type": "code",
        "outputId": "74951a67-a07d-4758-da1f-44ec31b6c36c",
        "colab": {
          "base_uri": "https://localhost:8080/",
          "height": 68
        }
      },
      "source": [
        "my_list=[\"a\",\"b\",\"c\",\"c\"]\n",
        "print(type(my_list))\n",
        "my_set=set(my_list)\n",
        "print(my_set)\n",
        "print(type(my_set))"
      ],
      "execution_count": 0,
      "outputs": [
        {
          "output_type": "stream",
          "text": [
            "<class 'list'>\n",
            "{'c', 'a', 'b'}\n",
            "<class 'set'>\n"
          ],
          "name": "stdout"
        }
      ]
    },
    {
      "cell_type": "code",
      "metadata": {
        "id": "VBr4nL4Jciae",
        "colab_type": "code",
        "outputId": "6b9cb618-447a-4e98-cdf1-632e4e0cb54a",
        "colab": {
          "base_uri": "https://localhost:8080/",
          "height": 68
        }
      },
      "source": [
        "my_string=(\"string to list conversion\")\n",
        "print(type(my_string))\n",
        "my_list=list(my_string)\n",
        "print(my_list)\n",
        "print(type(my_list))"
      ],
      "execution_count": 0,
      "outputs": [
        {
          "output_type": "stream",
          "text": [
            "<class 'str'>\n",
            "['s', 't', 'r', 'i', 'n', 'g', ' ', 't', 'o', ' ', 'l', 'i', 's', 't', ' ', 'c', 'o', 'n', 'v', 'e', 'r', 's', 'i', 'o', 'n']\n",
            "<class 'list'>\n"
          ],
          "name": "stdout"
        }
      ]
    },
    {
      "cell_type": "code",
      "metadata": {
        "id": "ePTa8WPYdMm_",
        "colab_type": "code",
        "outputId": "a8ab18c3-41f9-451f-9ac7-05f178450a11",
        "colab": {
          "base_uri": "https://localhost:8080/",
          "height": 34
        }
      },
      "source": [
        "my_int1=20\n",
        "my_int2=40\n",
        "print(\"my_int1:{} is half of my_int2:{}\".format(my_int1,my_int2))"
      ],
      "execution_count": 0,
      "outputs": [
        {
          "output_type": "stream",
          "text": [
            "my_int1:20 is half of my_int2:40\n"
          ],
          "name": "stdout"
        }
      ]
    },
    {
      "cell_type": "code",
      "metadata": {
        "id": "qZY_hgDiFi77",
        "colab_type": "code",
        "outputId": "dc19d84c-4947-4f7c-9782-72fd25cac32a",
        "colab": {
          "base_uri": "https://localhost:8080/",
          "height": 34
        }
      },
      "source": [
        "print(\"my_int2:{1} is double of my_int1:{0}\".format(my_int1,my_int2))"
      ],
      "execution_count": 0,
      "outputs": [
        {
          "output_type": "stream",
          "text": [
            "my_int2:40 is double of my_int1:20\n"
          ],
          "name": "stdout"
        }
      ]
    },
    {
      "cell_type": "code",
      "metadata": {
        "id": "--b8VTIeGvbD",
        "colab_type": "code",
        "outputId": "6ca2e8e9-c6c3-44ea-8fd8-2c85161e2d39",
        "colab": {
          "base_uri": "https://localhost:8080/",
          "height": 34
        }
      },
      "source": [
        "print(\"welcome {} to the class of {}\".format(\"veer\",\"datascience\"))"
      ],
      "execution_count": 0,
      "outputs": [
        {
          "output_type": "stream",
          "text": [
            "welcome veer to the class of datascience\n"
          ],
          "name": "stdout"
        }
      ]
    },
    {
      "cell_type": "code",
      "metadata": {
        "id": "I3wvLiV6HbNv",
        "colab_type": "code",
        "outputId": "b12996b9-93a1-46d7-948f-d67083350b98",
        "colab": {
          "base_uri": "https://localhost:8080/",
          "height": 34
        }
      },
      "source": [
        "print(\"Welcome {name} to the world of {ds}\".format(name=\"veer\",ds=\"data science\"))"
      ],
      "execution_count": 0,
      "outputs": [
        {
          "output_type": "stream",
          "text": [
            "Welcome veer to the world of data science\n"
          ],
          "name": "stdout"
        }
      ]
    },
    {
      "cell_type": "code",
      "metadata": {
        "id": "mRC2CnfJHmug",
        "colab_type": "code",
        "outputId": "43dc885d-8471-4471-a9a9-e674e5829453",
        "colab": {
          "base_uri": "https://localhost:8080/",
          "height": 51
        }
      },
      "source": [
        "user_input=input(\"please enter any value:\")\n",
        "print(user_input)"
      ],
      "execution_count": 0,
      "outputs": [
        {
          "output_type": "stream",
          "text": [
            "please enter any value:44\n",
            "44\n"
          ],
          "name": "stdout"
        }
      ]
    },
    {
      "cell_type": "code",
      "metadata": {
        "id": "f9g5-WpRH7bd",
        "colab_type": "code",
        "outputId": "2b4e00ba-817a-4dfb-d0f5-acd653d0669d",
        "colab": {
          "base_uri": "https://localhost:8080/",
          "height": 136
        }
      },
      "source": [
        "variable1, variable2 = 5, 2\n",
        "\n",
        "print(variable1 + variable2)  # Addition(+)\n",
        "\n",
        "print(variable1 - variable2)  # Subtraction(-)\n",
        "\n",
        "print(variable1 * variable2)  # Multiplication(*)\n",
        "\n",
        "print(variable1 / variable2)  # Division(/)\n",
        "\n",
        "print(variable1 % variable2)  # Modulo division (%)\n",
        "\n",
        "print(variable1 // variable2) # Floor Division (//)\n",
        "\n",
        "print(variable1 ** variable2) # Exponent (**)\n"
      ],
      "execution_count": 0,
      "outputs": [
        {
          "output_type": "stream",
          "text": [
            "7\n",
            "3\n",
            "10\n",
            "2.5\n",
            "1\n",
            "2\n",
            "25\n"
          ],
          "name": "stdout"
        }
      ]
    },
    {
      "cell_type": "code",
      "metadata": {
        "id": "HEHUKs-vKA-g",
        "colab_type": "code",
        "outputId": "ff33b315-fd96-4db4-ece6-d4b0b2f6e978",
        "colab": {
          "base_uri": "https://localhost:8080/",
          "height": 119
        }
      },
      "source": [
        "variable1, variable2 = 5, 2         \n",
        "\n",
        "print(variable1 < variable2)   # Check if variable1 is less than variable2\n",
        "\n",
        "print(variable1 > variable2)   # Check if variable1 is greater than variable2\n",
        "\n",
        "print(variable1 == variable2)  # Check if variable1 is equal to variable2\n",
        "\n",
        "print(variable1 != variable2)  # Check if variable1 is not equal to variable2 (!=)\n",
        "\n",
        "print(variable1 >= variable2)  # Check if variable1 greater than or equal to variable2\n",
        "\n",
        "print(variable1 <= variable2)  # Check if variable1 less than or equal to variable2\n"
      ],
      "execution_count": 0,
      "outputs": [
        {
          "output_type": "stream",
          "text": [
            "False\n",
            "True\n",
            "False\n",
            "True\n",
            "True\n",
            "False\n"
          ],
          "name": "stdout"
        }
      ]
    },
    {
      "cell_type": "code",
      "metadata": {
        "id": "StMH5Rw-Kqpk",
        "colab_type": "code",
        "outputId": "9313c9ff-860c-4bf1-9086-fb620c0ff09f",
        "colab": {
          "base_uri": "https://localhost:8080/",
          "height": 68
        }
      },
      "source": [
        "variable1, variable2 = True, False\n",
        "\n",
        "print(variable1 and variable2)  # Print variable1 and variable2 \n",
        "\n",
        "# 0 0 0\n",
        "# 0 1 0\n",
        "# 1 0 0\n",
        "# 1 1 1\n",
        "\n",
        "print(variable1 or variable2)  # Print variable1 or variable2\n",
        "\n",
        "# 0 0 0\n",
        "# 0 1 1\n",
        "# 1 0 1\n",
        "# 1 1 1\n",
        "\n",
        "print(not variable2)           # Print not variable2\n"
      ],
      "execution_count": 0,
      "outputs": [
        {
          "output_type": "stream",
          "text": [
            "False\n",
            "True\n",
            "True\n"
          ],
          "name": "stdout"
        }
      ]
    },
    {
      "cell_type": "code",
      "metadata": {
        "id": "KlZKTlACK666",
        "colab_type": "code",
        "outputId": "1aaaaf94-93bc-4bf1-d937-ae6a460cf935",
        "colab": {
          "base_uri": "https://localhost:8080/",
          "height": 119
        }
      },
      "source": [
        "variable1, variable2 = 3, 7            # Decimal to bitwise values -> 3 - 0000 0011 & 7 - 0000 0111\n",
        "\n",
        "print(variable1 & variable2)           # Bitwise AND ->       0000 0011 & 0000 0111 -> 0000 0011 -> 3\n",
        "\n",
        "\n",
        "print(variable1 | variable2)           # Bitwise OR ->        0000 0011 | 0000 0111 -> 0000 0111 -> 7\n",
        "\n",
        "\n",
        "print(~variable2)                      # Bitwise NOT ->     ~ 0000 0111 -> 1111 1000 -> -8\n",
        "\n",
        "\n",
        "print(variable1 ^ variable2)           # Bitwise XOR ->       0000 0011 ^ 0000 0111 -> 0000 0100 -> 4\n",
        "\n",
        "\n",
        "print(variable1>>2)                    # Bitwise rightshift   0000 0011>>2 -> 0000 0000 -> 0\n",
        "\n",
        "\n",
        "print(variable1<<2)                    # Bitwise Leftshift    0000 0011<<2 -> 0000 1100 -> 12"
      ],
      "execution_count": 0,
      "outputs": [
        {
          "output_type": "stream",
          "text": [
            "3\n",
            "7\n",
            "-8\n",
            "4\n",
            "0\n",
            "12\n"
          ],
          "name": "stdout"
        }
      ]
    },
    {
      "cell_type": "code",
      "metadata": {
        "id": "enStLpMyLdXt",
        "colab_type": "code",
        "outputId": "3ee533f6-65b5-4b1d-c551-61aa224c2ca2",
        "colab": {
          "base_uri": "https://localhost:8080/",
          "height": 136
        }
      },
      "source": [
        "age = 40\n",
        "\n",
        "age += 4        # Add AND  <- age = age + 4\n",
        "print(age)\n",
        "\n",
        "age -= 7        # Subtract AND (-=)\n",
        "print(age)\n",
        "\n",
        "age *= 4        # Multiply AND (*=)\n",
        "print(age)\n",
        "\n",
        "age /= 4        # Divide AND (/=)\n",
        "print(age)\n",
        "\n",
        "age %= 20       # Modulus AND (%=)\n",
        "print(age)\n",
        "\n",
        "age //= 4       # Floor Division (//=)\n",
        "print(age)\n",
        "\n",
        "age **= 4       # Exponent AND (**=)\n",
        "print(age)"
      ],
      "execution_count": 0,
      "outputs": [
        {
          "output_type": "stream",
          "text": [
            "44\n",
            "37\n",
            "148\n",
            "37.0\n",
            "17.0\n",
            "4.0\n",
            "256.0\n"
          ],
          "name": "stdout"
        }
      ]
    },
    {
      "cell_type": "code",
      "metadata": {
        "id": "lnl9XxzIL8Mh",
        "colab_type": "code",
        "outputId": "8725b853-79c6-4191-c164-055d723a74e8",
        "colab": {
          "base_uri": "https://localhost:8080/",
          "height": 51
        }
      },
      "source": [
        "var1=20\n",
        "var2=20\n",
        "print(var1 is var2)\n",
        "print(var1 is not var2)"
      ],
      "execution_count": 0,
      "outputs": [
        {
          "output_type": "stream",
          "text": [
            "True\n",
            "False\n"
          ],
          "name": "stdout"
        }
      ]
    },
    {
      "cell_type": "code",
      "metadata": {
        "id": "pVKcEy0wNixr",
        "colab_type": "code",
        "outputId": "5ad61656-c782-4626-b547-d98635e12447",
        "colab": {
          "base_uri": "https://localhost:8080/",
          "height": 51
        }
      },
      "source": [
        "list_1=[1,2,3]\n",
        "list_2=[1,2,3]\n",
        "print(id(list_1))\n",
        "print(id(list_2))"
      ],
      "execution_count": 0,
      "outputs": [
        {
          "output_type": "stream",
          "text": [
            "140369376389192\n",
            "140369376389960\n"
          ],
          "name": "stdout"
        }
      ]
    },
    {
      "cell_type": "code",
      "metadata": {
        "id": "_VZfqjMoNvF1",
        "colab_type": "code",
        "outputId": "87d97ecb-07e9-4962-926c-acab258c14e2",
        "colab": {
          "base_uri": "https://localhost:8080/",
          "height": 34
        }
      },
      "source": [
        "print(list_1 is list_2)"
      ],
      "execution_count": 0,
      "outputs": [
        {
          "output_type": "stream",
          "text": [
            "False\n"
          ],
          "name": "stdout"
        }
      ]
    },
    {
      "cell_type": "code",
      "metadata": {
        "id": "-XVmvwaKN0I-",
        "colab_type": "code",
        "outputId": "6fe7c0ab-6d2b-4e58-fdc7-555da0a53caf",
        "colab": {
          "base_uri": "https://localhost:8080/",
          "height": 34
        }
      },
      "source": [
        "print(2 in list_1)"
      ],
      "execution_count": 0,
      "outputs": [
        {
          "output_type": "stream",
          "text": [
            "True\n"
          ],
          "name": "stdout"
        }
      ]
    },
    {
      "cell_type": "code",
      "metadata": {
        "id": "urKPGYNRN9ha",
        "colab_type": "code",
        "outputId": "a101c203-4e75-45a6-86e8-320ef5e35e74",
        "colab": {
          "base_uri": "https://localhost:8080/",
          "height": 34
        }
      },
      "source": [
        "print(\"b in list_2\")"
      ],
      "execution_count": 0,
      "outputs": [
        {
          "output_type": "stream",
          "text": [
            "b in list_2\n"
          ],
          "name": "stdout"
        }
      ]
    },
    {
      "cell_type": "code",
      "metadata": {
        "id": "ig5xgk_3OAeC",
        "colab_type": "code",
        "outputId": "2564d25d-8105-4b44-d337-5fb73d8fe09d",
        "colab": {
          "base_uri": "https://localhost:8080/",
          "height": 34
        }
      },
      "source": [
        "number=15\n",
        "if number>20:\n",
        "  print(\"inside if\")\n",
        "print(\"outside if\")"
      ],
      "execution_count": 0,
      "outputs": [
        {
          "output_type": "stream",
          "text": [
            "outside if\n"
          ],
          "name": "stdout"
        }
      ]
    },
    {
      "cell_type": "code",
      "metadata": {
        "id": "5uGWlHa-VBPc",
        "colab_type": "code",
        "outputId": "c5115f6f-1fae-4dce-bab9-0f559c656178",
        "colab": {
          "base_uri": "https://localhost:8080/",
          "height": 34
        }
      },
      "source": [
        "number=20\n",
        "if number>25:\n",
        "  print(\"Inside loop\")\n",
        "print(\"outside loop\")"
      ],
      "execution_count": 0,
      "outputs": [
        {
          "output_type": "stream",
          "text": [
            "outside loop\n"
          ],
          "name": "stdout"
        }
      ]
    },
    {
      "cell_type": "code",
      "metadata": {
        "id": "R34k8yaV5N4J",
        "colab_type": "code",
        "outputId": "981a52d1-251b-4f34-9df0-c7f74bc11c02",
        "colab": {
          "base_uri": "https://localhost:8080/",
          "height": 51
        }
      },
      "source": [
        "if -1:\n",
        "  print(\"Inside if\")\n",
        "print(\"Outside if\")"
      ],
      "execution_count": 0,
      "outputs": [
        {
          "output_type": "stream",
          "text": [
            "Inside if\n",
            "Outside if\n"
          ],
          "name": "stdout"
        }
      ]
    },
    {
      "cell_type": "code",
      "metadata": {
        "id": "AdL1CDG55Z9s",
        "colab_type": "code",
        "outputId": "bf128843-c8ec-4a54-b97a-d8d6ec22c046",
        "colab": {
          "base_uri": "https://localhost:8080/",
          "height": 34
        }
      },
      "source": [
        "value=-1\n",
        "print(bool(value))"
      ],
      "execution_count": 0,
      "outputs": [
        {
          "output_type": "stream",
          "text": [
            "True\n"
          ],
          "name": "stdout"
        }
      ]
    },
    {
      "cell_type": "code",
      "metadata": {
        "id": "U5YnxyEr6dRA",
        "colab_type": "code",
        "outputId": "5b59981c-268e-4886-f8da-2e2ccf21726c",
        "colab": {
          "base_uri": "https://localhost:8080/",
          "height": 34
        }
      },
      "source": [
        "age=12\n",
        "if age>18:\n",
        "  print(\"Adult\")\n",
        "else:\n",
        "  print(\"child\")"
      ],
      "execution_count": 0,
      "outputs": [
        {
          "output_type": "stream",
          "text": [
            "child\n"
          ],
          "name": "stdout"
        }
      ]
    },
    {
      "cell_type": "code",
      "metadata": {
        "id": "k3vcgvfr7Q-e",
        "colab_type": "code",
        "outputId": "5521d755-950a-416c-f16a-f1569358b13d",
        "colab": {
          "base_uri": "https://localhost:8080/",
          "height": 34
        }
      },
      "source": [
        "age=66\n",
        "if age>18:\n",
        "  print(\"adult\")\n",
        "elif age>14:\n",
        "  print(\"Teen\")\n",
        "else:\n",
        "  print(\"child\")\n",
        "  \n",
        "\n",
        "  \n"
      ],
      "execution_count": 0,
      "outputs": [
        {
          "output_type": "stream",
          "text": [
            "adult\n"
          ],
          "name": "stdout"
        }
      ]
    },
    {
      "cell_type": "code",
      "metadata": {
        "id": "RSZY6RjU8Wsj",
        "colab_type": "code",
        "outputId": "0f0df7a7-baa3-489c-be6d-dfddd8ed3119",
        "colab": {
          "base_uri": "https://localhost:8080/",
          "height": 34
        }
      },
      "source": [
        "age=7\n",
        "if age>14:\n",
        "  if age>18:\n",
        "    print(\"adult\")\n",
        "  else:\n",
        "    print(\"Teen\")\n",
        "else:\n",
        "  print(\"child\")\n",
        "  "
      ],
      "execution_count": 0,
      "outputs": [
        {
          "output_type": "stream",
          "text": [
            "child\n"
          ],
          "name": "stdout"
        }
      ]
    },
    {
      "cell_type": "code",
      "metadata": {
        "id": "8W9Pkpvg-a9X",
        "colab_type": "code",
        "outputId": "4f322297-b7f2-4167-8ae1-e7882c1d4f47",
        "colab": {
          "base_uri": "https://localhost:8080/",
          "height": 34
        }
      },
      "source": [
        "age=1\n",
        "if (age>14) and (age>18):\n",
        "  print(\"Adult\")\n",
        "elif (age>14):\n",
        "  print(\"teen\")\n",
        "else:\n",
        "  print(\"child\")"
      ],
      "execution_count": 0,
      "outputs": [
        {
          "output_type": "stream",
          "text": [
            "child\n"
          ],
          "name": "stdout"
        }
      ]
    },
    {
      "cell_type": "code",
      "metadata": {
        "id": "9nXYlc4H_ne0",
        "colab_type": "code",
        "outputId": "47d1ef08-13b1-4851-ab3b-aae11f53b51e",
        "colab": {
          "base_uri": "https://localhost:8080/",
          "height": 34
        }
      },
      "source": [
        "my_list=[1,2,3,4,5]\n",
        "sum=0\n",
        "index=0\n",
        "while index<=len(my_list):\n",
        "  sum+=index\n",
        "  index+=1\n",
        "print(sum)"
      ],
      "execution_count": 0,
      "outputs": [
        {
          "output_type": "stream",
          "text": [
            "15\n"
          ],
          "name": "stdout"
        }
      ]
    },
    {
      "cell_type": "code",
      "metadata": {
        "id": "ClnQYM75AD_S",
        "colab_type": "code",
        "outputId": "4aaae66a-8ec5-4bc4-a980-5cd055905fd5",
        "colab": {
          "base_uri": "https://localhost:8080/",
          "height": 102
        }
      },
      "source": [
        "my_list=[1,2,3,4,5]\n",
        "index=0\n",
        "while index<len(my_list):\n",
        "  print(my_list[index])\n",
        "  index+=1"
      ],
      "execution_count": 0,
      "outputs": [
        {
          "output_type": "stream",
          "text": [
            "1\n",
            "2\n",
            "3\n",
            "4\n",
            "5\n"
          ],
          "name": "stdout"
        }
      ]
    },
    {
      "cell_type": "code",
      "metadata": {
        "id": "SgU6HdgGBRhL",
        "colab_type": "code",
        "outputId": "3f9ede48-c174-4c04-ce73-da20b8a0256e",
        "colab": {
          "base_uri": "https://localhost:8080/",
          "height": 51
        }
      },
      "source": [
        "my_list=[1,2,3,4,5]\n",
        "index=0\n",
        "while index<len(my_list):\n",
        "  print(my_list[index])\n",
        "  break\n",
        "  index+=1\n",
        "print(\"print eitherway\")"
      ],
      "execution_count": 0,
      "outputs": [
        {
          "output_type": "stream",
          "text": [
            "1\n",
            "print eitherway\n"
          ],
          "name": "stdout"
        }
      ]
    },
    {
      "cell_type": "code",
      "metadata": {
        "id": "wP1EkpMRaSc4",
        "colab_type": "code",
        "colab": {
          "base_uri": "https://localhost:8080/",
          "height": 119
        },
        "outputId": "7c7dbcc3-4feb-4c72-a433-05f41a2381ef"
      },
      "source": [
        "new_list=[2,3,4,5,6]\n",
        "index=0\n",
        "while index<len(new_list):\n",
        "  print(new_list[index])\n",
        "  index+=1\n",
        "print(\"done\")"
      ],
      "execution_count": 5,
      "outputs": [
        {
          "output_type": "stream",
          "text": [
            "2\n",
            "3\n",
            "4\n",
            "5\n",
            "6\n",
            "done\n"
          ],
          "name": "stdout"
        }
      ]
    },
    {
      "cell_type": "code",
      "metadata": {
        "id": "qGIp-t5KbVuS",
        "colab_type": "code",
        "colab": {
          "base_uri": "https://localhost:8080/",
          "height": 51
        },
        "outputId": "3853b0c1-8475-4f8b-c829-385f4c12ba04"
      },
      "source": [
        "number=int(input(\"Enter any positive no.\"))\n",
        "fact=1\n",
        "if number>0:\n",
        "  while number>0:\n",
        "    \n",
        "    fact*=number\n",
        "    number-=1\n",
        "print(fact)"
      ],
      "execution_count": 7,
      "outputs": [
        {
          "output_type": "stream",
          "text": [
            "Enter any positive no.5\n",
            "120\n"
          ],
          "name": "stdout"
        }
      ]
    },
    {
      "cell_type": "code",
      "metadata": {
        "id": "ijUH7ckectG-",
        "colab_type": "code",
        "colab": {
          "base_uri": "https://localhost:8080/",
          "height": 34
        },
        "outputId": "2efb91cb-d901-4eed-cdb6-f01739ace004"
      },
      "source": [
        "myList = [1, 2, 3, 4, 5]\n",
        "sum=0\n",
        "for element in myList:\n",
        "  sum+=element\n",
        "print(sum)\n",
        "\n"
      ],
      "execution_count": 8,
      "outputs": [
        {
          "output_type": "stream",
          "text": [
            "15\n"
          ],
          "name": "stdout"
        }
      ]
    },
    {
      "cell_type": "code",
      "metadata": {
        "id": "OXYx500FeMXL",
        "colab_type": "code",
        "colab": {
          "base_uri": "https://localhost:8080/",
          "height": 102
        },
        "outputId": "1869d373-fbcc-4e47-a7ec-3916d41fce81"
      },
      "source": [
        "for element in range(5):\n",
        "  print(element)"
      ],
      "execution_count": 9,
      "outputs": [
        {
          "output_type": "stream",
          "text": [
            "0\n",
            "1\n",
            "2\n",
            "3\n",
            "4\n"
          ],
          "name": "stdout"
        }
      ]
    },
    {
      "cell_type": "code",
      "metadata": {
        "id": "_6KFW4Kqe2rf",
        "colab_type": "code",
        "colab": {
          "base_uri": "https://localhost:8080/",
          "height": 85
        },
        "outputId": "12c2906d-5b8c-45cc-a67f-8f56491171ba"
      },
      "source": [
        "for element in range(1,12,3):\n",
        "  print(element)"
      ],
      "execution_count": 11,
      "outputs": [
        {
          "output_type": "stream",
          "text": [
            "1\n",
            "4\n",
            "7\n",
            "10\n"
          ],
          "name": "stdout"
        }
      ]
    },
    {
      "cell_type": "code",
      "metadata": {
        "id": "gioiftyje-ep",
        "colab_type": "code",
        "colab": {
          "base_uri": "https://localhost:8080/",
          "height": 68
        },
        "outputId": "ece692bd-bb47-4908-bbae-d6c6194d6e13"
      },
      "source": [
        "names=[\"veer\",\"rima\",\"suresh\"]\n",
        "for name in names:\n",
        "  print(name)"
      ],
      "execution_count": 12,
      "outputs": [
        {
          "output_type": "stream",
          "text": [
            "veer\n",
            "rima\n",
            "suresh\n"
          ],
          "name": "stdout"
        }
      ]
    },
    {
      "cell_type": "code",
      "metadata": {
        "id": "Ap_knphlf9-K",
        "colab_type": "code",
        "colab": {
          "base_uri": "https://localhost:8080/",
          "height": 68
        },
        "outputId": "6f44278a-c15b-4dc3-96da-45cc7ce30a14"
      },
      "source": [
        "names=[\"veer\",\"rima\",\"suresh\"]\n",
        "for name in names:\n",
        "  print(name)\n",
        "  if name==\"rima\":\n",
        "    break\n",
        "else:\n",
        "\n",
        "  print(\"completed\")\n",
        "print(\"all done\")"
      ],
      "execution_count": 15,
      "outputs": [
        {
          "output_type": "stream",
          "text": [
            "veer\n",
            "rima\n",
            "all done\n"
          ],
          "name": "stdout"
        }
      ]
    },
    {
      "cell_type": "code",
      "metadata": {
        "id": "Q29-HGM2Z4gA",
        "colab_type": "code",
        "colab": {
          "base_uri": "https://localhost:8080/",
          "height": 51
        },
        "outputId": "59bea195-7941-4e4f-eaf7-1b4f9eba9730"
      },
      "source": [
        "names=[\"veer\",\"raju\",\"shyam\"]\n",
        "for name in names:\n",
        "  if name==\"shyam\":\n",
        "    break\n",
        "  print(name)\n"
      ],
      "execution_count": 5,
      "outputs": [
        {
          "output_type": "stream",
          "text": [
            "veer\n",
            "raju\n"
          ],
          "name": "stdout"
        }
      ]
    },
    {
      "cell_type": "code",
      "metadata": {
        "id": "7DAfxXlrdM9X",
        "colab_type": "code",
        "colab": {
          "base_uri": "https://localhost:8080/",
          "height": 51
        },
        "outputId": "34554fe6-e2c6-47df-f77e-78672e65f199"
      },
      "source": [
        "names=[\"veer\",\"raju\",\"shyam\"]\n",
        "for name in names:\n",
        "  if name==\"shyam\":\n",
        "    continue\n",
        "  print(name)"
      ],
      "execution_count": 6,
      "outputs": [
        {
          "output_type": "stream",
          "text": [
            "veer\n",
            "raju\n"
          ],
          "name": "stdout"
        }
      ]
    },
    {
      "cell_type": "code",
      "metadata": {
        "id": "jCVTA2mnd3TO",
        "colab_type": "code",
        "colab": {
          "base_uri": "https://localhost:8080/",
          "height": 51
        },
        "outputId": "306f1a5d-95e6-4b1b-f09e-735b3d2f479c"
      },
      "source": [
        "names=[\"veer\",\"raju\",\"shyam\"]\n",
        "for name in names:\n",
        "  if name==\"raju\":\n",
        "    continue\n",
        "  print(name)"
      ],
      "execution_count": 7,
      "outputs": [
        {
          "output_type": "stream",
          "text": [
            "veer\n",
            "shyam\n"
          ],
          "name": "stdout"
        }
      ]
    },
    {
      "cell_type": "code",
      "metadata": {
        "id": "7oW9nolPeDjr",
        "colab_type": "code",
        "colab": {}
      },
      "source": [
        "blankList = []                                      # Declare an empty List\n",
        "\n",
        "listOfString = ['apple','banana']                  # List of strings\n",
        "\n",
        "listOfNumbers = [12, 7.6,30,64]                   # List of integers\n",
        "list_of_list=[[1,2,3],[4,5,6]]"
      ],
      "execution_count": 0,
      "outputs": []
    },
    {
      "cell_type": "code",
      "metadata": {
        "id": "YGZ2L3uwgVhf",
        "colab_type": "code",
        "colab": {}
      },
      "source": [
        "list_mixed=[1,2,\"veer\",12.7]\n",
        "list_=[[1,2,3],4,5]"
      ],
      "execution_count": 0,
      "outputs": []
    },
    {
      "cell_type": "code",
      "metadata": {
        "id": "A3BSH2AognSx",
        "colab_type": "code",
        "colab": {
          "base_uri": "https://localhost:8080/",
          "height": 68
        },
        "outputId": "5dfa4eef-bcde-43eb-f78a-a2af611e7334"
      },
      "source": [
        "print(list_of_list)\n",
        "print(list_mixed)\n",
        "print(list_)"
      ],
      "execution_count": 10,
      "outputs": [
        {
          "output_type": "stream",
          "text": [
            "[[1, 2, 3], [4, 5, 6]]\n",
            "[1, 2, 'veer', 12.7]\n",
            "[[1, 2, 3], 4, 5]\n"
          ],
          "name": "stdout"
        }
      ]
    },
    {
      "cell_type": "code",
      "metadata": {
        "id": "f7kMmoPAgwzl",
        "colab_type": "code",
        "colab": {
          "base_uri": "https://localhost:8080/",
          "height": 34
        },
        "outputId": "7a3a5ae1-6984-4296-be90-97e78292e7a3"
      },
      "source": [
        "len(list_mixed)"
      ],
      "execution_count": 11,
      "outputs": [
        {
          "output_type": "execute_result",
          "data": {
            "text/plain": [
              "4"
            ]
          },
          "metadata": {
            "tags": []
          },
          "execution_count": 11
        }
      ]
    },
    {
      "cell_type": "code",
      "metadata": {
        "id": "MuJQZFVQhM3T",
        "colab_type": "code",
        "colab": {
          "base_uri": "https://localhost:8080/",
          "height": 34
        },
        "outputId": "68755a8c-ba6d-4a0b-9885-f90e7ae33d8e"
      },
      "source": [
        "lstOfMixedDataTypes = [55.4, 'Bill', 232, 14.4]\n",
        "lstOfMixedDataTypes.insert(2,\"gates\")\n",
        "print(lstOfMixedDataTypes)"
      ],
      "execution_count": 13,
      "outputs": [
        {
          "output_type": "stream",
          "text": [
            "[55.4, 'Bill', 'gates', 232, 14.4]\n"
          ],
          "name": "stdout"
        }
      ]
    },
    {
      "cell_type": "code",
      "metadata": {
        "id": "ZMtP0h38iK6S",
        "colab_type": "code",
        "colab": {}
      },
      "source": [
        "lstOfMixedDataTypes = [55.4, 'Bill', 232, 14.4]\n",
        "\n",
        "listOfNumbers = [12, 7.6, 30, 64]"
      ],
      "execution_count": 0,
      "outputs": []
    },
    {
      "cell_type": "code",
      "metadata": {
        "id": "XZ7TrOIqjAUZ",
        "colab_type": "code",
        "colab": {
          "base_uri": "https://localhost:8080/",
          "height": 51
        },
        "outputId": "2426ce12-3ec9-4f64-d30e-e5f580fd86d6"
      },
      "source": [
        "lstOfMixedDataTypes.append(listOfNumbers)\n",
        "print(lstOfMixedDataTypes)\n",
        "list_of_list.extend(list_mixed)\n",
        "print(list_of_list)"
      ],
      "execution_count": 15,
      "outputs": [
        {
          "output_type": "stream",
          "text": [
            "[55.4, 'Bill', 232, 14.4, [12, 7.6, 30, 64]]\n",
            "[[1, 2, 3], [4, 5, 6], 1, 2, 'veer', 12.7]\n"
          ],
          "name": "stdout"
        }
      ]
    },
    {
      "cell_type": "code",
      "metadata": {
        "id": "Qzd1xPS6j5KL",
        "colab_type": "code",
        "colab": {
          "base_uri": "https://localhost:8080/",
          "height": 68
        },
        "outputId": "b5661ab5-b45a-4b59-d623-c398d761b270"
      },
      "source": [
        "lstOfMixedDataTypes = [55.4, 'Bill', 232, 14.4]\n",
        "\n",
        "#del lstOfMixedDataTypes[2]                     # Using del keyword - index\n",
        "#del lstOfMixedDataTypes[1:3]                  # Using del keyword\n",
        "print(lstOfMixedDataTypes)\n",
        "\n",
        "\n",
        "itemDeleted = lstOfMixedDataTypes.pop(1)        # Using pop function - index\n",
        "print(itemDeleted)\n",
        "\n",
        "print(lstOfMixedDataTypes)"
      ],
      "execution_count": 16,
      "outputs": [
        {
          "output_type": "stream",
          "text": [
            "[55.4, 'Bill', 232, 14.4]\n",
            "Bill\n",
            "[55.4, 232, 14.4]\n"
          ],
          "name": "stdout"
        }
      ]
    },
    {
      "cell_type": "code",
      "metadata": {
        "id": "GK9_LgbjkbaQ",
        "colab_type": "code",
        "colab": {
          "base_uri": "https://localhost:8080/",
          "height": 34
        },
        "outputId": "47c093f1-8cf6-494c-8160-f2afd645da2a"
      },
      "source": [
        "lstOfMixedDataTypes = [55.4, 'Bill', 232, 14.4]\n",
        "\n",
        "\n",
        "lstOfMixedDataTypes.remove(232)                 # Using remove function - value\n",
        "\n",
        "print(lstOfMixedDataTypes)"
      ],
      "execution_count": 17,
      "outputs": [
        {
          "output_type": "stream",
          "text": [
            "[55.4, 'Bill', 14.4]\n"
          ],
          "name": "stdout"
        }
      ]
    },
    {
      "cell_type": "code",
      "metadata": {
        "id": "jgoVi89ckePL",
        "colab_type": "code",
        "colab": {
          "base_uri": "https://localhost:8080/",
          "height": 51
        },
        "outputId": "0a2c2f47-0c71-40c3-c5db-bed671817704"
      },
      "source": [
        "lstOfMixedDataTypes = [55.4, 'Bill', 232, 14.4]\n",
        "\n",
        "if 'Bill' in lstOfMixedDataTypes:\n",
        "    print('Found in list')\n",
        "    \n",
        "if 131 not in lstOfMixedDataTypes:\n",
        "    print('Not in the list')"
      ],
      "execution_count": 18,
      "outputs": [
        {
          "output_type": "stream",
          "text": [
            "Found in list\n",
            "Not in the list\n"
          ],
          "name": "stdout"
        }
      ]
    },
    {
      "cell_type": "code",
      "metadata": {
        "id": "lZLmQJoqkoOU",
        "colab_type": "code",
        "colab": {
          "base_uri": "https://localhost:8080/",
          "height": 34
        },
        "outputId": "4a379c7f-49a9-4b04-e11a-e0b6863e9cae"
      },
      "source": [
        "lstOfMixedDataTypes = [55.4, 'Bill', 232, 14.4]\n",
        "lstOfMixedDataTypes.reverse()\n",
        "print(lstOfMixedDataTypes)"
      ],
      "execution_count": 22,
      "outputs": [
        {
          "output_type": "stream",
          "text": [
            "[14.4, 232, 'Bill', 55.4]\n"
          ],
          "name": "stdout"
        }
      ]
    },
    {
      "cell_type": "code",
      "metadata": {
        "id": "H0l_XSUnm5Kx",
        "colab_type": "code",
        "colab": {
          "base_uri": "https://localhost:8080/",
          "height": 51
        },
        "outputId": "f845c7cd-d40c-4eee-8639-226b946a2b09"
      },
      "source": [
        "myList = [29, 12, 4, 7, 12]\n",
        "print(myList)\n",
        "sorted(myList)"
      ],
      "execution_count": 23,
      "outputs": [
        {
          "output_type": "stream",
          "text": [
            "[29, 12, 4, 7, 12]\n"
          ],
          "name": "stdout"
        },
        {
          "output_type": "execute_result",
          "data": {
            "text/plain": [
              "[4, 7, 12, 12, 29]"
            ]
          },
          "metadata": {
            "tags": []
          },
          "execution_count": 23
        }
      ]
    },
    {
      "cell_type": "code",
      "metadata": {
        "id": "DOzVXUNBnbpV",
        "colab_type": "code",
        "colab": {
          "base_uri": "https://localhost:8080/",
          "height": 34
        },
        "outputId": "4b8a4991-c157-47dc-ae78-94b213096d56"
      },
      "source": [
        "sorted(myList,reverse=True)"
      ],
      "execution_count": 24,
      "outputs": [
        {
          "output_type": "execute_result",
          "data": {
            "text/plain": [
              "[29, 12, 12, 7, 4]"
            ]
          },
          "metadata": {
            "tags": []
          },
          "execution_count": 24
        }
      ]
    },
    {
      "cell_type": "code",
      "metadata": {
        "id": "pD8OmdSHnl_R",
        "colab_type": "code",
        "colab": {}
      },
      "source": [
        "a=myList.sort()"
      ],
      "execution_count": 0,
      "outputs": []
    },
    {
      "cell_type": "code",
      "metadata": {
        "id": "pCw9gi-_nquw",
        "colab_type": "code",
        "colab": {
          "base_uri": "https://localhost:8080/",
          "height": 34
        },
        "outputId": "92357aa5-cdf8-4cfd-c88a-bf9079761404"
      },
      "source": [
        "print(a)"
      ],
      "execution_count": 29,
      "outputs": [
        {
          "output_type": "stream",
          "text": [
            "None\n"
          ],
          "name": "stdout"
        }
      ]
    },
    {
      "cell_type": "code",
      "metadata": {
        "id": "eI3Nob9HnzvS",
        "colab_type": "code",
        "colab": {}
      },
      "source": [
        "myString = \"apple,banana,grapes\"\n",
        "splitted_list=myString.split(\",\")"
      ],
      "execution_count": 0,
      "outputs": []
    },
    {
      "cell_type": "code",
      "metadata": {
        "id": "iVZUUpw0r3LP",
        "colab_type": "code",
        "colab": {
          "base_uri": "https://localhost:8080/",
          "height": 34
        },
        "outputId": "64c8b226-54a5-4ef9-b868-f509c406277f"
      },
      "source": [
        "print(splitted_list)"
      ],
      "execution_count": 31,
      "outputs": [
        {
          "output_type": "stream",
          "text": [
            "['apple', 'banana', 'grapes']\n"
          ],
          "name": "stdout"
        }
      ]
    },
    {
      "cell_type": "code",
      "metadata": {
        "id": "cBticHMyr5yt",
        "colab_type": "code",
        "colab": {
          "base_uri": "https://localhost:8080/",
          "height": 34
        },
        "outputId": "17fff76d-3bcc-40d2-c47e-3a31c2803302"
      },
      "source": [
        "myString = \"Let us split this string\"\n",
        "splitted_list=myString.split(\" \")\n",
        "print(splitted_list)"
      ],
      "execution_count": 34,
      "outputs": [
        {
          "output_type": "stream",
          "text": [
            "['Let', 'us', 'split', 'this', 'string']\n"
          ],
          "name": "stdout"
        }
      ]
    },
    {
      "cell_type": "code",
      "metadata": {
        "id": "oisFxUQJsgBU",
        "colab_type": "code",
        "colab": {
          "base_uri": "https://localhost:8080/",
          "height": 51
        },
        "outputId": "40fa1d45-d352-4614-9bca-acfe06892e49"
      },
      "source": [
        "myList = [29, 12, 4, 7, 12]\n",
        "\n",
        "print(myList[0])                       # Access the first element from start\n",
        "\n",
        "print(myList[-1])"
      ],
      "execution_count": 35,
      "outputs": [
        {
          "output_type": "stream",
          "text": [
            "29\n",
            "12\n"
          ],
          "name": "stdout"
        }
      ]
    },
    {
      "cell_type": "code",
      "metadata": {
        "id": "dVMlDrCWszM4",
        "colab_type": "code",
        "colab": {
          "base_uri": "https://localhost:8080/",
          "height": 68
        },
        "outputId": "876c0937-573c-48fa-d7af-f0c791dced38"
      },
      "source": [
        "listOfItems = [43, 2, 'Hundred', 13, 'Four',12 ,100]\n",
        "print(listOfItems[:])\n",
        "print(listOfItems[1:4])\n",
        "print(listOfItems[:-1])"
      ],
      "execution_count": 37,
      "outputs": [
        {
          "output_type": "stream",
          "text": [
            "[43, 2, 'Hundred', 13, 'Four', 12, 100]\n",
            "[2, 'Hundred', 13]\n",
            "[43, 2, 'Hundred', 13, 'Four', 12]\n"
          ],
          "name": "stdout"
        }
      ]
    },
    {
      "cell_type": "code",
      "metadata": {
        "id": "AGyFm8FjtYRW",
        "colab_type": "code",
        "colab": {
          "base_uri": "https://localhost:8080/",
          "height": 68
        },
        "outputId": "6f96bb2a-b0bf-47c8-fa17-73feac003971"
      },
      "source": [
        "print (listOfItems)\n",
        "\n",
        "print(listOfItems[::2])                                  # Stride for skipping elements\n",
        "\n",
        "print(listOfItems[2::2]) "
      ],
      "execution_count": 38,
      "outputs": [
        {
          "output_type": "stream",
          "text": [
            "[43, 2, 'Hundred', 13, 'Four', 12, 100]\n",
            "[43, 'Hundred', 'Four', 100]\n",
            "['Hundred', 'Four', 100]\n"
          ],
          "name": "stdout"
        }
      ]
    },
    {
      "cell_type": "code",
      "metadata": {
        "id": "TB843_ocv8fY",
        "colab_type": "code",
        "colab": {
          "base_uri": "https://localhost:8080/",
          "height": 34
        },
        "outputId": "b1be7b72-4daa-4cef-8882-be3d5b5d0902"
      },
      "source": [
        "listOfItems1 = [43, 2, 'Hundred', 13, 'Four',12 ,100]\n",
        "listOfItems2 = ['Hello', 19, 'One', 11]\n",
        "joinedList = listOfItems1 + listOfItems2 \n",
        "\n",
        "print(joinedList)"
      ],
      "execution_count": 39,
      "outputs": [
        {
          "output_type": "stream",
          "text": [
            "[43, 2, 'Hundred', 13, 'Four', 12, 100, 'Hello', 19, 'One', 11]\n"
          ],
          "name": "stdout"
        }
      ]
    },
    {
      "cell_type": "code",
      "metadata": {
        "id": "O-7qiz6BwE7-",
        "colab_type": "code",
        "colab": {
          "base_uri": "https://localhost:8080/",
          "height": 51
        },
        "outputId": "9ee38f2f-15c5-41a0-f718-4a43856fda89"
      },
      "source": [
        "listOfItems3 = [12, 43, 2, 'Hundred', 13, 'Four',12 ,100]\n",
        "\n",
        "print(listOfItems3.count(12))                           # Count number of 12 in the list\n",
        "\n",
        "print(listOfItems3.count('Hundred')) "
      ],
      "execution_count": 40,
      "outputs": [
        {
          "output_type": "stream",
          "text": [
            "2\n",
            "1\n"
          ],
          "name": "stdout"
        }
      ]
    },
    {
      "cell_type": "code",
      "metadata": {
        "id": "tZgAbUoIwg10",
        "colab_type": "code",
        "colab": {
          "base_uri": "https://localhost:8080/",
          "height": 34
        },
        "outputId": "cad97170-ee38-4302-9413-e0caa5027d7d"
      },
      "source": [
        "print(listOfItems3.count(43))"
      ],
      "execution_count": 42,
      "outputs": [
        {
          "output_type": "stream",
          "text": [
            "1\n"
          ],
          "name": "stdout"
        }
      ]
    },
    {
      "cell_type": "code",
      "metadata": {
        "id": "hvSLFk7LwtPM",
        "colab_type": "code",
        "colab": {
          "base_uri": "https://localhost:8080/",
          "height": 153
        },
        "outputId": "e07375a8-56db-4f9e-e44b-d4bebd1b1e70"
      },
      "source": [
        "listOfItems3 = [12, 43, 2, 'Hundred', 13, 'Four',12 ,100]\n",
        "\n",
        "for element in listOfItems3:\n",
        "    print(element)"
      ],
      "execution_count": 43,
      "outputs": [
        {
          "output_type": "stream",
          "text": [
            "12\n",
            "43\n",
            "2\n",
            "Hundred\n",
            "13\n",
            "Four\n",
            "12\n",
            "100\n"
          ],
          "name": "stdout"
        }
      ]
    },
    {
      "cell_type": "code",
      "metadata": {
        "id": "1vew8cG2w59U",
        "colab_type": "code",
        "colab": {
          "base_uri": "https://localhost:8080/",
          "height": 34
        },
        "outputId": "757b21a3-e048-49b8-d8fe-c527a0631f52"
      },
      "source": [
        "my_list=[i*i for i in range(4)]\n",
        "print(my_list)"
      ],
      "execution_count": 44,
      "outputs": [
        {
          "output_type": "stream",
          "text": [
            "[0, 1, 4, 9]\n"
          ],
          "name": "stdout"
        }
      ]
    },
    {
      "cell_type": "code",
      "metadata": {
        "id": "JKlquhLt4H16",
        "colab_type": "code",
        "colab": {
          "base_uri": "https://localhost:8080/",
          "height": 34
        },
        "outputId": "c2d785bd-136d-4f93-9a5c-0c24e9a7d840"
      },
      "source": [
        "my_list=[]\n",
        "my_list.append([i*i for i in range(5)])\n",
        "print(my_list)"
      ],
      "execution_count": 47,
      "outputs": [
        {
          "output_type": "stream",
          "text": [
            "[[0, 1, 4, 9, 16]]\n"
          ],
          "name": "stdout"
        }
      ]
    },
    {
      "cell_type": "code",
      "metadata": {
        "id": "ixHOwhFw4o66",
        "colab_type": "code",
        "colab": {
          "base_uri": "https://localhost:8080/",
          "height": 34
        },
        "outputId": "f5079547-c9f1-4be8-b1c6-bef7471052dd"
      },
      "source": [
        "print(\"hello\")"
      ],
      "execution_count": 46,
      "outputs": [
        {
          "output_type": "stream",
          "text": [
            "hello\n"
          ],
          "name": "stdout"
        }
      ]
    },
    {
      "cell_type": "code",
      "metadata": {
        "id": "g7IkjOSj4xiS",
        "colab_type": "code",
        "colab": {
          "base_uri": "https://localhost:8080/",
          "height": 34
        },
        "outputId": "10f02381-84f9-4ee3-c71d-e4ab5f21f357"
      },
      "source": [
        "my_list=[]\n",
        "for i in range(6):\n",
        "  my_list.append(i*i)\n",
        "print(my_list)"
      ],
      "execution_count": 48,
      "outputs": [
        {
          "output_type": "stream",
          "text": [
            "[0, 1, 4, 9, 16, 25]\n"
          ],
          "name": "stdout"
        }
      ]
    },
    {
      "cell_type": "code",
      "metadata": {
        "id": "YwKS447Y5W1r",
        "colab_type": "code",
        "colab": {
          "base_uri": "https://localhost:8080/",
          "height": 34
        },
        "outputId": "2c09be75-e092-4bb5-839d-c764d278b41b"
      },
      "source": [
        "my_matrix=[]\n",
        "[my_matrix.append([j for j in range(4) for i in range(3)])]\n",
        "print(my_matrix)"
      ],
      "execution_count": 55,
      "outputs": [
        {
          "output_type": "stream",
          "text": [
            "[[0, 0, 0, 1, 1, 1, 2, 2, 2, 3, 3, 3]]\n"
          ],
          "name": "stdout"
        }
      ]
    },
    {
      "cell_type": "code",
      "metadata": {
        "id": "qeFjipxW59uJ",
        "colab_type": "code",
        "colab": {
          "base_uri": "https://localhost:8080/",
          "height": 34
        },
        "outputId": "1a5c4bc5-effd-4f38-9a7c-f7d25aeed091"
      },
      "source": [
        "myList = [1, 2, 3, 4, 5, 6, 8]\n",
        "sq_list=[i*i for i in myList]\n",
        "print(sq_list)"
      ],
      "execution_count": 57,
      "outputs": [
        {
          "output_type": "stream",
          "text": [
            "[1, 4, 9, 16, 25, 36, 64]\n"
          ],
          "name": "stdout"
        }
      ]
    },
    {
      "cell_type": "code",
      "metadata": {
        "id": "DVyeCmrZ66kc",
        "colab_type": "code",
        "colab": {
          "base_uri": "https://localhost:8080/",
          "height": 34
        },
        "outputId": "48863083-3e42-49dc-ea83-c93b4ca28b4d"
      },
      "source": [
        "comb_list=[(i,i) for i in myList]\n",
        "print(comb_list)"
      ],
      "execution_count": 59,
      "outputs": [
        {
          "output_type": "stream",
          "text": [
            "[(1, 1), (2, 2), (3, 3), (4, 4), (5, 5), (6, 6), (8, 8)]\n"
          ],
          "name": "stdout"
        }
      ]
    },
    {
      "cell_type": "code",
      "metadata": {
        "id": "3zZGsg2F7aR-",
        "colab_type": "code",
        "colab": {
          "base_uri": "https://localhost:8080/",
          "height": 34
        },
        "outputId": "1d7e5679-e9ce-45ca-8440-7bea0a6a9c71"
      },
      "source": [
        "even_list=[i for i in myList if i%2==0]\n",
        "print(even_list)"
      ],
      "execution_count": 60,
      "outputs": [
        {
          "output_type": "stream",
          "text": [
            "[2, 4, 6, 8]\n"
          ],
          "name": "stdout"
        }
      ]
    },
    {
      "cell_type": "code",
      "metadata": {
        "id": "ANHUHl3z8AAO",
        "colab_type": "code",
        "colab": {
          "base_uri": "https://localhost:8080/",
          "height": 34
        },
        "outputId": "c155191c-8917-40a7-dc90-a23d60a9614f"
      },
      "source": [
        "my=[i*i for i in range(10) if i%2!=0]\n",
        "print(my)"
      ],
      "execution_count": 61,
      "outputs": [
        {
          "output_type": "stream",
          "text": [
            "[1, 9, 25, 49, 81]\n"
          ],
          "name": "stdout"
        }
      ]
    },
    {
      "cell_type": "code",
      "metadata": {
        "id": "eTbBRaYD8wbo",
        "colab_type": "code",
        "colab": {
          "base_uri": "https://localhost:8080/",
          "height": 68
        },
        "outputId": "5b9c9539-87b0-400f-adc4-6dc81e275faf"
      },
      "source": [
        "emptyTuple = ()                      # Create an empty tuple\n",
        "\n",
        "myNmberTuple = (12.2, 100, 12)      # Create a tuple having numbers\n",
        "print(myNmberTuple)\n",
        "\n",
        "myMixedTuple = ('x', 'y', 100, 'h')  # Create a mixed data types tuple\n",
        "print(myMixedTuple)\n",
        "\n",
        "myNestedTuple = ('Hello', 100, ('Welcome', 12, 11), [90,'same',26,'array'])     # Create a nested tuple\n",
        "print(myNestedTuple)"
      ],
      "execution_count": 63,
      "outputs": [
        {
          "output_type": "stream",
          "text": [
            "(12.2, 100, 12)\n",
            "('x', 'y', 100, 'h')\n",
            "('Hello', 100, ('Welcome', 12, 11), [90, 'same', 26, 'array'])\n"
          ],
          "name": "stdout"
        }
      ]
    },
    {
      "cell_type": "code",
      "metadata": {
        "id": "2S1QtQ-l87tz",
        "colab_type": "code",
        "colab": {
          "base_uri": "https://localhost:8080/",
          "height": 34
        },
        "outputId": "1c06409a-76d9-4342-87ed-c920569a663e"
      },
      "source": [
        "tuple_=(\"suchit\",)\n",
        "print(type(tuple_))"
      ],
      "execution_count": 1,
      "outputs": [
        {
          "output_type": "stream",
          "text": [
            "<class 'tuple'>\n"
          ],
          "name": "stdout"
        }
      ]
    },
    {
      "cell_type": "code",
      "metadata": {
        "id": "v7iqU9Z_kosA",
        "colab_type": "code",
        "colab": {
          "base_uri": "https://localhost:8080/",
          "height": 34
        },
        "outputId": "793d4b18-0562-43e3-9a55-7996f9dd9277"
      },
      "source": [
        "tuple_my=(\"tuple\",)\n",
        "type(tuple_my)"
      ],
      "execution_count": 4,
      "outputs": [
        {
          "output_type": "execute_result",
          "data": {
            "text/plain": [
              "tuple"
            ]
          },
          "metadata": {
            "tags": []
          },
          "execution_count": 4
        }
      ]
    },
    {
      "cell_type": "code",
      "metadata": {
        "id": "ENJv0FGIk5iE",
        "colab_type": "code",
        "colab": {
          "base_uri": "https://localhost:8080/",
          "height": 51
        },
        "outputId": "83c0b422-df82-42de-9a61-7202f36a143f"
      },
      "source": [
        "myTuple = ('Suchit', ('Rakesh', 'Roshni', 'Shireen'))       # Nested tuple\n",
        "\n",
        "print(myTuple[1])\n",
        "print(myTuple[1][2])"
      ],
      "execution_count": 5,
      "outputs": [
        {
          "output_type": "stream",
          "text": [
            "('Rakesh', 'Roshni', 'Shireen')\n",
            "Shireen\n"
          ],
          "name": "stdout"
        }
      ]
    },
    {
      "cell_type": "code",
      "metadata": {
        "id": "h3Sezn84lU0a",
        "colab_type": "code",
        "colab": {
          "base_uri": "https://localhost:8080/",
          "height": 68
        },
        "outputId": "2e3b6029-e701-4615-e8b9-d3cebfd84773"
      },
      "source": [
        "myTuple = (10,11,12,13,14,15)\n",
        "\n",
        "print(myTuple[2:5])                           # Slicing elements\n",
        "\n",
        "print(myTuple[-3:])                           # Print elements from starting to 3rd last elements\n",
        "\n",
        "print(myTuple[:])"
      ],
      "execution_count": 6,
      "outputs": [
        {
          "output_type": "stream",
          "text": [
            "(12, 13, 14)\n",
            "(13, 14, 15)\n",
            "(10, 11, 12, 13, 14, 15)\n"
          ],
          "name": "stdout"
        }
      ]
    },
    {
      "cell_type": "code",
      "metadata": {
        "id": "owmuFF6zlfAj",
        "colab_type": "code",
        "colab": {
          "base_uri": "https://localhost:8080/",
          "height": 68
        },
        "outputId": "df620e6b-c796-4109-f262-7c12e88e3ba0"
      },
      "source": [
        "myTuple = (11, 22, 33, 44, [55, 66, 77]) \n",
        "print(id(myTuple))\n",
        "myTuple[4][2]=\"Veer\"\n",
        "print(myTuple)\n",
        "print(id(myTuple))"
      ],
      "execution_count": 7,
      "outputs": [
        {
          "output_type": "stream",
          "text": [
            "139751481184680\n",
            "(11, 22, 33, 44, [55, 66, 'Veer'])\n",
            "139751481184680\n"
          ],
          "name": "stdout"
        }
      ]
    },
    {
      "cell_type": "code",
      "metadata": {
        "id": "bssBW8P6mSYy",
        "colab_type": "code",
        "colab": {
          "base_uri": "https://localhost:8080/",
          "height": 34
        },
        "outputId": "f5b73302-f8c0-47e6-e52e-34f9f24fec94"
      },
      "source": [
        "myTuple = (11, 22, 33) + (44, 55, 66)\n",
        "print(myTuple)"
      ],
      "execution_count": 8,
      "outputs": [
        {
          "output_type": "stream",
          "text": [
            "(11, 22, 33, 44, 55, 66)\n"
          ],
          "name": "stdout"
        }
      ]
    },
    {
      "cell_type": "code",
      "metadata": {
        "id": "XQG5T8Kgmbhj",
        "colab_type": "code",
        "colab": {
          "base_uri": "https://localhost:8080/",
          "height": 34
        },
        "outputId": "70003cdd-4f9c-4621-ed05-91f23dce69e5"
      },
      "source": [
        "my_tuple=((\"suchit\",)*4)\n",
        "print(my_tuple)"
      ],
      "execution_count": 10,
      "outputs": [
        {
          "output_type": "stream",
          "text": [
            "('suchit', 'suchit', 'suchit', 'suchit')\n"
          ],
          "name": "stdout"
        }
      ]
    },
    {
      "cell_type": "code",
      "metadata": {
        "id": "ROCFsaRumrXH",
        "colab_type": "code",
        "colab": {}
      },
      "source": [
        "myTuple = (3, 'veer', 45, 11, 'tree', 34)\n",
        "\n",
        "del myTuple  "
      ],
      "execution_count": 0,
      "outputs": []
    },
    {
      "cell_type": "code",
      "metadata": {
        "id": "fMhiylk4nC35",
        "colab_type": "code",
        "colab": {
          "base_uri": "https://localhost:8080/",
          "height": 34
        },
        "outputId": "e89186fd-8d32-4afd-8bbf-79634ad133be"
      },
      "source": [
        "myTuple = ('Suchit', 244, 'Suchit', 412, 'tree', 28, 11, 2)\n",
        "\n",
        "myTuple.count('Suchit') "
      ],
      "execution_count": 12,
      "outputs": [
        {
          "output_type": "execute_result",
          "data": {
            "text/plain": [
              "2"
            ]
          },
          "metadata": {
            "tags": []
          },
          "execution_count": 12
        }
      ]
    },
    {
      "cell_type": "code",
      "metadata": {
        "id": "B1w-pF0ynIAt",
        "colab_type": "code",
        "colab": {
          "base_uri": "https://localhost:8080/",
          "height": 34
        },
        "outputId": "732b6cc8-7471-4561-a8d7-71217065dea6"
      },
      "source": [
        "myTuple.index(28)"
      ],
      "execution_count": 13,
      "outputs": [
        {
          "output_type": "execute_result",
          "data": {
            "text/plain": [
              "5"
            ]
          },
          "metadata": {
            "tags": []
          },
          "execution_count": 13
        }
      ]
    },
    {
      "cell_type": "code",
      "metadata": {
        "id": "58ggkrxDnZE8",
        "colab_type": "code",
        "colab": {
          "base_uri": "https://localhost:8080/",
          "height": 51
        },
        "outputId": "2e7797d4-455e-4abf-8aed-ff9549ef9c5c"
      },
      "source": [
        "\n",
        "myTuple = (12,3,44,245,0.2,33)\n",
        "print(myTuple)\n",
        "\n",
        "sortedTuple = sorted(myTuple)                       # Returns a new sorted list. Does not change original tuple\n",
        "print(sortedTuple)"
      ],
      "execution_count": 14,
      "outputs": [
        {
          "output_type": "stream",
          "text": [
            "(12, 3, 44, 245, 0.2, 33)\n",
            "[0.2, 3, 12, 33, 44, 245]\n"
          ],
          "name": "stdout"
        }
      ]
    },
    {
      "cell_type": "code",
      "metadata": {
        "id": "LCKXM6bEnomg",
        "colab_type": "code",
        "colab": {
          "base_uri": "https://localhost:8080/",
          "height": 51
        },
        "outputId": "18bc17ff-d238-4918-c68d-304a634f731f"
      },
      "source": [
        "print(sum(myTuple))\n",
        "print(min(myTuple))"
      ],
      "execution_count": 15,
      "outputs": [
        {
          "output_type": "stream",
          "text": [
            "337.2\n",
            "0.2\n"
          ],
          "name": "stdout"
        }
      ]
    },
    {
      "cell_type": "code",
      "metadata": {
        "id": "lmxoNy7-oHl6",
        "colab_type": "code",
        "colab": {
          "base_uri": "https://localhost:8080/",
          "height": 34
        },
        "outputId": "214407c6-971a-4fb5-baef-29e3b65dac78"
      },
      "source": [
        "mySet = set([1,2,3,4,1])                  # We can make set from a list using set() method\n",
        "print(mySet)"
      ],
      "execution_count": 16,
      "outputs": [
        {
          "output_type": "stream",
          "text": [
            "{1, 2, 3, 4}\n"
          ],
          "name": "stdout"
        }
      ]
    },
    {
      "cell_type": "code",
      "metadata": {
        "id": "rMtqVgSVo7uY",
        "colab_type": "code",
        "colab": {
          "base_uri": "https://localhost:8080/",
          "height": 34
        },
        "outputId": "5826004f-3026-4446-adc4-5e720d559fa9"
      },
      "source": [
        "mySet.add(5)\n",
        "mySet.update([\"veer\",\"shyam\"])\n",
        "print(mySet)"
      ],
      "execution_count": 17,
      "outputs": [
        {
          "output_type": "stream",
          "text": [
            "{1, 2, 3, 4, 5, 'shyam', 'veer'}\n"
          ],
          "name": "stdout"
        }
      ]
    },
    {
      "cell_type": "code",
      "metadata": {
        "id": "F9gOwRzYpWs-",
        "colab_type": "code",
        "colab": {
          "base_uri": "https://localhost:8080/",
          "height": 68
        },
        "outputId": "017bc966-0814-40f1-8d8e-994bbdc8dbde"
      },
      "source": [
        "mySet = {11, 12, 13, 14, 15}\n",
        "print(mySet)\n",
        "\n",
        "mySet.remove(13)                   # 13 is removed from set mySet\n",
        "print(mySet)\n",
        "\n",
        "\n",
        "mySet.discard(14)                    # 14 is removed from set mySet\n",
        "print(mySet)"
      ],
      "execution_count": 18,
      "outputs": [
        {
          "output_type": "stream",
          "text": [
            "{11, 12, 13, 14, 15}\n",
            "{11, 12, 14, 15}\n",
            "{11, 12, 15}\n"
          ],
          "name": "stdout"
        }
      ]
    },
    {
      "cell_type": "code",
      "metadata": {
        "id": "cYpPxhQ4qshP",
        "colab_type": "code",
        "colab": {
          "base_uri": "https://localhost:8080/",
          "height": 34
        },
        "outputId": "1a1ac2f3-04e3-4630-a47b-cf6442fa6d73"
      },
      "source": [
        "mySet = {'abc', 12, 'efg', 1, 11}\n",
        "\n",
        "mySet.pop()                             # Removes a random element\n",
        "\n",
        "print(mySet)"
      ],
      "execution_count": 19,
      "outputs": [
        {
          "output_type": "stream",
          "text": [
            "{'abc', 11, 12, 'efg'}\n"
          ],
          "name": "stdout"
        }
      ]
    },
    {
      "cell_type": "code",
      "metadata": {
        "id": "xYae_yEDq49G",
        "colab_type": "code",
        "colab": {
          "base_uri": "https://localhost:8080/",
          "height": 34
        },
        "outputId": "4686c436-449c-44f2-b8ad-2a661859aab7"
      },
      "source": [
        "mySet = {'abc', 12, 'efg', 1, 11}\n",
        "\n",
        "mySet.clear()                           # Empty all items in\n",
        "\n",
        "print(mySet)"
      ],
      "execution_count": 20,
      "outputs": [
        {
          "output_type": "stream",
          "text": [
            "set()\n"
          ],
          "name": "stdout"
        }
      ]
    },
    {
      "cell_type": "code",
      "metadata": {
        "id": "RvDjVpQ2q9mB",
        "colab_type": "code",
        "colab": {
          "base_uri": "https://localhost:8080/",
          "height": 153
        },
        "outputId": "2c00388a-5949-4715-e10c-d857efa3ffb2"
      },
      "source": [
        "mySet1 = {1, 2, 3, 4, 5}\n",
        "mySet2 = {3, 4, 5, 6, 7}\n",
        "print(mySet1 | mySet2)\n",
        "print(mySet1.union(mySet2))\n",
        "print(mySet1 & mySet2)\n",
        "print(mySet1.intersection(mySet2))\n",
        "print(mySet1-mySet2)\n",
        "print(mySet1.difference(mySet2))\n",
        "print(mySet1 ^ mySet2)\n",
        "print(mySet1.symmetric_difference(mySet2))"
      ],
      "execution_count": 21,
      "outputs": [
        {
          "output_type": "stream",
          "text": [
            "{1, 2, 3, 4, 5, 6, 7}\n",
            "{1, 2, 3, 4, 5, 6, 7}\n",
            "{3, 4, 5}\n",
            "{3, 4, 5}\n",
            "{1, 2}\n",
            "{1, 2}\n",
            "{1, 2, 6, 7}\n",
            "{1, 2, 6, 7}\n"
          ],
          "name": "stdout"
        }
      ]
    },
    {
      "cell_type": "code",
      "metadata": {
        "id": "9EDQZ_Npto7l",
        "colab_type": "code",
        "colab": {}
      },
      "source": [
        "a = {1,2,3,4,5,6}\n",
        "b = {2,4}\n"
      ],
      "execution_count": 0,
      "outputs": []
    },
    {
      "cell_type": "code",
      "metadata": {
        "id": "l3Eri9gAuG8k",
        "colab_type": "code",
        "colab": {
          "base_uri": "https://localhost:8080/",
          "height": 34
        },
        "outputId": "ac0de4a3-0e1f-4fe1-c513-6be3721b4025"
      },
      "source": [
        "b.issubset(a)"
      ],
      "execution_count": 26,
      "outputs": [
        {
          "output_type": "execute_result",
          "data": {
            "text/plain": [
              "True"
            ]
          },
          "metadata": {
            "tags": []
          },
          "execution_count": 26
        }
      ]
    },
    {
      "cell_type": "code",
      "metadata": {
        "id": "BqpntNHsusCu",
        "colab_type": "code",
        "colab": {
          "base_uri": "https://localhost:8080/",
          "height": 51
        },
        "outputId": "5f5afa4b-564a-4bd6-e0b2-4c4b21ffc978"
      },
      "source": [
        "mySet1 = frozenset([1, 2, 3, 4, 5])\n",
        "mySet2 = frozenset([4, 5, 6, 7, 8])\n",
        "print(mySet1 ^ mySet2)                        # symmetric difference\n",
        "\n",
        "print(mySet1.symmetric_difference(mySet2))"
      ],
      "execution_count": 27,
      "outputs": [
        {
          "output_type": "stream",
          "text": [
            "frozenset({1, 2, 3, 6, 7, 8})\n",
            "frozenset({1, 2, 3, 6, 7, 8})\n"
          ],
          "name": "stdout"
        }
      ]
    },
    {
      "cell_type": "code",
      "metadata": {
        "id": "cWVE2a5lxfWA",
        "colab_type": "code",
        "colab": {
          "base_uri": "https://localhost:8080/",
          "height": 68
        },
        "outputId": "0af48eb3-a270-467e-a068-332e6263f715"
      },
      "source": [
        "myDict = {}                                                  # Create an empty dictionary\n",
        "\n",
        "myIntegerKeyDict = {100:'excellent',50:'fair'}\n",
        "print(myIntegerKeyDict)\n",
        " \n",
        "myMixedKeysDict = {'name':'Suchit', 10:['sun','star']}    # Create a dictionary with mixed keys\n",
        "print(myMixedKeysDict)\n",
        "\n",
        "\n",
        "myDict = dict()                                              # Create an empty dictionary using dict() method\n",
        "\n",
        "myDict = dict([(4,'abcd'),(2,'ab')])                      # Create a dict with list of tuples\n",
        "print(myDict)"
      ],
      "execution_count": 28,
      "outputs": [
        {
          "output_type": "stream",
          "text": [
            "{100: 'excellent', 50: 'fair'}\n",
            "{'name': 'Suchit', 10: ['sun', 'star']}\n",
            "{4: 'abcd', 2: 'ab'}\n"
          ],
          "name": "stdout"
        }
      ]
    },
    {
      "cell_type": "code",
      "metadata": {
        "id": "AMuP7wX_yYyv",
        "colab_type": "code",
        "colab": {
          "base_uri": "https://localhost:8080/",
          "height": 51
        },
        "outputId": "e3a7b3ba-1b4c-46b4-c7a7-99bb39cd815b"
      },
      "source": [
        "myDict = {'name': 'veer', 'marks': 92, 'hobby': 'guitar'}\n",
        "\n",
        "print(myDict['name']) \n",
        "print(myDict[\"hobby\"])"
      ],
      "execution_count": 1,
      "outputs": [
        {
          "output_type": "stream",
          "text": [
            "veer\n",
            "guitar\n"
          ],
          "name": "stdout"
        }
      ]
    },
    {
      "cell_type": "code",
      "metadata": {
        "id": "2WhWoS8tyx4z",
        "colab_type": "code",
        "colab": {
          "base_uri": "https://localhost:8080/",
          "height": 34
        },
        "outputId": "7eb2f830-e62c-4a3e-eaa5-3588cac81470"
      },
      "source": [
        "myDict[\"name\"]=\"falana\"\n",
        "myDict[\"Grade\"]=\"A\"\n",
        "print(myDict)"
      ],
      "execution_count": 2,
      "outputs": [
        {
          "output_type": "stream",
          "text": [
            "{'name': 'falana', 'marks': 92, 'hobby': 'guitar', 'Grade': 'A'}\n"
          ],
          "name": "stdout"
        }
      ]
    },
    {
      "cell_type": "code",
      "metadata": {
        "id": "GrT7xsUEWTlH",
        "colab_type": "code",
        "colab": {
          "base_uri": "https://localhost:8080/",
          "height": 34
        },
        "outputId": "a45162ec-7178-4d27-dd94-6c03200551e0"
      },
      "source": [
        "myDict.pop(\"marks\")"
      ],
      "execution_count": 4,
      "outputs": [
        {
          "output_type": "execute_result",
          "data": {
            "text/plain": [
              "92"
            ]
          },
          "metadata": {
            "tags": []
          },
          "execution_count": 4
        }
      ]
    },
    {
      "cell_type": "code",
      "metadata": {
        "id": "mhl0FPV0XUYO",
        "colab_type": "code",
        "colab": {
          "base_uri": "https://localhost:8080/",
          "height": 34
        },
        "outputId": "1809f8ba-3111-4bbd-b85f-a615a26a1309"
      },
      "source": [
        "myDict"
      ],
      "execution_count": 5,
      "outputs": [
        {
          "output_type": "execute_result",
          "data": {
            "text/plain": [
              "{'Grade': 'A', 'hobby': 'guitar', 'name': 'falana'}"
            ]
          },
          "metadata": {
            "tags": []
          },
          "execution_count": 5
        }
      ]
    },
    {
      "cell_type": "code",
      "metadata": {
        "id": "--L-oD4OXf5j",
        "colab_type": "code",
        "colab": {}
      },
      "source": [
        "keyValDict = {'name': 'Suchit', 'marks': 92, 'hobby': 'guitar'}\n",
        "del keyValDict[\"marks\"]"
      ],
      "execution_count": 0,
      "outputs": []
    },
    {
      "cell_type": "code",
      "metadata": {
        "id": "58k9ZSUJYxEC",
        "colab_type": "code",
        "colab": {
          "base_uri": "https://localhost:8080/",
          "height": 34
        },
        "outputId": "f45b324e-fa7a-47a4-ce4b-2d2850291837"
      },
      "source": [
        "keyValDict\n"
      ],
      "execution_count": 8,
      "outputs": [
        {
          "output_type": "execute_result",
          "data": {
            "text/plain": [
              "{'hobby': 'guitar', 'name': 'Suchit'}"
            ]
          },
          "metadata": {
            "tags": []
          },
          "execution_count": 8
        }
      ]
    },
    {
      "cell_type": "code",
      "metadata": {
        "id": "V17CfkH2Y1Z8",
        "colab_type": "code",
        "colab": {}
      },
      "source": [
        "keyValDict.clear()"
      ],
      "execution_count": 0,
      "outputs": []
    },
    {
      "cell_type": "code",
      "metadata": {
        "id": "LtN9ChewZEqp",
        "colab_type": "code",
        "colab": {
          "base_uri": "https://localhost:8080/",
          "height": 34
        },
        "outputId": "025111ff-40bd-46af-dc71-8b90ea039d88"
      },
      "source": [
        "keyValDict"
      ],
      "execution_count": 10,
      "outputs": [
        {
          "output_type": "execute_result",
          "data": {
            "text/plain": [
              "{}"
            ]
          },
          "metadata": {
            "tags": []
          },
          "execution_count": 10
        }
      ]
    },
    {
      "cell_type": "code",
      "metadata": {
        "id": "TCAatr59ZIa3",
        "colab_type": "code",
        "colab": {}
      },
      "source": [
        "del keyValDict"
      ],
      "execution_count": 0,
      "outputs": []
    },
    {
      "cell_type": "code",
      "metadata": {
        "id": "Jt9-Sfi_Z283",
        "colab_type": "code",
        "colab": {
          "base_uri": "https://localhost:8080/",
          "height": 34
        },
        "outputId": "515d21a6-7437-4734-e113-6ca6f93853d9"
      },
      "source": [
        "print(myDict)"
      ],
      "execution_count": 12,
      "outputs": [
        {
          "output_type": "stream",
          "text": [
            "{'name': 'falana', 'hobby': 'guitar', 'Grade': 'A'}\n"
          ],
          "name": "stdout"
        }
      ]
    },
    {
      "cell_type": "code",
      "metadata": {
        "id": "z-tbaOvKsN6b",
        "colab_type": "code",
        "colab": {
          "base_uri": "https://localhost:8080/",
          "height": 34
        },
        "outputId": "4b58fac7-1255-4dfd-d906-5e3e74b33c2a"
      },
      "source": [
        "copy_dict=myDict.copy()\n",
        "print(copy_dict)"
      ],
      "execution_count": 13,
      "outputs": [
        {
          "output_type": "stream",
          "text": [
            "{'name': 'falana', 'hobby': 'guitar', 'Grade': 'A'}\n"
          ],
          "name": "stdout"
        }
      ]
    },
    {
      "cell_type": "code",
      "metadata": {
        "id": "NHXirtYeskKm",
        "colab_type": "code",
        "colab": {}
      },
      "source": [
        "fruits={}.fromkeys([\"apple\",\"banana\",\"kiwi\"],0)"
      ],
      "execution_count": 0,
      "outputs": []
    },
    {
      "cell_type": "code",
      "metadata": {
        "id": "eXRuk8Axs0A4",
        "colab_type": "code",
        "colab": {
          "base_uri": "https://localhost:8080/",
          "height": 34
        },
        "outputId": "78edf362-883c-48cf-82f7-0a7a5a3ddd56"
      },
      "source": [
        "print(fruits)"
      ],
      "execution_count": 15,
      "outputs": [
        {
          "output_type": "stream",
          "text": [
            "{'apple': 0, 'banana': 0, 'kiwi': 0}\n"
          ],
          "name": "stdout"
        }
      ]
    },
    {
      "cell_type": "code",
      "metadata": {
        "id": "kDmbQyDxs3Ls",
        "colab_type": "code",
        "colab": {
          "base_uri": "https://localhost:8080/",
          "height": 34
        },
        "outputId": "0a1f3acc-1cae-4fb7-8467-7d30ad6bd603"
      },
      "source": [
        "temp_dict={2:3,4:5,6:7}\n",
        "temp_dict.items()"
      ],
      "execution_count": 16,
      "outputs": [
        {
          "output_type": "execute_result",
          "data": {
            "text/plain": [
              "dict_items([(2, 3), (4, 5), (6, 7)])"
            ]
          },
          "metadata": {
            "tags": []
          },
          "execution_count": 16
        }
      ]
    },
    {
      "cell_type": "code",
      "metadata": {
        "id": "SqCTtZXBtF4r",
        "colab_type": "code",
        "colab": {
          "base_uri": "https://localhost:8080/",
          "height": 51
        },
        "outputId": "6c6f6306-0306-4826-d8e8-bbf04ee385db"
      },
      "source": [
        "print(myDict.keys())\n",
        "print(myDict.values())"
      ],
      "execution_count": 17,
      "outputs": [
        {
          "output_type": "stream",
          "text": [
            "dict_keys(['name', 'hobby', 'Grade'])\n",
            "dict_values(['falana', 'guitar', 'A'])\n"
          ],
          "name": "stdout"
        }
      ]
    },
    {
      "cell_type": "code",
      "metadata": {
        "id": "-7qqMbkgtdl_",
        "colab_type": "code",
        "colab": {
          "base_uri": "https://localhost:8080/",
          "height": 68
        },
        "outputId": "5c42383d-9e78-4c6b-dcb6-b1ec83696dfb"
      },
      "source": [
        "fruits = {'apple': 2, 'banana': 12, 'grapes': 10}\n",
        "for fruit in fruits.items():\n",
        "  print(fruit)"
      ],
      "execution_count": 18,
      "outputs": [
        {
          "output_type": "stream",
          "text": [
            "('apple', 2)\n",
            "('banana', 12)\n",
            "('grapes', 10)\n"
          ],
          "name": "stdout"
        }
      ]
    },
    {
      "cell_type": "code",
      "metadata": {
        "id": "jd5AqqR-u9lS",
        "colab_type": "code",
        "colab": {
          "base_uri": "https://localhost:8080/",
          "height": 34
        },
        "outputId": "f862a200-ef1d-4a37-8bed-292c9e957a55"
      },
      "source": [
        "fruits={\"apple\":3,\"banana\":10,\"kiwi\":20}\n",
        "fruits_dict={k:v for k,v in fruits.items() if v%2==0}\n",
        "print(fruits_dict)"
      ],
      "execution_count": 19,
      "outputs": [
        {
          "output_type": "stream",
          "text": [
            "{'banana': 10, 'kiwi': 20}\n"
          ],
          "name": "stdout"
        }
      ]
    },
    {
      "cell_type": "code",
      "metadata": {
        "id": "iZHaV7mpwZ_K",
        "colab_type": "code",
        "colab": {
          "base_uri": "https://localhost:8080/",
          "height": 34
        },
        "outputId": "716852f3-9141-4f2f-f2ad-04d744f47b95"
      },
      "source": [
        "fruits_dict={k+\"royal\":v*10 for k,v in fruits.items() if v%2==0}\n",
        "print(fruits_dict)"
      ],
      "execution_count": 20,
      "outputs": [
        {
          "output_type": "stream",
          "text": [
            "{'bananaroyal': 100, 'kiwiroyal': 200}\n"
          ],
          "name": "stdout"
        }
      ]
    },
    {
      "cell_type": "code",
      "metadata": {
        "id": "r68hNPDTwyUC",
        "colab_type": "code",
        "colab": {
          "base_uri": "https://localhost:8080/",
          "height": 34
        },
        "outputId": "1d81d14f-8271-448f-eeeb-d7cca6e81949"
      },
      "source": [
        "myString = \"Double\"\n",
        "print(myString[1:5])"
      ],
      "execution_count": 21,
      "outputs": [
        {
          "output_type": "stream",
          "text": [
            "oubl\n"
          ],
          "name": "stdout"
        }
      ]
    },
    {
      "cell_type": "code",
      "metadata": {
        "id": "7KVMMy-azh8b",
        "colab_type": "code",
        "colab": {
          "base_uri": "https://localhost:8080/",
          "height": 34
        },
        "outputId": "77409b7d-8b17-4fa5-f28a-1ddf1c900d5e"
      },
      "source": [
        "string=\"python programming\"\n",
        "charcount=0\n",
        "for index in string:\n",
        "  if index==\"p\":\n",
        "    charcount+=1\n",
        "print(charcount)"
      ],
      "execution_count": 24,
      "outputs": [
        {
          "output_type": "stream",
          "text": [
            "2\n"
          ],
          "name": "stdout"
        }
      ]
    },
    {
      "cell_type": "code",
      "metadata": {
        "id": "IMLRa-Mf06cy",
        "colab_type": "code",
        "colab": {
          "base_uri": "https://localhost:8080/",
          "height": 34
        },
        "outputId": "270c8830-6308-4bce-94a0-ba942f276d61"
      },
      "source": [
        "\"PYTHON\".lower()"
      ],
      "execution_count": 26,
      "outputs": [
        {
          "output_type": "execute_result",
          "data": {
            "text/plain": [
              "'python'"
            ]
          },
          "metadata": {
            "tags": []
          },
          "execution_count": 26
        }
      ]
    },
    {
      "cell_type": "code",
      "metadata": {
        "id": "VQt7doCv2R00",
        "colab_type": "code",
        "colab": {
          "base_uri": "https://localhost:8080/",
          "height": 34
        },
        "outputId": "a60ecc40-400d-497e-a7b1-5d29bb3e3b96"
      },
      "source": [
        "\"python\".upper()"
      ],
      "execution_count": 27,
      "outputs": [
        {
          "output_type": "execute_result",
          "data": {
            "text/plain": [
              "'PYTHON'"
            ]
          },
          "metadata": {
            "tags": []
          },
          "execution_count": 27
        }
      ]
    },
    {
      "cell_type": "code",
      "metadata": {
        "id": "qGOWmWo02gV-",
        "colab_type": "code",
        "colab": {
          "base_uri": "https://localhost:8080/",
          "height": 34
        },
        "outputId": "4bef8084-05aa-472f-a920-2a8cac28be40"
      },
      "source": [
        "\"python is a good \".split()"
      ],
      "execution_count": 29,
      "outputs": [
        {
          "output_type": "execute_result",
          "data": {
            "text/plain": [
              "['python', 'is', 'a', 'good']"
            ]
          },
          "metadata": {
            "tags": []
          },
          "execution_count": 29
        }
      ]
    },
    {
      "cell_type": "code",
      "metadata": {
        "id": "mBvor-HO2keC",
        "colab_type": "code",
        "colab": {
          "base_uri": "https://localhost:8080/",
          "height": 34
        },
        "outputId": "b2dd45bf-b737-4b83-e5d6-8ccba0a91836"
      },
      "source": [
        "string"
      ],
      "execution_count": 30,
      "outputs": [
        {
          "output_type": "execute_result",
          "data": {
            "text/plain": [
              "'python programming'"
            ]
          },
          "metadata": {
            "tags": []
          },
          "execution_count": 30
        }
      ]
    },
    {
      "cell_type": "code",
      "metadata": {
        "id": "0-9btUYN27g8",
        "colab_type": "code",
        "colab": {
          "base_uri": "https://localhost:8080/",
          "height": 34
        },
        "outputId": "f17625f1-5367-4b88-d739-ec0feba2ea6b"
      },
      "source": [
        "string2=string.replace(\"programming\",\"program\")\n",
        "print(string2)"
      ],
      "execution_count": 32,
      "outputs": [
        {
          "output_type": "stream",
          "text": [
            "python program\n"
          ],
          "name": "stdout"
        }
      ]
    },
    {
      "cell_type": "code",
      "metadata": {
        "id": "m7YKO9483Izw",
        "colab_type": "code",
        "colab": {
          "base_uri": "https://localhost:8080/",
          "height": 51
        },
        "outputId": "d732e4bd-0a60-46d5-a242-a01463bcd792"
      },
      "source": [
        "number=int(input(\"Enter any positive no.\"))\n",
        "fact=1\n",
        "if number>0:\n",
        "  while number>0:\n",
        "    fact*=number\n",
        "    number-=1\n",
        "print(fact)"
      ],
      "execution_count": 34,
      "outputs": [
        {
          "output_type": "stream",
          "text": [
            "Enter any positive no.6\n",
            "720\n"
          ],
          "name": "stdout"
        }
      ]
    },
    {
      "cell_type": "code",
      "metadata": {
        "id": "UDUl5j6T9Acr",
        "colab_type": "code",
        "colab": {}
      },
      "source": [
        "\n"
      ],
      "execution_count": 0,
      "outputs": []
    }
  ]
}
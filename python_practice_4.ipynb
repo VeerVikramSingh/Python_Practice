{
  "nbformat": 4,
  "nbformat_minor": 0,
  "metadata": {
    "colab": {
      "name": "python_practice_4.ipynb",
      "provenance": [],
      "collapsed_sections": [],
      "include_colab_link": true
    },
    "kernelspec": {
      "name": "python3",
      "display_name": "Python 3"
    }
  },
  "cells": [
    {
      "cell_type": "markdown",
      "metadata": {
        "id": "view-in-github",
        "colab_type": "text"
      },
      "source": [
        "<a href=\"https://colab.research.google.com/github/vitm31/Python_Practice/blob/master/python_practice_4.ipynb\" target=\"_parent\"><img src=\"https://colab.research.google.com/assets/colab-badge.svg\" alt=\"Open In Colab\"/></a>"
      ]
    },
    {
      "cell_type": "code",
      "metadata": {
        "id": "ejAX7VV8glcd",
        "colab_type": "code",
        "colab": {}
      },
      "source": [
        "def test_distinct(data):\n",
        "  if len(data)==len(set(data)):\n",
        "    return True\n",
        "  else:\n",
        "    return False"
      ],
      "execution_count": 0,
      "outputs": []
    },
    {
      "cell_type": "code",
      "metadata": {
        "id": "OZMHiJHHh4tu",
        "colab_type": "code",
        "colab": {
          "base_uri": "https://localhost:8080/",
          "height": 51
        },
        "outputId": "a687ff50-4a37-4723-cb81-943e46df8966"
      },
      "source": [
        "print(test_distinct([1,2,3,4]))\n",
        "print(test_distinct([1,2,3,4,4,2,5,7,4]))"
      ],
      "execution_count": 7,
      "outputs": [
        {
          "output_type": "stream",
          "text": [
            "True\n",
            "False\n"
          ],
          "name": "stdout"
        }
      ]
    },
    {
      "cell_type": "code",
      "metadata": {
        "id": "glCcR9xsirLB",
        "colab_type": "code",
        "colab": {
          "base_uri": "https://localhost:8080/",
          "height": 34
        },
        "outputId": "0b90c1fd-e9bd-46fc-fa7b-6cd06e80ffd7"
      },
      "source": [
        "import random\n",
        "char_list=[\"a\",\"e\",\"i\",\"o\",\"u\"]\n",
        "random_=random.shuffle(char_list)\n",
        "print(\"\".join(char_list))"
      ],
      "execution_count": 13,
      "outputs": [
        {
          "output_type": "stream",
          "text": [
            "euiao\n"
          ],
          "name": "stdout"
        }
      ]
    },
    {
      "cell_type": "code",
      "metadata": {
        "id": "EdXx9hwLkQeg",
        "colab_type": "code",
        "colab": {
          "base_uri": "https://localhost:8080/",
          "height": 34
        },
        "outputId": "fee0538f-a242-460c-aa7d-630e2e5fd5f9"
      },
      "source": [
        "file_name=\"rrrahjgddjjyrrty\"\n",
        "file_name.count(\"r\")"
      ],
      "execution_count": 1,
      "outputs": [
        {
          "output_type": "execute_result",
          "data": {
            "text/plain": [
              "5"
            ]
          },
          "metadata": {
            "tags": []
          },
          "execution_count": 1
        }
      ]
    },
    {
      "cell_type": "code",
      "metadata": {
        "id": "_Vm5zxGKNRbE",
        "colab_type": "code",
        "colab": {
          "base_uri": "https://localhost:8080/",
          "height": 1000
        },
        "outputId": "c28ce369-3b9f-4702-c430-6906253d417a"
      },
      "source": [
        "import bs4\n",
        "from bs4 import BeautifulSoup as soup\n",
        "from urllib.request import urlopen\n",
        "\n",
        "news_url=\"https://news.google.com/news/rss\"\n",
        "Client=urlopen(news_url)\n",
        "xml_page=Client.read()\n",
        "Client.close()\n",
        "\n",
        "soup_page=soup(xml_page,\"xml\")\n",
        "news_list=soup_page.findAll(\"item\")\n",
        "# Print news title, url and publish date\n",
        "for news in news_list:\n",
        "  print(news.title.text)\n",
        "  print(news.link.text)\n",
        "  print(news.pubDate.text)\n",
        "  print(\"-\"*60)"
      ],
      "execution_count": 2,
      "outputs": [
        {
          "output_type": "stream",
          "text": [
            "How to watch the House Judiciary Committee's first impeachment hearing - CNN\n",
            "https://news.google.com/__i/rss/rd/articles/CBMiXWh0dHBzOi8vd3d3LmNubi5jb20vMjAxOS8xMi8wNC9wb2xpdGljcy9ob3ctdG8td2F0Y2gtaW1wZWFjaG1lbnQtaGVhcmluZy13ZWRuZXNkYXkvaW5kZXguaHRtbNIBYWh0dHBzOi8vYW1wLmNubi5jb20vY25uLzIwMTkvMTIvMDQvcG9saXRpY3MvaG93LXRvLXdhdGNoLWltcGVhY2htZW50LWhlYXJpbmctd2VkbmVzZGF5L2luZGV4Lmh0bWw?oc=5\n",
            "Wed, 04 Dec 2019 12:09:00 GMT\n",
            "------------------------------------------------------------\n",
            "Candid video appears to show Trudeau, Macron and Johnson joking about Trump - The Washington Post\n",
            "https://news.google.com/__i/rss/rd/articles/CBMiZ2h0dHBzOi8vd3d3Lndhc2hpbmd0b25wb3N0LmNvbS9uYXRpb24vMjAxOS8xMi8wNC90cnVtcC1tYWNyb24tdHJ1ZGVhdS1qb2huc29uLXZpZGVvLWNhbmRpZC1qb2tpbmctbmF0by_SAXZodHRwczovL3d3dy53YXNoaW5ndG9ucG9zdC5jb20vbmF0aW9uLzIwMTkvMTIvMDQvdHJ1bXAtbWFjcm9uLXRydWRlYXUtam9obnNvbi12aWRlby1jYW5kaWQtam9raW5nLW5hdG8vP291dHB1dFR5cGU9YW1w?oc=5\n",
            "Wed, 04 Dec 2019 11:40:00 GMT\n",
            "------------------------------------------------------------\n",
            "Harris' 2020 exit leaves potentially all-white debate, causing consternation among Dems - Fox News\n",
            "https://news.google.com/__i/rss/rd/articles/CBMic2h0dHBzOi8vd3d3LmZveG5ld3MuY29tL21lZGlhL2hhcnJpcy0yMDIwLWV4aXQtbGVhdmVzLXBvdGVudGlhbGx5LWFsbC13aGl0ZS1kZWJhdGUtY2F1c2luZy1jb25zdGVybmF0aW9uLWFtb25nLWRlbXPSAXdodHRwczovL3d3dy5mb3huZXdzLmNvbS9tZWRpYS9oYXJyaXMtMjAyMC1leGl0LWxlYXZlcy1wb3RlbnRpYWxseS1hbGwtd2hpdGUtZGViYXRlLWNhdXNpbmctY29uc3Rlcm5hdGlvbi1hbW9uZy1kZW1zLmFtcA?oc=5\n",
            "Wed, 04 Dec 2019 02:54:59 GMT\n",
            "------------------------------------------------------------\n",
            "A Mysterious ‘-1’ and Other Call Records Show How Giuliani Pressured Ukraine - The New York Times\n",
            "https://news.google.com/__i/rss/rd/articles/CBMiSWh0dHBzOi8vd3d3Lm55dGltZXMuY29tLzIwMTkvMTIvMDMvdXMvcG9saXRpY3MvcnVkeS1naXVsaWFuaS1jYWxscy0xLmh0bWzSAU1odHRwczovL3d3dy5ueXRpbWVzLmNvbS8yMDE5LzEyLzAzL3VzL3BvbGl0aWNzL3J1ZHktZ2l1bGlhbmktY2FsbHMtMS5hbXAuaHRtbA?oc=5\n",
            "Wed, 04 Dec 2019 01:14:00 GMT\n",
            "------------------------------------------------------------\n",
            "G.O.P. Senators, Defending Trump, Embrace Debunked Ukraine Theory - The New York Times\n",
            "https://news.google.com/__i/rss/rd/articles/CBMiWWh0dHBzOi8vd3d3Lm55dGltZXMuY29tLzIwMTkvMTIvMDMvdXMvcG9saXRpY3MvcmVwdWJsaWNhbnMtdWtyYWluZS1jb25zcGlyYWN5LXRoZW9yeS5odG1s0gFdaHR0cHM6Ly93d3cubnl0aW1lcy5jb20vMjAxOS8xMi8wMy91cy9wb2xpdGljcy9yZXB1YmxpY2Fucy11a3JhaW5lLWNvbnNwaXJhY3ktdGhlb3J5LmFtcC5odG1s?oc=5\n",
            "Wed, 04 Dec 2019 01:58:00 GMT\n",
            "------------------------------------------------------------\n",
            "Fired Chicago Police Superintendent Eddie Johnson says he didn't deceive mayor - NBC News\n",
            "https://news.google.com/__i/rss/rd/articles/CBMibmh0dHBzOi8vd3d3Lm5iY25ld3MuY29tL25ld3MvdXMtbmV3cy9maXJlZC1jaGljYWdvLXBvbGljZS1zdXBlcmludGVuZGVudC1lZGRpZS1qb2huc29uLXNheXMtaGUtZGlkbi10LW4xMDk1MDIx0gEsaHR0cHM6Ly93d3cubmJjbmV3cy5jb20vbmV3cy9hbXAvbmNuYTEwOTUwMjE?oc=5\n",
            "Tue, 03 Dec 2019 20:39:00 GMT\n",
            "------------------------------------------------------------\n",
            "For a year, Catholics have pleaded for this bishop to resign. He finally did - CNN\n",
            "https://news.google.com/__i/rss/rd/articles/CBMiQmh0dHBzOi8vd3d3LmNubi5jb20vMjAxOS8xMi8wNC91cy9iaXNob3AtbWFsb25lLXJlc2lnbnMvaW5kZXguaHRtbNIBRmh0dHBzOi8vYW1wLmNubi5jb20vY25uLzIwMTkvMTIvMDQvdXMvYmlzaG9wLW1hbG9uZS1yZXNpZ25zL2luZGV4Lmh0bWw?oc=5\n",
            "Wed, 04 Dec 2019 12:37:00 GMT\n",
            "------------------------------------------------------------\n",
            "Trump plan will remove 750,000 from food stamp rolls - AL.com\n",
            "https://news.google.com/__i/rss/rd/articles/CBMiWGh0dHBzOi8vd3d3LmFsLmNvbS9uZXdzLzIwMTkvMTIvdHJ1bXAtcGxhbi13aWxsLXJlbW92ZS03NTAwMDAtZnJvbS1mb29kLXN0YW1wLXJvbGxzLmh0bWzSAWdodHRwczovL3d3dy5hbC5jb20vbmV3cy8yMDE5LzEyL3RydW1wLXBsYW4td2lsbC1yZW1vdmUtNzUwMDAwLWZyb20tZm9vZC1zdGFtcC1yb2xscy5odG1sP291dHB1dFR5cGU9YW1w?oc=5\n",
            "Wed, 04 Dec 2019 11:29:00 GMT\n",
            "------------------------------------------------------------\n",
            "Congressman Duncan Hunter pleads guilty to misusing campaign funds - BBC News\n",
            "https://news.google.com/__i/rss/rd/articles/CBMiMWh0dHBzOi8vd3d3LmJiYy5jb20vbmV3cy93b3JsZC11cy1jYW5hZGEtNTA2NDk1NjDSATVodHRwczovL3d3dy5iYmMuY29tL25ld3MvYW1wL3dvcmxkLXVzLWNhbmFkYS01MDY0OTU2MA?oc=5\n",
            "Wed, 04 Dec 2019 09:48:49 GMT\n",
            "------------------------------------------------------------\n",
            "Two of four teens who escaped juvenile detention center found outside Tennessee apartments - USA TODAY\n",
            "https://news.google.com/__i/rss/rd/articles/CBMifWh0dHBzOi8vd3d3LnVzYXRvZGF5LmNvbS9zdG9yeS9uZXdzL25hdGlvbi8yMDE5LzEyLzA0L3Rlbm5lc3NlZS1lc2NhcGVkLWp1dmVuaWxlcy10d28tZm91ci10ZWVucy1hcnJlc3RlZC1tYWRpc29uLzI2MDYwNzAwMDEv0gEnaHR0cHM6Ly9hbXAudXNhdG9kYXkuY29tL2FtcC8yNjA2MDcwMDAx?oc=5\n",
            "Wed, 04 Dec 2019 11:51:01 GMT\n",
            "------------------------------------------------------------\n",
            "China Threatens Retaliation Over Proposed U.S. Sanctions - The Wall Street Journal\n",
            "https://news.google.com/__i/rss/rd/articles/CBMiYGh0dHBzOi8vd3d3Lndzai5jb20vYXJ0aWNsZXMvY2hpbmEtdGhyZWF0ZW5zLXJldGFsaWF0aW9uLW92ZXItcHJvcG9zZWQtdS1zLXNhbmN0aW9ucy0xMTU3NTQ1NjU2MdIBAA?oc=5\n",
            "Wed, 04 Dec 2019 10:49:00 GMT\n",
            "------------------------------------------------------------\n",
            "Iran's Rouhani calls for release of innocent, unarmed protesters - Reuters\n",
            "https://news.google.com/__i/rss/rd/articles/CBMihQFodHRwczovL3d3dy5yZXV0ZXJzLmNvbS9hcnRpY2xlL3VzLWlyYW4tcHJvdGVzdHMtcm91aGFuaS9pcmFucy1yb3VoYW5pLWNhbGxzLWZvci1yZWxlYXNlLW9mLWlubm9jZW50LXVuYXJtZWQtcHJvdGVzdGVycy1pZFVTS0JOMVk4ME5C0gE0aHR0cHM6Ly9tb2JpbGUucmV1dGVycy5jb20vYXJ0aWNsZS9hbXAvaWRVU0tCTjFZODBOQg?oc=5\n",
            "Wed, 04 Dec 2019 07:14:00 GMT\n",
            "------------------------------------------------------------\n",
            "Trump boosts Boris Johnson as he shoots down Corbyn's NHS claim - Fox News\n",
            "https://news.google.com/__i/rss/rd/articles/CBMiV2h0dHBzOi8vd3d3LmZveG5ld3MuY29tL3BvbGl0aWNzL3RydW1wLWJvcmlzLWpvaG5zb24tdWstZWxlY3Rpb24tMjAxOS1qZXJlbXktY29yYnluLW5oc9IBW2h0dHBzOi8vd3d3LmZveG5ld3MuY29tL3BvbGl0aWNzL3RydW1wLWJvcmlzLWpvaG5zb24tdWstZWxlY3Rpb24tMjAxOS1qZXJlbXktY29yYnluLW5ocy5hbXA?oc=5\n",
            "Tue, 03 Dec 2019 20:51:18 GMT\n",
            "------------------------------------------------------------\n",
            "Body of third person lost in Australian outback found after police search - NBC News\n",
            "https://news.google.com/__i/rss/rd/articles/CBMib2h0dHBzOi8vd3d3Lm5iY25ld3MuY29tL25ld3Mvd29ybGQvYm9keS10aGlyZC1wZXJzb24tbG9zdC1hdXN0cmFsaWFuLW91dGJhY2stZm91bmQtYWZ0ZXItcG9saWNlLXNlYXJjaC1uMTA5NTI5MdIBLGh0dHBzOi8vd3d3Lm5iY25ld3MuY29tL25ld3MvYW1wL25jbmExMDk1Mjkx?oc=5\n",
            "Wed, 04 Dec 2019 10:16:00 GMT\n",
            "------------------------------------------------------------\n",
            "Google third era: what’s next now that Sundar Pichai is CEO of Alphabet - The Verge\n",
            "https://news.google.com/__i/rss/rd/articles/CBMibmh0dHBzOi8vd3d3LnRoZXZlcmdlLmNvbS8yMDE5LzEyLzQvMjA5OTQ4OTYvZ29vZ2xlLWFscGhhYmV0LWNlby1zdW5kYXItcGljaGFpLWVyYS1jdWx0dXJlLWFudGl0cnVzdC1yZWd1bGF0aW9u0gF7aHR0cHM6Ly93d3cudGhldmVyZ2UuY29tL3BsYXRmb3JtL2FtcC8yMDE5LzEyLzQvMjA5OTQ4OTYvZ29vZ2xlLWFscGhhYmV0LWNlby1zdW5kYXItcGljaGFpLWVyYS1jdWx0dXJlLWFudGl0cnVzdC1yZWd1bGF0aW9u?oc=5\n",
            "Wed, 04 Dec 2019 12:00:00 GMT\n",
            "------------------------------------------------------------\n",
            "Stock futures point to a rebound for Wall Street with renewed optimism over U.S.-China trade talks - MarketWatch\n",
            "https://news.google.com/__i/rss/rd/articles/CBMijQFodHRwczovL3d3dy5tYXJrZXR3YXRjaC5jb20vc3Rvcnkvc3RvY2stZnV0dXJlcy1wb2ludC10by1hLXJlYm91bmQtZm9yLXdhbGwtc3RyZWV0LXdpdGgtcmVuZXdlZC1vcHRpbWlzbS1vdmVyLXVzLWNoaW5hLXRyYWRlLXRhbGtzLTIwMTktMTItMDTSAU9odHRwczovL3d3dy5tYXJrZXR3YXRjaC5jb20vYW1wL3N0b3J5L2d1aWQvRjAwQTRCQjgtMTY4MS0xMUVBLUEyM0UtNUY4NjkwRkJBNUE0?oc=5\n",
            "Wed, 04 Dec 2019 12:47:00 GMT\n",
            "------------------------------------------------------------\n",
            "Elon Musk testifies that 'pedo guy' tweet was meant to be an insult, not a statement of fact - CNN\n",
            "https://news.google.com/__i/rss/rd/articles/CBMiQ2h0dHBzOi8vd3d3LmNubi5jb20vMjAxOS8xMi8wMy9tZWRpYS9lbG9uLW11c2stdGVzdGlmaWVzL2luZGV4Lmh0bWzSAUdodHRwczovL2FtcC5jbm4uY29tL2Nubi8yMDE5LzEyLzAzL21lZGlhL2Vsb24tbXVzay10ZXN0aWZpZXMvaW5kZXguaHRtbA?oc=5\n",
            "Wed, 04 Dec 2019 04:57:00 GMT\n",
            "------------------------------------------------------------\n",
            "Dow Jones Futures: China Trade Deal Hopes Set To Buoy Stock Market Rally; Alphabet CEO Larry Page Exits With Google Stock A Buy - Investor's Business Daily\n",
            "https://news.google.com/__i/rss/rd/articles/CBMiiAFodHRwczovL3d3dy5pbnZlc3RvcnMuY29tL21hcmtldC10cmVuZC9zdG9jay1tYXJrZXQtdG9kYXkvZG93LWpvbmVzLWZ1dHVyZXMtY2hpbmEtdHJhZGUtZGVhbC1zdG9jay1tYXJrZXQtcmFsbHktYWxwaGFiZXQtY2VvLWxhcnJ5LXBhZ2Uv0gEA?oc=5\n",
            "Wed, 04 Dec 2019 12:49:00 GMT\n",
            "------------------------------------------------------------\n",
            "The Nintendo Switch finally launches in China on December 10th - Engadget\n",
            "https://news.google.com/__i/rss/rd/articles/CBMiV2h0dHBzOi8vd3d3LmVuZ2FkZ2V0LmNvbS8yMDE5LzEyLzA0L25pbnRlbmRvLXN3aXRjaC1sYXVuY2hlcy1pbi1jaGluYS1vbi1kZWNlbWJlci0xMHRoL9IBW2h0dHBzOi8vd3d3LmVuZ2FkZ2V0LmNvbS9hbXAvMjAxOS8xMi8wNC9uaW50ZW5kby1zd2l0Y2gtbGF1bmNoZXMtaW4tY2hpbmEtb24tZGVjZW1iZXItMTB0aC8?oc=5\n",
            "Wed, 04 Dec 2019 12:34:00 GMT\n",
            "------------------------------------------------------------\n",
            "Genius Allegedly Caught Google Stealing its Lyrics With an Ingenious Watermark - Vulture\n",
            "https://news.google.com/__i/rss/rd/articles/CBMiRWh0dHBzOi8vd3d3LnZ1bHR1cmUuY29tLzIwMTkvMTIvZ2VuaXVzLXN1ZXMtZ29vZ2xlLWFuZC1seXJpY2ZpbmQuaHRtbNIBSWh0dHBzOi8vd3d3LnZ1bHR1cmUuY29tL2FtcC8yMDE5LzEyL2dlbml1cy1zdWVzLWdvb2dsZS1hbmQtbHlyaWNmaW5kLmh0bWw?oc=5\n",
            "Wed, 04 Dec 2019 06:19:13 GMT\n",
            "------------------------------------------------------------\n",
            "Motorola’s new One Hyper has a pop-up camera, Android 10, and a $400 price tag - Circuit Breaker\n",
            "https://news.google.com/__i/rss/rd/articles/CBMiamh0dHBzOi8vd3d3LnRoZXZlcmdlLmNvbS9jaXJjdWl0YnJlYWtlci8yMDE5LzEyLzQvMjA5OTI1ODkvbW90b3JvbGEtb25lLWh5cGVyLXBvcC11cC1jYW1lcmEtYW5kcm9pZC0xMC00MDDSAXdodHRwczovL3d3dy50aGV2ZXJnZS5jb20vcGxhdGZvcm0vYW1wL2NpcmN1aXRicmVha2VyLzIwMTkvMTIvNC8yMDk5MjU4OS9tb3Rvcm9sYS1vbmUtaHlwZXItcG9wLXVwLWNhbWVyYS1hbmRyb2lkLTEwLTQwMA?oc=5\n",
            "Wed, 04 Dec 2019 13:00:00 GMT\n",
            "------------------------------------------------------------\n",
            "Samsung Galaxy Buds+ rumored to feature active noise cancellation (Update: Launch imminent?) - Android Police\n",
            "https://news.google.com/__i/rss/rd/articles/CBMif2h0dHBzOi8vd3d3LmFuZHJvaWRwb2xpY2UuY29tLzIwMTkvMTIvMDQvc2Ftc3VuZy1nYWxheHktYnVkcy1ydW1vcmVkLXRvLWZlYXR1cmUtYWN0aXZlLW5vaXNlLWNhbmNlbGxhdGlvbi1sYXVuY2gtYWxvbmdzaWRlLXMxMS_SAYMBaHR0cHM6Ly93d3cuYW5kcm9pZHBvbGljZS5jb20vMjAxOS8xMi8wNC9zYW1zdW5nLWdhbGF4eS1idWRzLXJ1bW9yZWQtdG8tZmVhdHVyZS1hY3RpdmUtbm9pc2UtY2FuY2VsbGF0aW9uLWxhdW5jaC1hbG9uZ3NpZGUtczExLz9hbXA?oc=5\n",
            "Wed, 04 Dec 2019 12:25:00 GMT\n",
            "------------------------------------------------------------\n",
            "Princess Anne Refuses To Greet Donald Trump At NATO Reception & Twitter Is Living For It — Watch - Hollywood Life\n",
            "https://news.google.com/__i/rss/rd/articles/CBMibmh0dHBzOi8vaG9sbHl3b29kbGlmZS5jb20vMjAxOS8xMi8wNC9wcmluY2Vzcy1hbm5lLWRvbmFsZC10cnVtcC1uYXRvLXJlY2VwdGlvbi1xdWVlbi1lbGl6YWJldGgtcmVhY3Rpb24tdmlkZW8v0gFyaHR0cHM6Ly9ob2xseXdvb2RsaWZlLmNvbS8yMDE5LzEyLzA0L3ByaW5jZXNzLWFubmUtZG9uYWxkLXRydW1wLW5hdG8tcmVjZXB0aW9uLXF1ZWVuLWVsaXphYmV0aC1yZWFjdGlvbi12aWRlby9hbXAv?oc=5\n",
            "Wed, 04 Dec 2019 12:52:00 GMT\n",
            "------------------------------------------------------------\n",
            "No Time To Die - Official Trailer (2020) Daniel Craig, Rami Malek, Lashana Lynch - IGN\n",
            "https://news.google.com/__i/rss/rd/articles/CBMiK2h0dHBzOi8vd3d3LnlvdXR1YmUuY29tL3dhdGNoP3Y9YmdCeGttZGd1Q1HSAQA?oc=5\n",
            "Wed, 04 Dec 2019 13:37:19 GMT\n",
            "------------------------------------------------------------\n",
            "Jay Z returns to Spotify - The Verge\n",
            "https://news.google.com/__i/rss/rd/articles/CBMiQWh0dHBzOi8vd3d3LnRoZXZlcmdlLmNvbS8yMDE5LzEyLzQvMjA5OTQ5MjAvamF5LXotYmFjay1vbi1zcG90aWZ50gFOaHR0cHM6Ly93d3cudGhldmVyZ2UuY29tL3BsYXRmb3JtL2FtcC8yMDE5LzEyLzQvMjA5OTQ5MjAvamF5LXotYmFjay1vbi1zcG90aWZ5?oc=5\n",
            "Wed, 04 Dec 2019 08:14:44 GMT\n",
            "------------------------------------------------------------\n",
            "The Turner Prize Goes to … All 4 Shortlisted Artists - The New York Times\n",
            "https://news.google.com/__i/rss/rd/articles/CBMiQWh0dHBzOi8vd3d3Lm55dGltZXMuY29tLzIwMTkvMTIvMDMvYXJ0cy90dXJuZXItcHJpemUtd2lubmVycy5odG1s0gFFaHR0cHM6Ly93d3cubnl0aW1lcy5jb20vMjAxOS8xMi8wMy9hcnRzL3R1cm5lci1wcml6ZS13aW5uZXJzLmFtcC5odG1s?oc=5\n",
            "Tue, 03 Dec 2019 21:51:00 GMT\n",
            "------------------------------------------------------------\n",
            "49ers can clinch a playoff berth in Week 14 with a win - Niners Nation\n",
            "https://news.google.com/__i/rss/rd/articles/CBMiZmh0dHBzOi8vd3d3Lm5pbmVyc25hdGlvbi5jb20vMjAxOS8xMi8zLzIwOTk0MTA0LzQ5ZXJzLWNhbi1jbGluY2gtYS1wbGF5b2ZmLWJlcnRoLWluLXdlZWstMTQtd2l0aC1hLXdpbtIBc2h0dHBzOi8vd3d3Lm5pbmVyc25hdGlvbi5jb20vcGxhdGZvcm0vYW1wLzIwMTkvMTIvMy8yMDk5NDEwNC80OWVycy1jYW4tY2xpbmNoLWEtcGxheW9mZi1iZXJ0aC1pbi13ZWVrLTE0LXdpdGgtYS13aW4?oc=5\n",
            "Tue, 03 Dec 2019 23:30:00 GMT\n",
            "------------------------------------------------------------\n",
            "How good is Ohio State football’s Big Ten Championship opponent Wisconsin? - cleveland.com\n",
            "https://news.google.com/__i/rss/rd/articles/CBMic2h0dHBzOi8vd3d3LmNsZXZlbGFuZC5jb20vb3N1LzIwMTkvMTIvaG93LWdvb2QtaXMtb2hpby1zdGF0ZS1mb290YmFsbHMtYmlnLXRlbi1jaGFtcGlvbnNoaXAtb3Bwb25lbnQtd2lzY29uc2luLmh0bWzSAYIBaHR0cHM6Ly93d3cuY2xldmVsYW5kLmNvbS9vc3UvMjAxOS8xMi9ob3ctZ29vZC1pcy1vaGlvLXN0YXRlLWZvb3RiYWxscy1iaWctdGVuLWNoYW1waW9uc2hpcC1vcHBvbmVudC13aXNjb25zaW4uaHRtbD9vdXRwdXRUeXBlPWFtcA?oc=5\n",
            "Wed, 04 Dec 2019 11:08:00 GMT\n",
            "------------------------------------------------------------\n",
            "Michigan State basketball 'embarrassed' by subpar effort in home loss to Duke - Detroit Free Press\n",
            "https://news.google.com/__i/rss/rd/articles/CBMigQFodHRwczovL3d3dy5mcmVlcC5jb20vc3Rvcnkvc3BvcnRzL2NvbGxlZ2UvbWljaGlnYW4tc3RhdGUvc3BhcnRhbnMvMjAxOS8xMi8wNC9taWNoaWdhbi1zdGF0ZS1iYXNrZXRiYWxsLWR1a2UtYW5hbHlzaXMvMjYwNTkyNjAwMS_SASRodHRwczovL2FtcC5mcmVlcC5jb20vYW1wLzI2MDU5MjYwMDE?oc=5\n",
            "Wed, 04 Dec 2019 12:13:00 GMT\n",
            "------------------------------------------------------------\n",
            "Top-ranked Louisville is up to the Challenge; Michigan State still searching - ESPN\n",
            "https://news.google.com/__i/rss/rd/articles/CBMifWh0dHBzOi8vd3d3LmVzcG4uY29tL21lbnMtY29sbGVnZS1iYXNrZXRiYWxsL3N0b3J5L18vaWQvMjgyMjA1MzMvdG9wLXJhbmtlZC1sb3Vpc3ZpbGxlLXRoZS1jaGFsbGVuZ2UtbWljaGlnYW4tc3RhdGUtc2VhcmNoaW5n0gGKAWh0dHBzOi8vd3d3LmVzcG4uY29tL21lbnMtY29sbGVnZS1iYXNrZXRiYWxsL3N0b3J5L18vaWQvMjgyMjA1MzMvdG9wLXJhbmtlZC1sb3Vpc3ZpbGxlLXRoZS1jaGFsbGVuZ2UtbWljaGlnYW4tc3RhdGUtc2VhcmNoaW5nP3BsYXRmb3JtPWFtcA?oc=5\n",
            "Wed, 04 Dec 2019 06:03:51 GMT\n",
            "------------------------------------------------------------\n",
            "SpaceX to Launch Beer Experiment, 'Mighty Mice' and More for NASA Today. How to Watch - Space.com\n",
            "https://news.google.com/__i/rss/rd/articles/CBMiTGh0dHBzOi8vd3d3LnNwYWNlLmNvbS9zcGFjZXgtZHJhZ29uLXdlaXJkLXNjaWVuY2UtbGF1bmNoLWNycy0xOS13ZWJjYXN0Lmh0bWzSAVBodHRwczovL3d3dy5zcGFjZS5jb20vYW1wL3NwYWNleC1kcmFnb24td2VpcmQtc2NpZW5jZS1sYXVuY2gtY3JzLTE5LXdlYmNhc3QuaHRtbA?oc=5\n",
            "Wed, 04 Dec 2019 12:23:00 GMT\n",
            "------------------------------------------------------------\n",
            "Spacewalkers splice in new pumps to repair AMS cosmic ray detector - collectSPACE.com\n",
            "https://news.google.com/__i/rss/rd/articles/CBMiTWh0dHA6Ly93d3cuY29sbGVjdHNwYWNlLmNvbS9uZXdzL25ld3MtMTIwMjE5YS1hbXMtcmVwYWlyLXRoaXJkLXNwYWNld2Fsay5odG1s0gEA?oc=5\n",
            "Mon, 02 Dec 2019 17:50:21 GMT\n",
            "------------------------------------------------------------\n",
            "ISRO chief rejects NASA's Vikram Lander discovery claim - Deccan Herald\n",
            "https://news.google.com/__i/rss/rd/articles/CBMiaGh0dHBzOi8vd3d3LmRlY2NhbmhlcmFsZC5jb20vbmF0aW9uYWwvaXNyby1jaGllZi1yZWplY3RzLW5hc2FzLXZpa3JhbS1sYW5kZXItZGlzY292ZXJ5LWNsYWltLTc4MjQxNy5odG1s0gFsaHR0cHM6Ly93d3cuZGVjY2FuaGVyYWxkLmNvbS9hbXAvbmF0aW9uYWwvaXNyby1jaGllZi1yZWplY3RzLW5hc2FzLXZpa3JhbS1sYW5kZXItZGlzY292ZXJ5LWNsYWltLTc4MjQxNy5odG1s?oc=5\n",
            "Wed, 04 Dec 2019 04:33:14 GMT\n",
            "------------------------------------------------------------\n",
            "Apocalyptic asteroid strike that could wipe out humanity is ‘only a matter of time’, top scientist warns - Fox News\n",
            "https://news.google.com/__i/rss/rd/articles/CBMihQFodHRwczovL3d3dy5mb3huZXdzLmNvbS9zY2llbmNlL2Fwb2NhbHlwdGljLWFzdGVyb2lkLXN0cmlrZS10aGF0LWNvdWxkLXdpcGUtb3V0LWh1bWFuaXR5LWlzLW9ubHktYS1tYXR0ZXItb2YtdGltZS10b3Atc2NpZW50aXN0LXdhcm5z0gGJAWh0dHBzOi8vd3d3LmZveG5ld3MuY29tL3NjaWVuY2UvYXBvY2FseXB0aWMtYXN0ZXJvaWQtc3RyaWtlLXRoYXQtY291bGQtd2lwZS1vdXQtaHVtYW5pdHktaXMtb25seS1hLW1hdHRlci1vZi10aW1lLXRvcC1zY2llbnRpc3Qtd2FybnMuYW1w?oc=5\n",
            "Tue, 03 Dec 2019 17:02:39 GMT\n",
            "------------------------------------------------------------\n",
            "New government program provides HIV prevention drugs for uninsured - CNN\n",
            "https://news.google.com/__i/rss/rd/articles/CBMiS2h0dHBzOi8vd3d3LmNubi5jb20vMjAxOS8xMi8wMy9oZWFsdGgvaGhzLWhpdi1wcmVwLWZvci11bmluc3VyZWQvaW5kZXguaHRtbNIBT2h0dHBzOi8vYW1wLmNubi5jb20vY25uLzIwMTkvMTIvMDMvaGVhbHRoL2hocy1oaXYtcHJlcC1mb3ItdW5pbnN1cmVkL2luZGV4Lmh0bWw?oc=5\n",
            "Wed, 04 Dec 2019 02:42:00 GMT\n",
            "------------------------------------------------------------\n",
            "Breast cancer survivor fights with insurance company over annual diagnostic mammograms ordered by the doctor - CBS News\n",
            "https://news.google.com/__i/rss/rd/articles/CBMidGh0dHBzOi8vd3d3LmNic25ld3MuY29tL25ld3MvYnJlYXN0LWNhbmNlci1zdXJ2aXZvci1maWdodHMtd2l0aC1pbnN1cmFuY2UtY29tcGFueS1vdmVyLWFubnVhbC1kaWFnbm9zdGljLW1hbW1vZ3JhbXMv0gF4aHR0cHM6Ly93d3cuY2JzbmV3cy5jb20vYW1wL25ld3MvYnJlYXN0LWNhbmNlci1zdXJ2aXZvci1maWdodHMtd2l0aC1pbnN1cmFuY2UtY29tcGFueS1vdmVyLWFubnVhbC1kaWFnbm9zdGljLW1hbW1vZ3JhbXMv?oc=5\n",
            "Wed, 04 Dec 2019 12:36:00 GMT\n",
            "------------------------------------------------------------\n",
            "Two more flu deaths reported in Arkansas - 4029tv\n",
            "https://news.google.com/__i/rss/rd/articles/CBMiO2h0dHBzOi8vd3d3LjQwMjl0di5jb20vYXJ0aWNsZS9mbHUtZGVhdGhzLWFya2Fuc2FzLzMwMTEwMDU30gE_aHR0cHM6Ly93d3cuNDAyOXR2LmNvbS9hbXAvYXJ0aWNsZS9mbHUtZGVhdGhzLWFya2Fuc2FzLzMwMTEwMDU3?oc=5\n",
            "Tue, 03 Dec 2019 21:38:18 GMT\n",
            "------------------------------------------------------------\n",
            "Is coloring hair safe? Dye, straighteners may increase breast cancer risk, study finds - TODAY\n",
            "https://news.google.com/__i/rss/rd/articles/CBMiaWh0dHBzOi8vd3d3LnRvZGF5LmNvbS9oZWFsdGgvY29sb3JpbmctaGFpci1zYWZlLWR5ZS1zdHJhaWdodGVuZXJzLW1heS1pbmNyZWFzZS1icmVhc3QtY2FuY2VyLXJpc2stdDE2OTEyM9IBKmh0dHBzOi8vd3d3LnRvZGF5LmNvbS90b2RheS9hbXAvdGRuYTE2OTEyMw?oc=5\n",
            "Wed, 04 Dec 2019 05:00:00 GMT\n",
            "------------------------------------------------------------\n"
          ],
          "name": "stdout"
        }
      ]
    },
    {
      "cell_type": "code",
      "metadata": {
        "id": "IGVQUf5tOFIk",
        "colab_type": "code",
        "colab": {
          "base_uri": "https://localhost:8080/",
          "height": 1000
        },
        "outputId": "45f72156-5306-42d7-d7eb-10024ef01762"
      },
      "source": [
        "import pkg_resources\n",
        "installed_packages = pkg_resources.working_set\n",
        "installed_packages_list = sorted([\"%s==%s\" % (i.key, i.version)\n",
        "     for i in installed_packages])\n",
        "for m in installed_packages_list:\n",
        "    print(m)"
      ],
      "execution_count": 3,
      "outputs": [
        {
          "output_type": "stream",
          "text": [
            "absl-py==0.8.1\n",
            "alabaster==0.7.12\n",
            "albumentations==0.1.12\n",
            "altair==3.2.0\n",
            "astor==0.8.0\n",
            "astropy==3.0.5\n",
            "atari-py==0.2.6\n",
            "atomicwrites==1.3.0\n",
            "attrs==19.3.0\n",
            "audioread==2.1.8\n",
            "autograd==1.3\n",
            "babel==2.7.0\n",
            "backcall==0.1.0\n",
            "backports.tempfile==1.0\n",
            "backports.weakref==1.0.post1\n",
            "beautifulsoup4==4.6.3\n",
            "bleach==3.1.0\n",
            "blis==0.2.4\n",
            "bokeh==1.0.4\n",
            "boto3==1.10.18\n",
            "boto==2.49.0\n",
            "botocore==1.13.18\n",
            "bottleneck==1.3.0\n",
            "branca==0.3.1\n",
            "bs4==0.0.1\n",
            "bz2file==0.98\n",
            "cachetools==3.1.1\n",
            "certifi==2019.9.11\n",
            "cffi==1.13.2\n",
            "chainer==6.5.0\n",
            "chardet==3.0.4\n",
            "chart-studio==1.0.0\n",
            "click==7.0\n",
            "cloudpickle==1.2.2\n",
            "cmake==3.12.0\n",
            "colorlover==0.3.0\n",
            "community==1.0.0b1\n",
            "contextlib2==0.5.5\n",
            "convertdate==2.2.0\n",
            "coverage==3.7.1\n",
            "coveralls==0.5\n",
            "crcmod==1.7\n",
            "cufflinks==0.17.0\n",
            "cvxopt==1.2.3\n",
            "cvxpy==1.0.25\n",
            "cycler==0.10.0\n",
            "cymem==2.0.3\n",
            "cython==0.29.14\n",
            "daft==0.0.4\n",
            "dask==1.1.5\n",
            "dataclasses==0.7\n",
            "datascience==0.10.6\n",
            "decorator==4.4.1\n",
            "defusedxml==0.6.0\n",
            "descartes==1.1.0\n",
            "dill==0.3.1.1\n",
            "distributed==1.25.3\n",
            "django==2.2.7\n",
            "dlib==19.18.0\n",
            "dm-sonnet==1.35\n",
            "docopt==0.6.2\n",
            "docutils==0.15.2\n",
            "dopamine-rl==1.0.5\n",
            "earthengine-api==0.1.206\n",
            "easydict==1.9\n",
            "ecos==2.0.7.post1\n",
            "editdistance==0.5.3\n",
            "en-core-web-sm==2.1.0\n",
            "entrypoints==0.3\n",
            "et-xmlfile==1.0.1\n",
            "fa2==0.3.5\n",
            "fancyimpute==0.4.3\n",
            "fastai==1.0.59\n",
            "fastcache==1.1.0\n",
            "fastdtw==0.3.4\n",
            "fastprogress==0.1.21\n",
            "fastrlock==0.4\n",
            "fbprophet==0.5\n",
            "feather-format==0.4.0\n",
            "featuretools==0.4.1\n",
            "filelock==3.0.12\n",
            "fix-yahoo-finance==0.0.22\n",
            "flask==1.1.1\n",
            "folium==0.8.3\n",
            "fsspec==0.6.0\n",
            "future==0.16.0\n",
            "gast==0.2.2\n",
            "gdal==2.2.2\n",
            "gdown==3.6.4\n",
            "gensim==3.6.0\n",
            "geographiclib==1.50\n",
            "geopy==1.17.0\n",
            "gevent==1.4.0\n",
            "gin-config==0.2.1\n",
            "glob2==0.7\n",
            "google-api-core==1.14.3\n",
            "google-api-python-client==1.7.11\n",
            "google-auth-httplib2==0.0.3\n",
            "google-auth-oauthlib==0.4.1\n",
            "google-auth==1.4.2\n",
            "google-cloud-bigquery==1.21.0\n",
            "google-cloud-core==1.0.3\n",
            "google-cloud-datastore==1.8.0\n",
            "google-cloud-language==1.2.0\n",
            "google-cloud-storage==1.16.2\n",
            "google-cloud-translate==1.5.0\n",
            "google-colab==1.0.0\n",
            "google-pasta==0.1.8\n",
            "google-resumable-media==0.4.1\n",
            "google==2.0.2\n",
            "googleapis-common-protos==1.6.0\n",
            "googledrivedownloader==0.4\n",
            "graph-nets==1.0.5\n",
            "graphviz==0.10.1\n",
            "greenlet==0.4.15\n",
            "grpcio==1.15.0\n",
            "gspread-dataframe==3.0.3\n",
            "gspread==3.0.1\n",
            "gunicorn==20.0.0\n",
            "gym==0.15.4\n",
            "h5py==2.8.0\n",
            "heapdict==1.0.1\n",
            "holidays==0.9.11\n",
            "html5lib==1.0.1\n",
            "httpimport==0.5.18\n",
            "httplib2==0.11.3\n",
            "humanize==0.5.1\n",
            "hyperopt==0.1.2\n",
            "ideep4py==2.0.0.post3\n",
            "idna==2.8\n",
            "image==1.5.27\n",
            "imageio==2.4.1\n",
            "imagesize==1.1.0\n",
            "imbalanced-learn==0.4.3\n",
            "imblearn==0.0\n",
            "imgaug==0.2.9\n",
            "importlib-metadata==0.23\n",
            "imutils==0.5.3\n",
            "inflect==2.1.0\n",
            "intel-openmp==2020.0.133\n",
            "intervaltree==2.1.0\n",
            "ipykernel==4.6.1\n",
            "ipython-genutils==0.2.0\n",
            "ipython-sql==0.3.9\n",
            "ipython==5.5.0\n",
            "ipywidgets==7.5.1\n",
            "itsdangerous==1.1.0\n",
            "jax==0.1.51\n",
            "jaxlib==0.1.33\n",
            "jdcal==1.4.1\n",
            "jedi==0.15.1\n",
            "jieba==0.39\n",
            "jinja2==2.10.3\n",
            "jmespath==0.9.4\n",
            "joblib==0.14.0\n",
            "jpeg4py==0.1.4\n",
            "jsonschema==2.6.0\n",
            "jupyter-client==5.3.4\n",
            "jupyter-console==5.2.0\n",
            "jupyter-core==4.6.1\n",
            "jupyter==1.0.0\n",
            "kaggle==1.5.6\n",
            "kapre==0.1.3.1\n",
            "keras-applications==1.0.8\n",
            "keras-preprocessing==1.1.0\n",
            "keras-vis==0.4.1\n",
            "keras==2.2.5\n",
            "kfac==0.2.0\n",
            "kiwisolver==1.1.0\n",
            "knnimpute==0.1.0\n",
            "librosa==0.6.3\n",
            "lightgbm==2.2.3\n",
            "llvmlite==0.30.0\n",
            "lmdb==0.98\n",
            "lucid==0.3.8\n",
            "lunardate==0.2.0\n",
            "lxml==4.2.6\n",
            "magenta==0.3.19\n",
            "markdown==3.1.1\n",
            "markupsafe==1.1.1\n",
            "matplotlib-venn==0.11.5\n",
            "matplotlib==3.1.1\n",
            "mesh-tensorflow==0.1.4\n",
            "mido==1.2.6\n",
            "mir-eval==0.5\n",
            "missingno==0.4.2\n",
            "mistune==0.8.4\n",
            "mizani==0.5.4\n",
            "mkl==2019.0\n",
            "mlxtend==0.14.0\n",
            "more-itertools==7.2.0\n",
            "moviepy==0.2.3.5\n",
            "mpi4py==3.0.3\n",
            "mpmath==1.1.0\n",
            "msgpack==0.5.6\n",
            "multiprocess==0.70.9\n",
            "multitasking==0.0.9\n",
            "murmurhash==1.0.2\n",
            "music21==5.5.0\n",
            "natsort==5.5.0\n",
            "nbconvert==5.6.1\n",
            "nbformat==4.4.0\n",
            "networkx==2.4\n",
            "nibabel==2.3.3\n",
            "nltk==3.2.5\n",
            "notebook==5.2.2\n",
            "np-utils==0.5.11.1\n",
            "numba==0.40.1\n",
            "numexpr==2.7.0\n",
            "numpy==1.17.4\n",
            "nvidia-ml-py3==7.352.0\n",
            "oauth2client==4.1.3\n",
            "oauthlib==3.1.0\n",
            "okgrade==0.4.3\n",
            "olefile==0.46\n",
            "opencv-contrib-python==3.4.3.18\n",
            "opencv-python==3.4.7.28\n",
            "openpyxl==2.5.9\n",
            "opt-einsum==3.1.0\n",
            "osqp==0.6.1\n",
            "packaging==19.2\n",
            "palettable==3.3.0\n",
            "pandas-datareader==0.7.4\n",
            "pandas-gbq==0.11.0\n",
            "pandas-profiling==1.4.1\n",
            "pandas==0.25.3\n",
            "pandocfilters==1.4.2\n",
            "parso==0.5.1\n",
            "pathlib==1.0.1\n",
            "patsy==0.5.1\n",
            "pexpect==4.7.0\n",
            "pickleshare==0.7.5\n",
            "pillow==4.3.0\n",
            "pip-tools==4.2.0\n",
            "pip==19.3.1\n",
            "plac==0.9.6\n",
            "plotly==4.1.1\n",
            "plotnine==0.5.1\n",
            "pluggy==0.7.1\n",
            "portpicker==1.2.0\n",
            "prefetch-generator==1.0.1\n",
            "preshed==2.0.1\n",
            "pretty-midi==0.2.8\n",
            "prettytable==0.7.2\n",
            "progressbar2==3.38.0\n",
            "prometheus-client==0.7.1\n",
            "promise==2.2.1\n",
            "prompt-toolkit==1.0.18\n",
            "protobuf==3.10.0\n",
            "psutil==5.4.8\n",
            "psycopg2==2.7.6.1\n",
            "ptyprocess==0.6.0\n",
            "py==1.8.0\n",
            "pyarrow==0.14.1\n",
            "pyasn1-modules==0.2.7\n",
            "pyasn1==0.4.7\n",
            "pycocotools==2.0.0\n",
            "pycparser==2.19\n",
            "pydata-google-auth==0.1.3\n",
            "pydot-ng==2.0.0\n",
            "pydot==1.3.0\n",
            "pydotplus==2.0.2\n",
            "pydrive==1.3.1\n",
            "pyemd==0.5.1\n",
            "pyglet==1.3.2\n",
            "pygments==2.1.3\n",
            "pygobject==3.26.1\n",
            "pymc3==3.7\n",
            "pymeeus==0.3.6\n",
            "pymongo==3.9.0\n",
            "pymystem3==0.2.0\n",
            "pyopengl==3.1.0\n",
            "pyparsing==2.4.5\n",
            "pypng==0.0.20\n",
            "pyrsistent==0.15.5\n",
            "pysndfile==1.3.8\n",
            "pysocks==1.7.1\n",
            "pystan==2.19.1.1\n",
            "pytest==3.6.4\n",
            "python-apt==1.6.4\n",
            "python-chess==0.23.11\n",
            "python-dateutil==2.6.1\n",
            "python-louvain==0.13\n",
            "python-rtmidi==1.3.1\n",
            "python-slugify==4.0.0\n",
            "python-utils==2.3.0\n",
            "pytz==2018.9\n",
            "pywavelets==1.1.1\n",
            "pyyaml==3.13\n",
            "pyzmq==17.0.0\n",
            "qtconsole==4.6.0\n",
            "requests-oauthlib==1.3.0\n",
            "requests==2.21.0\n",
            "resampy==0.2.2\n",
            "retrying==1.3.3\n",
            "rpy2==2.9.5\n",
            "rsa==4.0\n",
            "s3fs==0.4.0\n",
            "s3transfer==0.2.1\n",
            "scikit-image==0.15.0\n",
            "scikit-learn==0.21.3\n",
            "scipy==1.3.2\n",
            "screen-resolution-extra==0.0.0\n",
            "scs==2.1.1.post2\n",
            "seaborn==0.9.0\n",
            "semantic-version==2.8.2\n",
            "send2trash==1.5.0\n",
            "setuptools-git==1.2\n",
            "setuptools==41.6.0\n",
            "shapely==1.6.4.post2\n",
            "simplegeneric==0.8.1\n",
            "six==1.12.0\n",
            "sklearn-pandas==1.8.0\n",
            "sklearn==0.0\n",
            "smart-open==1.9.0\n",
            "snowballstemmer==2.0.0\n",
            "sortedcontainers==2.1.0\n",
            "spacy==2.1.9\n",
            "sphinx==1.8.5\n",
            "sphinxcontrib-websupport==1.1.2\n",
            "sqlalchemy==1.3.11\n",
            "sqlparse==0.3.0\n",
            "srsly==0.2.0\n",
            "stable-baselines==2.2.1\n",
            "statsmodels==0.10.1\n",
            "sympy==1.1.1\n",
            "tables==3.4.4\n",
            "tabulate==0.8.5\n",
            "tblib==1.5.0\n",
            "tensor2tensor==1.14.1\n",
            "tensorboard==1.15.0\n",
            "tensorboardcolab==0.0.22\n",
            "tensorflow-datasets==1.3.0\n",
            "tensorflow-estimator==1.15.1\n",
            "tensorflow-gan==2.0.0\n",
            "tensorflow-hub==0.7.0\n",
            "tensorflow-metadata==0.15.1\n",
            "tensorflow-privacy==0.2.2\n",
            "tensorflow-probability==0.7.0\n",
            "tensorflow==1.15.0\n",
            "termcolor==1.1.0\n",
            "terminado==0.8.3\n",
            "testpath==0.4.4\n",
            "text-unidecode==1.3\n",
            "textblob==0.15.3\n",
            "textgenrnn==1.4.1\n",
            "tflearn==0.3.2\n",
            "theano==1.0.4\n",
            "thinc==7.0.8\n",
            "toolz==0.10.0\n",
            "torch==1.3.1\n",
            "torchsummary==1.5.1\n",
            "torchtext==0.3.1\n",
            "torchvision==0.4.2\n",
            "tornado==4.5.3\n",
            "tqdm==4.28.1\n",
            "traitlets==4.3.3\n",
            "tweepy==3.6.0\n",
            "typing-extensions==3.6.6\n",
            "typing==3.6.6\n",
            "tzlocal==1.5.1\n",
            "umap-learn==0.3.10\n",
            "uritemplate==3.0.0\n",
            "urllib3==1.24.3\n",
            "vega-datasets==0.7.0\n",
            "wasabi==0.4.0\n",
            "wcwidth==0.1.7\n",
            "webencodings==0.5.1\n",
            "werkzeug==0.16.0\n",
            "wheel==0.33.6\n",
            "widgetsnbextension==3.5.1\n",
            "wordcloud==1.5.0\n",
            "wrapt==1.11.2\n",
            "xarray==0.11.3\n",
            "xgboost==0.90\n",
            "xkit==0.0.0\n",
            "xlrd==1.1.0\n",
            "xlwt==1.3.0\n",
            "yellowbrick==0.9.1\n",
            "zict==1.0.0\n",
            "zipp==0.6.0\n",
            "zmq==0.0.0\n"
          ],
          "name": "stdout"
        }
      ]
    },
    {
      "cell_type": "code",
      "metadata": {
        "id": "zF9x91vqOT9G",
        "colab_type": "code",
        "colab": {
          "base_uri": "https://localhost:8080/",
          "height": 34
        },
        "outputId": "ea105d2b-d357-4a6a-9099-cf4502880bda"
      },
      "source": [
        "string1=\"dollar\"\n",
        "print(len(string1))"
      ],
      "execution_count": 9,
      "outputs": [
        {
          "output_type": "stream",
          "text": [
            "6\n"
          ],
          "name": "stdout"
        }
      ]
    },
    {
      "cell_type": "code",
      "metadata": {
        "id": "e17GzjybSAv0",
        "colab_type": "code",
        "colab": {
          "base_uri": "https://localhost:8080/",
          "height": 34
        },
        "outputId": "083b4e10-b633-4e9d-8f3e-92d1acbd510a"
      },
      "source": [
        "for i in string1:\n",
        "  i.count(string1)\n",
        "print(i)"
      ],
      "execution_count": 6,
      "outputs": [
        {
          "output_type": "stream",
          "text": [
            "r\n"
          ],
          "name": "stdout"
        }
      ]
    },
    {
      "cell_type": "code",
      "metadata": {
        "id": "RdPJlgf8SRPn",
        "colab_type": "code",
        "colab": {
          "base_uri": "https://localhost:8080/",
          "height": 231
        },
        "outputId": "4a3c9660-fedf-4f37-afbb-ad26e0e89903"
      },
      "source": [
        "i=0\n",
        "for i in string1:\n",
        "  while i<len(string1):\n",
        "    i+=1\n",
        "print(i)"
      ],
      "execution_count": 7,
      "outputs": [
        {
          "output_type": "error",
          "ename": "TypeError",
          "evalue": "ignored",
          "traceback": [
            "\u001b[0;31m---------------------------------------------------------------------------\u001b[0m",
            "\u001b[0;31mTypeError\u001b[0m                                 Traceback (most recent call last)",
            "\u001b[0;32m<ipython-input-7-db29b56c2029>\u001b[0m in \u001b[0;36m<module>\u001b[0;34m()\u001b[0m\n\u001b[1;32m      1\u001b[0m \u001b[0mi\u001b[0m\u001b[0;34m=\u001b[0m\u001b[0;36m0\u001b[0m\u001b[0;34m\u001b[0m\u001b[0;34m\u001b[0m\u001b[0m\n\u001b[1;32m      2\u001b[0m \u001b[0;32mfor\u001b[0m \u001b[0mi\u001b[0m \u001b[0;32min\u001b[0m \u001b[0mstring1\u001b[0m\u001b[0;34m:\u001b[0m\u001b[0;34m\u001b[0m\u001b[0;34m\u001b[0m\u001b[0m\n\u001b[0;32m----> 3\u001b[0;31m   \u001b[0;32mwhile\u001b[0m \u001b[0mi\u001b[0m\u001b[0;34m<\u001b[0m\u001b[0mlen\u001b[0m\u001b[0;34m(\u001b[0m\u001b[0mstring1\u001b[0m\u001b[0;34m)\u001b[0m\u001b[0;34m:\u001b[0m\u001b[0;34m\u001b[0m\u001b[0;34m\u001b[0m\u001b[0m\n\u001b[0m\u001b[1;32m      4\u001b[0m     \u001b[0mi\u001b[0m\u001b[0;34m+=\u001b[0m\u001b[0;36m1\u001b[0m\u001b[0;34m\u001b[0m\u001b[0;34m\u001b[0m\u001b[0m\n\u001b[1;32m      5\u001b[0m \u001b[0mprint\u001b[0m\u001b[0;34m(\u001b[0m\u001b[0mi\u001b[0m\u001b[0;34m)\u001b[0m\u001b[0;34m\u001b[0m\u001b[0;34m\u001b[0m\u001b[0m\n",
            "\u001b[0;31mTypeError\u001b[0m: '<' not supported between instances of 'str' and 'int'"
          ]
        }
      ]
    },
    {
      "cell_type": "code",
      "metadata": {
        "id": "JZ1IKwqYS1Is",
        "colab_type": "code",
        "colab": {
          "base_uri": "https://localhost:8080/",
          "height": 34
        },
        "outputId": "f4d4cb6f-316d-46e5-9188-c4a9c8d3efea"
      },
      "source": [
        "Sample_String=\"google\"\n",
        "print(Sample_String)"
      ],
      "execution_count": 15,
      "outputs": [
        {
          "output_type": "stream",
          "text": [
            "google\n"
          ],
          "name": "stdout"
        }
      ]
    },
    {
      "cell_type": "code",
      "metadata": {
        "id": "E0GtTTdrUk_2",
        "colab_type": "code",
        "colab": {
          "base_uri": "https://localhost:8080/",
          "height": 34
        },
        "outputId": "7d289002-1f4c-467a-a4e5-9741ae514948"
      },
      "source": [
        "Sample_String=\"google.com\"\n",
        "print(Sample_String)"
      ],
      "execution_count": 16,
      "outputs": [
        {
          "output_type": "stream",
          "text": [
            "google.com\n"
          ],
          "name": "stdout"
        }
      ]
    },
    {
      "cell_type": "code",
      "metadata": {
        "id": "OK6_dIMOVQ10",
        "colab_type": "code",
        "colab": {
          "base_uri": "https://localhost:8080/",
          "height": 34
        },
        "outputId": "9f3430c2-2b1f-42e9-e746-1a69f8c120b4"
      },
      "source": [
        "Sample_String.count(\"g\")"
      ],
      "execution_count": 22,
      "outputs": [
        {
          "output_type": "execute_result",
          "data": {
            "text/plain": [
              "2"
            ]
          },
          "metadata": {
            "tags": []
          },
          "execution_count": 22
        }
      ]
    },
    {
      "cell_type": "code",
      "metadata": {
        "id": "lrD6opkjVfqW",
        "colab_type": "code",
        "colab": {
          "base_uri": "https://localhost:8080/",
          "height": 197
        },
        "outputId": "125f5b7b-44c0-4959-9faf-69e1f1a30af7"
      },
      "source": [
        "char=0\n",
        "for char in Sample_String:\n",
        "  char.count\n",
        "  char+=1"
      ],
      "execution_count": 24,
      "outputs": [
        {
          "output_type": "error",
          "ename": "TypeError",
          "evalue": "ignored",
          "traceback": [
            "\u001b[0;31m---------------------------------------------------------------------------\u001b[0m",
            "\u001b[0;31mTypeError\u001b[0m                                 Traceback (most recent call last)",
            "\u001b[0;32m<ipython-input-24-8e355367a664>\u001b[0m in \u001b[0;36m<module>\u001b[0;34m()\u001b[0m\n\u001b[1;32m      2\u001b[0m \u001b[0;32mfor\u001b[0m \u001b[0mchar\u001b[0m \u001b[0;32min\u001b[0m \u001b[0mSample_String\u001b[0m\u001b[0;34m:\u001b[0m\u001b[0;34m\u001b[0m\u001b[0;34m\u001b[0m\u001b[0m\n\u001b[1;32m      3\u001b[0m   \u001b[0mchar\u001b[0m\u001b[0;34m.\u001b[0m\u001b[0mcount\u001b[0m\u001b[0;34m\u001b[0m\u001b[0;34m\u001b[0m\u001b[0m\n\u001b[0;32m----> 4\u001b[0;31m   \u001b[0mchar\u001b[0m\u001b[0;34m+=\u001b[0m\u001b[0;36m1\u001b[0m\u001b[0;34m\u001b[0m\u001b[0;34m\u001b[0m\u001b[0m\n\u001b[0m",
            "\u001b[0;31mTypeError\u001b[0m: must be str, not int"
          ]
        }
      ]
    },
    {
      "cell_type": "code",
      "metadata": {
        "id": "h4wX04W5WJoQ",
        "colab_type": "code",
        "colab": {
          "base_uri": "https://localhost:8080/",
          "height": 68
        },
        "outputId": "bb3f9a7e-1710-4b42-8b20-e9a9a17eca64"
      },
      "source": [
        "def string_both_ends(str):\n",
        "  if len(str) < 2:\n",
        "    return ''\n",
        "\n",
        "  return str[0:2] + str[-2:]\n",
        "\n",
        "print(string_both_ends('w3resource'))\n",
        "print(string_both_ends('w3'))\n",
        "print(string_both_ends('w'))"
      ],
      "execution_count": 25,
      "outputs": [
        {
          "output_type": "stream",
          "text": [
            "w3ce\n",
            "w3w3\n",
            "\n"
          ],
          "name": "stdout"
        }
      ]
    },
    {
      "cell_type": "code",
      "metadata": {
        "id": "TktW8IluXQI4",
        "colab_type": "code",
        "colab": {
          "base_uri": "https://localhost:8080/",
          "height": 34
        },
        "outputId": "bdf8caf5-4311-4eea-f033-2f0c84703932"
      },
      "source": [
        "def chars_mix_up(a, b):\n",
        "  new_a = b[:2] + a[2:]\n",
        "  new_b = a[:2] + b[2:]\n",
        "\n",
        "  return new_a + ' ' + new_b\n",
        "print(chars_mix_up('abc', 'xyz'))"
      ],
      "execution_count": 26,
      "outputs": [
        {
          "output_type": "stream",
          "text": [
            "xyc abz\n"
          ],
          "name": "stdout"
        }
      ]
    },
    {
      "cell_type": "code",
      "metadata": {
        "id": "yHhGNcDCbvLu",
        "colab_type": "code",
        "colab": {}
      },
      "source": [
        "def string_manipulate(str1):\n",
        "  if len(str1)>2:\n",
        "    if str1[-3:]==\"ing\":\n",
        "      str1+=\"ly\"\n",
        "    else:\n",
        "      str1+=\"ing\"\n",
        "  return str1"
      ],
      "execution_count": 0,
      "outputs": []
    },
    {
      "cell_type": "code",
      "metadata": {
        "id": "oh3IDN2Ie5rj",
        "colab_type": "code",
        "colab": {
          "base_uri": "https://localhost:8080/",
          "height": 34
        },
        "outputId": "21ed6d16-3e69-4f64-d58b-0e671f411b32"
      },
      "source": [
        "string_manipulate(\"abc\")"
      ],
      "execution_count": 31,
      "outputs": [
        {
          "output_type": "execute_result",
          "data": {
            "text/plain": [
              "'abcing'"
            ]
          },
          "metadata": {
            "tags": []
          },
          "execution_count": 31
        }
      ]
    },
    {
      "cell_type": "code",
      "metadata": {
        "id": "0-blWUFyfXO6",
        "colab_type": "code",
        "colab": {
          "base_uri": "https://localhost:8080/",
          "height": 34
        },
        "outputId": "0edf8d44-4b84-4b90-e095-4d15260976c5"
      },
      "source": [
        "string_manipulate(\"going\")"
      ],
      "execution_count": 32,
      "outputs": [
        {
          "output_type": "execute_result",
          "data": {
            "text/plain": [
              "'goingly'"
            ]
          },
          "metadata": {
            "tags": []
          },
          "execution_count": 32
        }
      ]
    },
    {
      "cell_type": "code",
      "metadata": {
        "id": "F7wcBB3_fkJK",
        "colab_type": "code",
        "colab": {
          "base_uri": "https://localhost:8080/",
          "height": 34
        },
        "outputId": "d9b1f6fd-2a33-45bb-a2ba-2da9c08de1da"
      },
      "source": [
        "str1=\"python\"\n",
        "str1[0]"
      ],
      "execution_count": 38,
      "outputs": [
        {
          "output_type": "execute_result",
          "data": {
            "text/plain": [
              "'p'"
            ]
          },
          "metadata": {
            "tags": []
          },
          "execution_count": 38
        }
      ]
    },
    {
      "cell_type": "code",
      "metadata": {
        "id": "Q5DBgCAKi1i9",
        "colab_type": "code",
        "colab": {
          "base_uri": "https://localhost:8080/",
          "height": 34
        },
        "outputId": "f5db4416-cf87-42b8-e029-a306df9c9d4c"
      },
      "source": [
        "str1.index(\"p\").del"
      ],
      "execution_count": 40,
      "outputs": [
        {
          "output_type": "execute_result",
          "data": {
            "text/plain": [
              "0"
            ]
          },
          "metadata": {
            "tags": []
          },
          "execution_count": 40
        }
      ]
    },
    {
      "cell_type": "code",
      "metadata": {
        "id": "VHHesM_Cji2T",
        "colab_type": "code",
        "colab": {}
      },
      "source": [
        "def rev_str(str1):\n",
        "  return str1[-1]+str1[1:-1]+str1[0]"
      ],
      "execution_count": 0,
      "outputs": []
    },
    {
      "cell_type": "code",
      "metadata": {
        "id": "6kpaeo3il7-T",
        "colab_type": "code",
        "colab": {
          "base_uri": "https://localhost:8080/",
          "height": 34
        },
        "outputId": "eb4deebe-7bfa-4369-c882-1a8fb504b862"
      },
      "source": [
        "rev_str(\"falana\")"
      ],
      "execution_count": 46,
      "outputs": [
        {
          "output_type": "execute_result",
          "data": {
            "text/plain": [
              "'aalanf'"
            ]
          },
          "metadata": {
            "tags": []
          },
          "execution_count": 46
        }
      ]
    },
    {
      "cell_type": "code",
      "metadata": {
        "id": "0mLhjWw0mCIq",
        "colab_type": "code",
        "colab": {}
      },
      "source": [
        "def odd_str(str2):\n",
        "  data=\"\"\n",
        "  return data.join(str2[::2])"
      ],
      "execution_count": 0,
      "outputs": []
    },
    {
      "cell_type": "code",
      "metadata": {
        "id": "6XKjJDOjYdKg",
        "colab_type": "code",
        "colab": {
          "base_uri": "https://localhost:8080/",
          "height": 34
        },
        "outputId": "2a02f21f-c31f-4174-a09a-31b51ebcf9f8"
      },
      "source": [
        "odd_str(\"goldsmith\")"
      ],
      "execution_count": 10,
      "outputs": [
        {
          "output_type": "execute_result",
          "data": {
            "text/plain": [
              "'glsih'"
            ]
          },
          "metadata": {
            "tags": []
          },
          "execution_count": 10
        }
      ]
    },
    {
      "cell_type": "code",
      "metadata": {
        "id": "htLJHbeWYnw4",
        "colab_type": "code",
        "colab": {
          "base_uri": "https://localhost:8080/",
          "height": 34
        },
        "outputId": "80f78107-d74b-4ebd-98e9-8172ad769f09"
      },
      "source": [
        "str2=\"goldsmith\"\n",
        "str2[::2]"
      ],
      "execution_count": 7,
      "outputs": [
        {
          "output_type": "execute_result",
          "data": {
            "text/plain": [
              "'glsih'"
            ]
          },
          "metadata": {
            "tags": []
          },
          "execution_count": 7
        }
      ]
    },
    {
      "cell_type": "code",
      "metadata": {
        "id": "OGICkZDxY4-h",
        "colab_type": "code",
        "colab": {}
      },
      "source": [
        "def odd_remove(str2):\n",
        "  result=0\n",
        "  for i in range(len(str2)):\n",
        "    if i%2==0:\n",
        "      result+=str[i]\n",
        "  return result\n"
      ],
      "execution_count": 0,
      "outputs": []
    },
    {
      "cell_type": "code",
      "metadata": {
        "id": "CwYRQBmYaNHF",
        "colab_type": "code",
        "colab": {}
      },
      "source": [
        "def counts(str):\n",
        "  count[word]=0\n",
        "  word1=str.split()\n",
        "  \n",
        "  for word in word1:\n",
        "    count[word]+=1\n",
        "  else:\n",
        "    count[word]=1\n"
      ],
      "execution_count": 0,
      "outputs": []
    },
    {
      "cell_type": "code",
      "metadata": {
        "id": "7MPNxabBaayX",
        "colab_type": "code",
        "colab": {}
      },
      "source": [
        "str1=\"the lazy dog has brown eyes the brown dog\"\n",
        "str2=str1.split()"
      ],
      "execution_count": 0,
      "outputs": []
    },
    {
      "cell_type": "code",
      "metadata": {
        "id": "-8NFrImweS6p",
        "colab_type": "code",
        "colab": {
          "base_uri": "https://localhost:8080/",
          "height": 34
        },
        "outputId": "2039648e-9085-44d5-88b2-ab081eb1867b"
      },
      "source": [
        "str2.count(\"the\")"
      ],
      "execution_count": 31,
      "outputs": [
        {
          "output_type": "execute_result",
          "data": {
            "text/plain": [
              "2"
            ]
          },
          "metadata": {
            "tags": []
          },
          "execution_count": 31
        }
      ]
    },
    {
      "cell_type": "code",
      "metadata": {
        "id": "3qMmQj9xfl8X",
        "colab_type": "code",
        "colab": {}
      },
      "source": [
        "def string_man(str):\n",
        "\n",
        "\n",
        "  my_string=input(\"enter any string:\")\n",
        "  return my_string.capitalize()\n"
      ],
      "execution_count": 0,
      "outputs": []
    },
    {
      "cell_type": "code",
      "metadata": {
        "id": "MofBKsN3ge3v",
        "colab_type": "code",
        "colab": {
          "base_uri": "https://localhost:8080/",
          "height": 51
        },
        "outputId": "ea4b0ed9-380e-414b-e111-bd0b4f3e2d9c"
      },
      "source": [
        "string_man(\"surya\")"
      ],
      "execution_count": 34,
      "outputs": [
        {
          "output_type": "stream",
          "text": [
            "enter any string:surya\n"
          ],
          "name": "stdout"
        },
        {
          "output_type": "execute_result",
          "data": {
            "text/plain": [
              "'Surya'"
            ]
          },
          "metadata": {
            "tags": []
          },
          "execution_count": 34
        }
      ]
    },
    {
      "cell_type": "code",
      "metadata": {
        "id": "sy48vUdHgqrH",
        "colab_type": "code",
        "colab": {}
      },
      "source": [
        "my_string=\"surya\"\n"
      ],
      "execution_count": 0,
      "outputs": []
    },
    {
      "cell_type": "code",
      "metadata": {
        "id": "4FEhYz9ig7Ck",
        "colab_type": "code",
        "colab": {}
      },
      "source": [
        "def string_man():\n",
        "\n",
        "\n",
        "  my_string=input(\"enter any string:\")\n",
        "  return my_string.upper()"
      ],
      "execution_count": 0,
      "outputs": []
    },
    {
      "cell_type": "code",
      "metadata": {
        "id": "COHFPn3MhJzx",
        "colab_type": "code",
        "colab": {
          "base_uri": "https://localhost:8080/",
          "height": 51
        },
        "outputId": "bed63580-6f2c-4b9f-e8eb-df7ff95144b1"
      },
      "source": [
        "string_man()"
      ],
      "execution_count": 37,
      "outputs": [
        {
          "output_type": "stream",
          "text": [
            "enter any string:surya\n"
          ],
          "name": "stdout"
        },
        {
          "output_type": "execute_result",
          "data": {
            "text/plain": [
              "'SURYA'"
            ]
          },
          "metadata": {
            "tags": []
          },
          "execution_count": 37
        }
      ]
    },
    {
      "cell_type": "code",
      "metadata": {
        "id": "RsOHhdV6hRp4",
        "colab_type": "code",
        "colab": {
          "base_uri": "https://localhost:8080/",
          "height": 34
        },
        "outputId": "998005db-67d3-4cf5-c0c5-c0b486592124"
      },
      "source": [
        "Sample_Words=\"red\", \"white\", \"black\", \"red\", \"green\", \"black\"\n",
        "sorted(list(set(Sample_Words)))"
      ],
      "execution_count": 41,
      "outputs": [
        {
          "output_type": "execute_result",
          "data": {
            "text/plain": [
              "['black', 'green', 'red', 'white']"
            ]
          },
          "metadata": {
            "tags": []
          },
          "execution_count": 41
        }
      ]
    },
    {
      "cell_type": "code",
      "metadata": {
        "id": "0O_32j3jhp5t",
        "colab_type": "code",
        "colab": {
          "base_uri": "https://localhost:8080/",
          "height": 180
        },
        "outputId": "ec54e068-4df8-46d1-8b1f-d2ab3e77f08f"
      },
      "source": [
        "Sample_Words=\"red\", \"white\", \"black\", \"red\", \"green\", \"black\"\n",
        "sorted(set(sample_words))"
      ],
      "execution_count": 46,
      "outputs": [
        {
          "output_type": "error",
          "ename": "NameError",
          "evalue": "ignored",
          "traceback": [
            "\u001b[0;31m---------------------------------------------------------------------------\u001b[0m",
            "\u001b[0;31mNameError\u001b[0m                                 Traceback (most recent call last)",
            "\u001b[0;32m<ipython-input-46-ffdb00a109f9>\u001b[0m in \u001b[0;36m<module>\u001b[0;34m()\u001b[0m\n\u001b[1;32m      1\u001b[0m \u001b[0mSample_Words\u001b[0m\u001b[0;34m=\u001b[0m\u001b[0;34m\"red\"\u001b[0m\u001b[0;34m,\u001b[0m \u001b[0;34m\"white\"\u001b[0m\u001b[0;34m,\u001b[0m \u001b[0;34m\"black\"\u001b[0m\u001b[0;34m,\u001b[0m \u001b[0;34m\"red\"\u001b[0m\u001b[0;34m,\u001b[0m \u001b[0;34m\"green\"\u001b[0m\u001b[0;34m,\u001b[0m \u001b[0;34m\"black\"\u001b[0m\u001b[0;34m\u001b[0m\u001b[0;34m\u001b[0m\u001b[0m\n\u001b[0;32m----> 2\u001b[0;31m \u001b[0msorted\u001b[0m\u001b[0;34m(\u001b[0m\u001b[0mset\u001b[0m\u001b[0;34m(\u001b[0m\u001b[0msample_words\u001b[0m\u001b[0;34m)\u001b[0m\u001b[0;34m)\u001b[0m\u001b[0;34m\u001b[0m\u001b[0;34m\u001b[0m\u001b[0m\n\u001b[0m",
            "\u001b[0;31mNameError\u001b[0m: name 'sample_words' is not defined"
          ]
        }
      ]
    },
    {
      "cell_type": "code",
      "metadata": {
        "id": "U83eoj-ejE5H",
        "colab_type": "code",
        "colab": {}
      },
      "source": [
        "def insert_sting_middle(str, word):\n",
        "\treturn str[:2] + word + str[2:]"
      ],
      "execution_count": 0,
      "outputs": []
    },
    {
      "cell_type": "code",
      "metadata": {
        "id": "y5VbSWoGkLxd",
        "colab_type": "code",
        "colab": {
          "base_uri": "https://localhost:8080/",
          "height": 34
        },
        "outputId": "ba076d16-6c99-4ec7-b66d-0316bcf67a86"
      },
      "source": [
        "insert_sting_middle(\"python\",\"php\")"
      ],
      "execution_count": 48,
      "outputs": [
        {
          "output_type": "execute_result",
          "data": {
            "text/plain": [
              "'pyphpthon'"
            ]
          },
          "metadata": {
            "tags": []
          },
          "execution_count": 48
        }
      ]
    },
    {
      "cell_type": "code",
      "metadata": {
        "id": "Wi934RhNkU27",
        "colab_type": "code",
        "colab": {
          "base_uri": "https://localhost:8080/",
          "height": 34
        },
        "outputId": "db10c73a-1117-4fc4-ce0b-fbdf049f176b"
      },
      "source": [
        "my_string=\"python\"\n",
        "print(my_string[-2:]*4)"
      ],
      "execution_count": 49,
      "outputs": [
        {
          "output_type": "stream",
          "text": [
            "onononon\n"
          ],
          "name": "stdout"
        }
      ]
    },
    {
      "cell_type": "code",
      "metadata": {
        "id": "GJPbDk65k_W-",
        "colab_type": "code",
        "colab": {}
      },
      "source": [
        "def str_man(str1):\n",
        "  if len(str1)>3:\n",
        "    return str1[:3]\n",
        "  else:\n",
        "    return str1"
      ],
      "execution_count": 0,
      "outputs": []
    },
    {
      "cell_type": "code",
      "metadata": {
        "id": "kn4KuIw4loRc",
        "colab_type": "code",
        "colab": {
          "base_uri": "https://localhost:8080/",
          "height": 51
        },
        "outputId": "3d56cbf5-e564-4534-ad3c-daf5458cb8e4"
      },
      "source": [
        "print(str_man(\"rakudasu\"))\n",
        "print(str_man(\"rak\"))"
      ],
      "execution_count": 53,
      "outputs": [
        {
          "output_type": "stream",
          "text": [
            "rak\n",
            "rak\n"
          ],
          "name": "stdout"
        }
      ]
    },
    {
      "cell_type": "code",
      "metadata": {
        "id": "Oh91QQdblzAw",
        "colab_type": "code",
        "colab": {
          "base_uri": "https://localhost:8080/",
          "height": 51
        },
        "outputId": "8d10f8f4-dadf-40cd-f5d6-d663231d44c0"
      },
      "source": [
        "def reverse_string(str1):\n",
        "    if len(str1) % 4 == 0:\n",
        "       return ''.join(reversed(str1))\n",
        "    return str1\n",
        "\n",
        "print(reverse_string('abcd'))\n",
        "print(reverse_string('python'))"
      ],
      "execution_count": 54,
      "outputs": [
        {
          "output_type": "stream",
          "text": [
            "dcba\n",
            "python\n"
          ],
          "name": "stdout"
        }
      ]
    },
    {
      "cell_type": "code",
      "metadata": {
        "id": "jPfiOpzxnPlO",
        "colab_type": "code",
        "colab": {
          "base_uri": "https://localhost:8080/",
          "height": 51
        },
        "outputId": "05db5f2f-3674-48ad-d832-f884dd34a3de"
      },
      "source": [
        "def to_uppercase(str1):\n",
        "    num_upper = 0\n",
        "    for letter in str1[:4]: \n",
        "        if letter.upper() == letter:\n",
        "            num_upper += 1\n",
        "    if num_upper >= 2:\n",
        "        return str1.upper()\n",
        "    return str1\n",
        "\n",
        "print(to_uppercase('Python'))\n",
        "print(to_uppercase('PyThon'))"
      ],
      "execution_count": 55,
      "outputs": [
        {
          "output_type": "stream",
          "text": [
            "Python\n",
            "PYTHON\n"
          ],
          "name": "stdout"
        }
      ]
    },
    {
      "cell_type": "code",
      "metadata": {
        "id": "H3FrA_UTpMM3",
        "colab_type": "code",
        "colab": {
          "base_uri": "https://localhost:8080/",
          "height": 51
        },
        "outputId": "a4838cbf-4475-4efa-cd4a-58f894604e11"
      },
      "source": [
        "str1='Python Exercises\\n'\n",
        "print(str1)"
      ],
      "execution_count": 56,
      "outputs": [
        {
          "output_type": "stream",
          "text": [
            "Python Exercises\n",
            "\n"
          ],
          "name": "stdout"
        }
      ]
    },
    {
      "cell_type": "code",
      "metadata": {
        "id": "JUqE8_H3pdbc",
        "colab_type": "code",
        "colab": {
          "base_uri": "https://localhost:8080/",
          "height": 34
        },
        "outputId": "b47b91d6-5612-4a4e-a7f1-4745667bd4c4"
      },
      "source": [
        "string=\"veersingh\"\n",
        "print(string.startswith(\"vee\"))"
      ],
      "execution_count": 58,
      "outputs": [
        {
          "output_type": "stream",
          "text": [
            "True\n"
          ],
          "name": "stdout"
        }
      ]
    },
    {
      "cell_type": "code",
      "metadata": {
        "id": "gos8jtpypwhW",
        "colab_type": "code",
        "colab": {
          "base_uri": "https://localhost:8080/",
          "height": 34
        },
        "outputId": "6054910f-b685-46ad-8c73-74b9d0238a15"
      },
      "source": [
        "x=12.4768868\n",
        "round(x,2)"
      ],
      "execution_count": 62,
      "outputs": [
        {
          "output_type": "execute_result",
          "data": {
            "text/plain": [
              "12.48"
            ]
          },
          "metadata": {
            "tags": []
          },
          "execution_count": 62
        }
      ]
    },
    {
      "cell_type": "code",
      "metadata": {
        "id": "6mpqPvZcqaMs",
        "colab_type": "code",
        "colab": {
          "base_uri": "https://localhost:8080/",
          "height": 34
        },
        "outputId": "9c91e2a5-dfb0-4ca8-8b34-461ec860d515"
      },
      "source": [
        "a=3\n",
        "print(str(0)+str(a))"
      ],
      "execution_count": 63,
      "outputs": [
        {
          "output_type": "stream",
          "text": [
            "03\n"
          ],
          "name": "stdout"
        }
      ]
    },
    {
      "cell_type": "code",
      "metadata": {
        "id": "nDBR5Pl5r8I9",
        "colab_type": "code",
        "colab": {}
      },
      "source": [
        "b=12345"
      ],
      "execution_count": 0,
      "outputs": []
    },
    {
      "cell_type": "code",
      "metadata": {
        "id": "YWwNcz6ks5WE",
        "colab_type": "code",
        "colab": {
          "base_uri": "https://localhost:8080/",
          "height": 129
        },
        "outputId": "96f8a3a0-0902-4175-d743-ef30a1315b6d"
      },
      "source": [
        "str(b).seprator(,)"
      ],
      "execution_count": 67,
      "outputs": [
        {
          "output_type": "error",
          "ename": "SyntaxError",
          "evalue": "ignored",
          "traceback": [
            "\u001b[0;36m  File \u001b[0;32m\"<ipython-input-67-564e8892e83b>\"\u001b[0;36m, line \u001b[0;32m1\u001b[0m\n\u001b[0;31m    str(b).seprator(,)\u001b[0m\n\u001b[0m                    ^\u001b[0m\n\u001b[0;31mSyntaxError\u001b[0m\u001b[0;31m:\u001b[0m invalid syntax\n"
          ]
        }
      ]
    },
    {
      "cell_type": "code",
      "metadata": {
        "id": "Vl50O0Cbu7PH",
        "colab_type": "code",
        "colab": {
          "base_uri": "https://localhost:8080/",
          "height": 34
        },
        "outputId": "efa1d065-0bce-4612-f8f5-d12fa0c56566"
      },
      "source": [
        "print(\"the new value is {}\".format(b))"
      ],
      "execution_count": 71,
      "outputs": [
        {
          "output_type": "stream",
          "text": [
            "the new value is 12345:\n"
          ],
          "name": "stdout"
        }
      ]
    },
    {
      "cell_type": "code",
      "metadata": {
        "id": "COEAKfXVvMNi",
        "colab_type": "code",
        "colab": {
          "base_uri": "https://localhost:8080/",
          "height": 34
        },
        "outputId": "7d3572ce-6dc4-4d15-81e6-cb5d345524aa"
      },
      "source": [
        "str1=\"The quick brown fox jumps over the lazy dog.\"\n",
        "\"\".join(str1.split()[::-1])"
      ],
      "execution_count": 77,
      "outputs": [
        {
          "output_type": "execute_result",
          "data": {
            "text/plain": [
              "'dog.lazytheoverjumpsfoxbrownquickThe'"
            ]
          },
          "metadata": {
            "tags": []
          },
          "execution_count": 77
        }
      ]
    },
    {
      "cell_type": "code",
      "metadata": {
        "id": "lEicwQ-mv39H",
        "colab_type": "code",
        "colab": {
          "base_uri": "https://localhost:8080/",
          "height": 68
        },
        "outputId": "d4640f08-8766-49ba-9d46-f258f3917c69"
      },
      "source": [
        "str1 = 'The quick brown fox jumps over the lazy dog.'\n",
        "print()\n",
        "print(str1.count(\"fox\"))\n",
        "print()"
      ],
      "execution_count": 78,
      "outputs": [
        {
          "output_type": "stream",
          "text": [
            "\n",
            "1\n",
            "\n"
          ],
          "name": "stdout"
        }
      ]
    },
    {
      "cell_type": "code",
      "metadata": {
        "id": "nY6FCYERyjkM",
        "colab_type": "code",
        "colab": {
          "base_uri": "https://localhost:8080/",
          "height": 34
        },
        "outputId": "cc5afba7-2804-4f5d-cb50-b56e8f46e50a"
      },
      "source": [
        "\"\".join(reversed(\"abcd\"))"
      ],
      "execution_count": 79,
      "outputs": [
        {
          "output_type": "execute_result",
          "data": {
            "text/plain": [
              "'dcba'"
            ]
          },
          "metadata": {
            "tags": []
          },
          "execution_count": 79
        }
      ]
    },
    {
      "cell_type": "code",
      "metadata": {
        "id": "tPOEZW33yz9W",
        "colab_type": "code",
        "colab": {}
      },
      "source": [
        "def strip_chars(str, chars):\n",
        "    return \"\".join(c for c in str if c not in chars)"
      ],
      "execution_count": 0,
      "outputs": []
    },
    {
      "cell_type": "code",
      "metadata": {
        "id": "tqn-oQhQ0LJu",
        "colab_type": "code",
        "colab": {
          "base_uri": "https://localhost:8080/",
          "height": 34
        },
        "outputId": "9a59a0f5-2cab-4c1d-ffb7-da9704f5a8d6"
      },
      "source": [
        "strip_chars(\"veersinghty\",\"aeiou\")"
      ],
      "execution_count": 81,
      "outputs": [
        {
          "output_type": "execute_result",
          "data": {
            "text/plain": [
              "'vrsnghty'"
            ]
          },
          "metadata": {
            "tags": []
          },
          "execution_count": 81
        }
      ]
    },
    {
      "cell_type": "code",
      "metadata": {
        "id": "iOwblxTg0XSG",
        "colab_type": "code",
        "colab": {
          "base_uri": "https://localhost:8080/",
          "height": 34
        },
        "outputId": "484b190c-761b-4336-e48b-564e430becbe"
      },
      "source": [
        "my_string\n",
        "count=0\n",
        "for c in my_string:\n",
        "  count+=1\n",
        "print(count)\n"
      ],
      "execution_count": 85,
      "outputs": [
        {
          "output_type": "stream",
          "text": [
            "6\n"
          ],
          "name": "stdout"
        }
      ]
    },
    {
      "cell_type": "code",
      "metadata": {
        "id": "w8pZNgdR0y7L",
        "colab_type": "code",
        "colab": {
          "base_uri": "https://localhost:8080/",
          "height": 51
        },
        "outputId": "9df389dc-b11c-42ac-cc0a-fbad7a52f71d"
      },
      "source": [
        "import string\n",
        "alphabet = set(string.ascii_lowercase)\n",
        "input_string = 'The quick brown fox jumps over the lazy dog'\n",
        "print(set(input_string.lower()) >= alphabet)\n",
        "input_string = 'The quick brown fox jumps over the lazy cat'\n",
        "print(set(input_string.lower()) >= alphabet)"
      ],
      "execution_count": 86,
      "outputs": [
        {
          "output_type": "stream",
          "text": [
            "True\n",
            "False\n"
          ],
          "name": "stdout"
        }
      ]
    },
    {
      "cell_type": "code",
      "metadata": {
        "id": "8gMBnJfP6Ev1",
        "colab_type": "code",
        "colab": {
          "base_uri": "https://localhost:8080/",
          "height": 34
        },
        "outputId": "c3ef44d1-04a0-4089-deed-6cf4b6276d51"
      },
      "source": [
        "str1 = \"The quick brown fox jumps over the lazy dog.\"\n",
        "print(str1.split(' '))"
      ],
      "execution_count": 87,
      "outputs": [
        {
          "output_type": "stream",
          "text": [
            "['The', 'quick', 'brown', 'fox', 'jumps', 'over', 'the', 'lazy', 'dog.']\n"
          ],
          "name": "stdout"
        }
      ]
    },
    {
      "cell_type": "code",
      "metadata": {
        "id": "XXbwGV7q6kIj",
        "colab_type": "code",
        "colab": {
          "base_uri": "https://localhost:8080/",
          "height": 34
        },
        "outputId": "d657b989-50f8-4415-a61d-e81eb3559c0f"
      },
      "source": [
        "str1=\"veersingh\"\n",
        "print(str1[:4].lower()+str1[4:].upper())"
      ],
      "execution_count": 88,
      "outputs": [
        {
          "output_type": "stream",
          "text": [
            "veerSINGH\n"
          ],
          "name": "stdout"
        }
      ]
    },
    {
      "cell_type": "code",
      "metadata": {
        "id": "N2Iu4KKc7B9C",
        "colab_type": "code",
        "colab": {
          "base_uri": "https://localhost:8080/",
          "height": 34
        },
        "outputId": "fa6415a0-122e-4e4f-b506-07366949b165"
      },
      "source": [
        "sum([1,2,3,4,5])"
      ],
      "execution_count": 89,
      "outputs": [
        {
          "output_type": "execute_result",
          "data": {
            "text/plain": [
              "15"
            ]
          },
          "metadata": {
            "tags": []
          },
          "execution_count": 89
        }
      ]
    },
    {
      "cell_type": "code",
      "metadata": {
        "id": "t7Lzsym0BGYt",
        "colab_type": "code",
        "colab": {
          "base_uri": "https://localhost:8080/",
          "height": 34
        },
        "outputId": "385a0aa0-5860-4f7a-b28d-41edf68c25f1"
      },
      "source": [
        "my_list=[1,2,3]\n",
        "mul=1\n",
        "for index in my_list:\n",
        "  mul*=index\n",
        "  index+=1\n",
        "print(mul)"
      ],
      "execution_count": 92,
      "outputs": [
        {
          "output_type": "stream",
          "text": [
            "6\n"
          ],
          "name": "stdout"
        }
      ]
    },
    {
      "cell_type": "code",
      "metadata": {
        "id": "EcsKKZ8ZBlT4",
        "colab_type": "code",
        "colab": {
          "base_uri": "https://localhost:8080/",
          "height": 34
        },
        "outputId": "9ca5b41f-fda9-490d-a292-9ee60aa33d94"
      },
      "source": [
        "max(my_list)"
      ],
      "execution_count": 93,
      "outputs": [
        {
          "output_type": "execute_result",
          "data": {
            "text/plain": [
              "3"
            ]
          },
          "metadata": {
            "tags": []
          },
          "execution_count": 93
        }
      ]
    },
    {
      "cell_type": "code",
      "metadata": {
        "id": "v7vKtEBhCTF7",
        "colab_type": "code",
        "colab": {
          "base_uri": "https://localhost:8080/",
          "height": 129
        },
        "outputId": "2de5528d-0c39-41d2-eaca-3fa72c02e8d0"
      },
      "source": [
        "Sample_list=['abc', 'xyz', 'aba', '1221']\n",
        "count=0\n",
        "for index in Sample_list:\n",
        "  if len(Sample_list[index]>2:\n",
        "         if Sample_list[index][0]==Sample_list[index][-1]:\n",
        "         count+=1\n",
        "print(count)\n",
        "         \n",
        "         \n",
        "         "
      ],
      "execution_count": 101,
      "outputs": [
        {
          "output_type": "error",
          "ename": "SyntaxError",
          "evalue": "ignored",
          "traceback": [
            "\u001b[0;36m  File \u001b[0;32m\"<ipython-input-101-0c62eaa832bc>\"\u001b[0;36m, line \u001b[0;32m4\u001b[0m\n\u001b[0;31m    if len(Sample_list[index]>2:\u001b[0m\n\u001b[0m                               ^\u001b[0m\n\u001b[0;31mSyntaxError\u001b[0m\u001b[0;31m:\u001b[0m invalid syntax\n"
          ]
        }
      ]
    },
    {
      "cell_type": "code",
      "metadata": {
        "id": "mapaTvLXE8sM",
        "colab_type": "code",
        "colab": {}
      },
      "source": [
        "def count(words):\n",
        "  count=0\n",
        "  for word in words:\n",
        "    if len(word)>1 and word[0]==word[-1]:\n",
        "      count+=1\n",
        "  return count\n"
      ],
      "execution_count": 0,
      "outputs": []
    },
    {
      "cell_type": "code",
      "metadata": {
        "id": "vwJgs9HJFdd-",
        "colab_type": "code",
        "colab": {
          "base_uri": "https://localhost:8080/",
          "height": 34
        },
        "outputId": "235aed03-58ec-4a68-b552-7bb7ba608599"
      },
      "source": [
        "count(Sample_list)"
      ],
      "execution_count": 106,
      "outputs": [
        {
          "output_type": "execute_result",
          "data": {
            "text/plain": [
              "2"
            ]
          },
          "metadata": {
            "tags": []
          },
          "execution_count": 106
        }
      ]
    },
    {
      "cell_type": "code",
      "metadata": {
        "id": "ECixHruMFspH",
        "colab_type": "code",
        "colab": {
          "base_uri": "https://localhost:8080/",
          "height": 34
        },
        "outputId": "16b7008c-55c9-4890-c959-75c649e47f54"
      },
      "source": [
        "original_list = [10, 22, 44, 23, 4]\n",
        "new_list=original_list.copy()\n",
        "print(new_list)"
      ],
      "execution_count": 107,
      "outputs": [
        {
          "output_type": "stream",
          "text": [
            "[10, 22, 44, 23, 4]\n"
          ],
          "name": "stdout"
        }
      ]
    },
    {
      "cell_type": "code",
      "metadata": {
        "id": "NqaBkUlXUvI2",
        "colab_type": "code",
        "colab": {
          "base_uri": "https://localhost:8080/",
          "height": 34
        },
        "outputId": "f47bab27-a316-4f8a-df9d-e97e0090aa6c"
      },
      "source": [
        "words=[\"veer\",\"ram\",\"ghhfuii\"]\n",
        "for word in words:\n",
        "  if len(word)>4:\n",
        "    print(word)"
      ],
      "execution_count": 109,
      "outputs": [
        {
          "output_type": "stream",
          "text": [
            "ghhfuii\n"
          ],
          "name": "stdout"
        }
      ]
    },
    {
      "cell_type": "code",
      "metadata": {
        "id": "zzsOCL_6Vncs",
        "colab_type": "code",
        "colab": {
          "base_uri": "https://localhost:8080/",
          "height": 51
        },
        "outputId": "65b17656-27e6-49b4-88dd-9cabdde66445"
      },
      "source": [
        "def common_data(list1, list2):\n",
        "     result = False\n",
        "     for x in list1:\n",
        "         for y in list2:\n",
        "             if x == y:\n",
        "                 result = True\n",
        "                 return result\n",
        "print(common_data([1,2,3,4,5], [5,6,7,8,9]))\n",
        "print(common_data([1,2,3,4,5], [6,7,8,9]))"
      ],
      "execution_count": 110,
      "outputs": [
        {
          "output_type": "stream",
          "text": [
            "True\n",
            "None\n"
          ],
          "name": "stdout"
        }
      ]
    },
    {
      "cell_type": "code",
      "metadata": {
        "id": "QyAwyyWgXkDU",
        "colab_type": "code",
        "colab": {
          "base_uri": "https://localhost:8080/",
          "height": 197
        },
        "outputId": "7859da8b-557e-4560-dc67-0fec348209a8"
      },
      "source": [
        "from random import shuffle\n",
        "color=['Red', 'Green', 'White', 'Black', 'Pink', 'Yellow']\n",
        "print(shuffle.color)"
      ],
      "execution_count": 116,
      "outputs": [
        {
          "output_type": "error",
          "ename": "AttributeError",
          "evalue": "ignored",
          "traceback": [
            "\u001b[0;31m---------------------------------------------------------------------------\u001b[0m",
            "\u001b[0;31mAttributeError\u001b[0m                            Traceback (most recent call last)",
            "\u001b[0;32m<ipython-input-116-84868ef40efe>\u001b[0m in \u001b[0;36m<module>\u001b[0;34m()\u001b[0m\n\u001b[1;32m      1\u001b[0m \u001b[0;32mfrom\u001b[0m \u001b[0mrandom\u001b[0m \u001b[0;32mimport\u001b[0m \u001b[0mshuffle\u001b[0m\u001b[0;34m\u001b[0m\u001b[0;34m\u001b[0m\u001b[0m\n\u001b[1;32m      2\u001b[0m \u001b[0mcolor\u001b[0m\u001b[0;34m=\u001b[0m\u001b[0;34m[\u001b[0m\u001b[0;34m'Red'\u001b[0m\u001b[0;34m,\u001b[0m \u001b[0;34m'Green'\u001b[0m\u001b[0;34m,\u001b[0m \u001b[0;34m'White'\u001b[0m\u001b[0;34m,\u001b[0m \u001b[0;34m'Black'\u001b[0m\u001b[0;34m,\u001b[0m \u001b[0;34m'Pink'\u001b[0m\u001b[0;34m,\u001b[0m \u001b[0;34m'Yellow'\u001b[0m\u001b[0;34m]\u001b[0m\u001b[0;34m\u001b[0m\u001b[0;34m\u001b[0m\u001b[0m\n\u001b[0;32m----> 3\u001b[0;31m \u001b[0mprint\u001b[0m\u001b[0;34m(\u001b[0m\u001b[0mshuffle\u001b[0m\u001b[0;34m.\u001b[0m\u001b[0mcolor\u001b[0m\u001b[0;34m)\u001b[0m\u001b[0;34m\u001b[0m\u001b[0;34m\u001b[0m\u001b[0m\n\u001b[0m",
            "\u001b[0;31mAttributeError\u001b[0m: 'function' object has no attribute 'color'"
          ]
        }
      ]
    },
    {
      "cell_type": "code",
      "metadata": {
        "id": "edSJ-q5tZDTd",
        "colab_type": "code",
        "colab": {
          "base_uri": "https://localhost:8080/",
          "height": 51
        },
        "outputId": "4cf8855c-b562-4e17-9105-1473491077cb"
      },
      "source": [
        "print(random.shuffle(color))\n",
        "print(color)"
      ],
      "execution_count": 119,
      "outputs": [
        {
          "output_type": "stream",
          "text": [
            "None\n",
            "['Green', 'Pink', 'Yellow', 'White', 'Black', 'Red']\n"
          ],
          "name": "stdout"
        }
      ]
    },
    {
      "cell_type": "code",
      "metadata": {
        "id": "Hfk07X0mZ3f5",
        "colab_type": "code",
        "colab": {
          "base_uri": "https://localhost:8080/",
          "height": 34
        },
        "outputId": "c319c921-bc0a-4097-e5e8-8c6eb4277082"
      },
      "source": [
        "list1 = [1, 2, 3, 4]\n",
        "list2 = [1, 2]\n",
        "print(list(set(list1) - set(list2)))"
      ],
      "execution_count": 120,
      "outputs": [
        {
          "output_type": "stream",
          "text": [
            "[3, 4]\n"
          ],
          "name": "stdout"
        }
      ]
    },
    {
      "cell_type": "code",
      "metadata": {
        "id": "lIzJir9KbwX2",
        "colab_type": "code",
        "colab": {
          "base_uri": "https://localhost:8080/",
          "height": 197
        },
        "outputId": "14f66aa5-ebd3-40f4-9398-6c58b80446b3"
      },
      "source": [
        "nums=[5, 15, 35, 8, 98]\n",
        "for index in range(nums):\n",
        "  print(nums[index])"
      ],
      "execution_count": 123,
      "outputs": [
        {
          "output_type": "error",
          "ename": "TypeError",
          "evalue": "ignored",
          "traceback": [
            "\u001b[0;31m---------------------------------------------------------------------------\u001b[0m",
            "\u001b[0;31mTypeError\u001b[0m                                 Traceback (most recent call last)",
            "\u001b[0;32m<ipython-input-123-3816ef317d90>\u001b[0m in \u001b[0;36m<module>\u001b[0;34m()\u001b[0m\n\u001b[1;32m      1\u001b[0m \u001b[0mnums\u001b[0m\u001b[0;34m=\u001b[0m\u001b[0;34m[\u001b[0m\u001b[0;36m5\u001b[0m\u001b[0;34m,\u001b[0m \u001b[0;36m15\u001b[0m\u001b[0;34m,\u001b[0m \u001b[0;36m35\u001b[0m\u001b[0;34m,\u001b[0m \u001b[0;36m8\u001b[0m\u001b[0;34m,\u001b[0m \u001b[0;36m98\u001b[0m\u001b[0;34m]\u001b[0m\u001b[0;34m\u001b[0m\u001b[0;34m\u001b[0m\u001b[0m\n\u001b[0;32m----> 2\u001b[0;31m \u001b[0;32mfor\u001b[0m \u001b[0mindex\u001b[0m \u001b[0;32min\u001b[0m \u001b[0mrange\u001b[0m\u001b[0;34m(\u001b[0m\u001b[0mnums\u001b[0m\u001b[0;34m)\u001b[0m\u001b[0;34m:\u001b[0m\u001b[0;34m\u001b[0m\u001b[0;34m\u001b[0m\u001b[0m\n\u001b[0m\u001b[1;32m      3\u001b[0m   \u001b[0mprint\u001b[0m\u001b[0;34m(\u001b[0m\u001b[0mnums\u001b[0m\u001b[0;34m[\u001b[0m\u001b[0mindex\u001b[0m\u001b[0;34m]\u001b[0m\u001b[0;34m)\u001b[0m\u001b[0;34m\u001b[0m\u001b[0;34m\u001b[0m\u001b[0m\n",
            "\u001b[0;31mTypeError\u001b[0m: 'list' object cannot be interpreted as an integer"
          ]
        }
      ]
    },
    {
      "cell_type": "code",
      "metadata": {
        "id": "45d3WcZMcT4a",
        "colab_type": "code",
        "colab": {
          "base_uri": "https://localhost:8080/",
          "height": 34
        },
        "outputId": "8724ea57-25c6-470e-8b24-b6e5afeea554"
      },
      "source": [
        "s = ['a', 'b', 'c', 'd']\n",
        "str(s)\n",
        "string=\"\".join(s)\n",
        "print(string)"
      ],
      "execution_count": 126,
      "outputs": [
        {
          "output_type": "stream",
          "text": [
            "abcd\n"
          ],
          "name": "stdout"
        }
      ]
    },
    {
      "cell_type": "code",
      "metadata": {
        "id": "nATKzvBpc-Hf",
        "colab_type": "code",
        "colab": {
          "base_uri": "https://localhost:8080/",
          "height": 34
        },
        "outputId": "30f65058-27ea-4d51-ee31-82c3ad98b6bc"
      },
      "source": [
        "s.index(\"a\")"
      ],
      "execution_count": 127,
      "outputs": [
        {
          "output_type": "execute_result",
          "data": {
            "text/plain": [
              "0"
            ]
          },
          "metadata": {
            "tags": []
          },
          "execution_count": 127
        }
      ]
    },
    {
      "cell_type": "code",
      "metadata": {
        "id": "9U90zqxHdsMr",
        "colab_type": "code",
        "colab": {
          "base_uri": "https://localhost:8080/",
          "height": 34
        },
        "outputId": "2c139d15-96e2-4e74-d671-ab45694e93d6"
      },
      "source": [
        "original_list = [[2,4,3],[1,5,6], [9], [7,9,0]]\n",
        "new_list1=[].extend(original_list)\n",
        "print(new_list1)"
      ],
      "execution_count": 129,
      "outputs": [
        {
          "output_type": "stream",
          "text": [
            "None\n"
          ],
          "name": "stdout"
        }
      ]
    },
    {
      "cell_type": "code",
      "metadata": {
        "id": "CmgBpvvBeNtF",
        "colab_type": "code",
        "colab": {
          "base_uri": "https://localhost:8080/",
          "height": 34
        },
        "outputId": "e9843c79-4754-4ad3-97ab-071754f9df19"
      },
      "source": [
        "import itertools\n",
        "list(itertools.chain(*original_list))"
      ],
      "execution_count": 132,
      "outputs": [
        {
          "output_type": "execute_result",
          "data": {
            "text/plain": [
              "[2, 4, 3, 1, 5, 6, 9, 7, 9, 0]"
            ]
          },
          "metadata": {
            "tags": []
          },
          "execution_count": 132
        }
      ]
    },
    {
      "cell_type": "code",
      "metadata": {
        "id": "aC2FGNeHelMl",
        "colab_type": "code",
        "colab": {
          "base_uri": "https://localhost:8080/",
          "height": 34
        },
        "outputId": "c768d367-ee38-4e38-ed7c-3feb78912ca7"
      },
      "source": [
        "color_list = ['Red', 'Blue', 'Green', 'White', 'Black']\n",
        "import random\n",
        "random.choice(color_list)"
      ],
      "execution_count": 134,
      "outputs": [
        {
          "output_type": "execute_result",
          "data": {
            "text/plain": [
              "'Black'"
            ]
          },
          "metadata": {
            "tags": []
          },
          "execution_count": 134
        }
      ]
    },
    {
      "cell_type": "code",
      "metadata": {
        "id": "G8vEHNXFfvgr",
        "colab_type": "code",
        "colab": {
          "base_uri": "https://localhost:8080/",
          "height": 34
        },
        "outputId": "1a7d6c65-6205-4648-cfda-819c35fc2857"
      },
      "source": [
        "random.choice(color_list)"
      ],
      "execution_count": 135,
      "outputs": [
        {
          "output_type": "execute_result",
          "data": {
            "text/plain": [
              "'White'"
            ]
          },
          "metadata": {
            "tags": []
          },
          "execution_count": 135
        }
      ]
    },
    {
      "cell_type": "code",
      "metadata": {
        "id": "4TFDFY0_f453",
        "colab_type": "code",
        "colab": {
          "base_uri": "https://localhost:8080/",
          "height": 34
        },
        "outputId": "2240dea0-b192-4115-de08-a343f259eb29"
      },
      "source": [
        "list=range(10)\n",
        "print(list)"
      ],
      "execution_count": 137,
      "outputs": [
        {
          "output_type": "stream",
          "text": [
            "range(0, 10)\n"
          ],
          "name": "stdout"
        }
      ]
    },
    {
      "cell_type": "code",
      "metadata": {
        "id": "FzKIX-QHh_Fm",
        "colab_type": "code",
        "colab": {
          "base_uri": "https://localhost:8080/",
          "height": 34
        },
        "outputId": "263edbe5-311e-4972-c803-2d8ff14769ca"
      },
      "source": [
        "L = [11, 33, 50]\n",
        "int(\"\".join(map(str,L)))"
      ],
      "execution_count": 138,
      "outputs": [
        {
          "output_type": "execute_result",
          "data": {
            "text/plain": [
              "113350"
            ]
          },
          "metadata": {
            "tags": []
          },
          "execution_count": 138
        }
      ]
    },
    {
      "cell_type": "code",
      "metadata": {
        "id": "t5KlKNrQjmAE",
        "colab_type": "code",
        "colab": {
          "base_uri": "https://localhost:8080/",
          "height": 51
        },
        "outputId": "fae6e481-4045-4eba-9ce5-70c06a9bfbb1"
      },
      "source": [
        "color = ['red', 'green', 'orange']\n",
        "print('-'.join(color))\n",
        "print(''.join(color))"
      ],
      "execution_count": 139,
      "outputs": [
        {
          "output_type": "stream",
          "text": [
            "red-green-orange\n",
            "redgreenorange\n"
          ],
          "name": "stdout"
        }
      ]
    },
    {
      "cell_type": "code",
      "metadata": {
        "id": "JiiKaVNzkeWt",
        "colab_type": "code",
        "colab": {
          "base_uri": "https://localhost:8080/",
          "height": 197
        },
        "outputId": "25a993f1-4c41-4471-8692-214228c55579"
      },
      "source": [
        "color =\"['Red', 'Green', 'White']\"\n",
        "list1=list(color)\n",
        "print(list1)"
      ],
      "execution_count": 141,
      "outputs": [
        {
          "output_type": "error",
          "ename": "TypeError",
          "evalue": "ignored",
          "traceback": [
            "\u001b[0;31m---------------------------------------------------------------------------\u001b[0m",
            "\u001b[0;31mTypeError\u001b[0m                                 Traceback (most recent call last)",
            "\u001b[0;32m<ipython-input-141-dd1fb44ad462>\u001b[0m in \u001b[0;36m<module>\u001b[0;34m()\u001b[0m\n\u001b[1;32m      1\u001b[0m \u001b[0mcolor\u001b[0m \u001b[0;34m=\u001b[0m\u001b[0;34m\"['Red', 'Green', 'White']\"\u001b[0m\u001b[0;34m\u001b[0m\u001b[0;34m\u001b[0m\u001b[0m\n\u001b[0;32m----> 2\u001b[0;31m \u001b[0mlist1\u001b[0m\u001b[0;34m=\u001b[0m\u001b[0mlist\u001b[0m\u001b[0;34m(\u001b[0m\u001b[0mcolor\u001b[0m\u001b[0;34m)\u001b[0m\u001b[0;34m\u001b[0m\u001b[0;34m\u001b[0m\u001b[0m\n\u001b[0m\u001b[1;32m      3\u001b[0m \u001b[0mprint\u001b[0m\u001b[0;34m(\u001b[0m\u001b[0mlist1\u001b[0m\u001b[0;34m)\u001b[0m\u001b[0;34m\u001b[0m\u001b[0;34m\u001b[0m\u001b[0m\n",
            "\u001b[0;31mTypeError\u001b[0m: 'range' object is not callable"
          ]
        }
      ]
    },
    {
      "cell_type": "code",
      "metadata": {
        "id": "fqrObKZKkuRL",
        "colab_type": "code",
        "colab": {
          "base_uri": "https://localhost:8080/",
          "height": 34
        },
        "outputId": "74f358b7-26e4-4cfb-cc39-5c46abdb08f9"
      },
      "source": [
        "color2 = [\"green\", \"green\", \"green\", \"green\"]\n",
        "all(c==\"green\" for c in color2)"
      ],
      "execution_count": 146,
      "outputs": [
        {
          "output_type": "execute_result",
          "data": {
            "text/plain": [
              "True"
            ]
          },
          "metadata": {
            "tags": []
          },
          "execution_count": 146
        }
      ]
    },
    {
      "cell_type": "code",
      "metadata": {
        "id": "kpko8BnoliFM",
        "colab_type": "code",
        "colab": {
          "base_uri": "https://localhost:8080/",
          "height": 34
        },
        "outputId": "c096d891-a60b-4b11-b725-42a88914709e"
      },
      "source": [
        "num1 = [1, 3, 5, 7, 9, 10]\n",
        "num2 = [2, 4, 6, 8]\n",
        "num1[-1:] = num2\n",
        "print(num1)"
      ],
      "execution_count": 147,
      "outputs": [
        {
          "output_type": "stream",
          "text": [
            "[1, 3, 5, 7, 9, 2, 4, 6, 8]\n"
          ],
          "name": "stdout"
        }
      ]
    },
    {
      "cell_type": "code",
      "metadata": {
        "id": "H04VoJjxoB6h",
        "colab_type": "code",
        "colab": {
          "base_uri": "https://localhost:8080/",
          "height": 34
        },
        "outputId": "903b7b08-10fd-4a34-bb7b-23b46ef264ba"
      },
      "source": [
        "num = [1, 2, 3, 4, 5]\n",
        "print(*num)"
      ],
      "execution_count": 148,
      "outputs": [
        {
          "output_type": "stream",
          "text": [
            "1 2 3 4 5\n"
          ],
          "name": "stdout"
        }
      ]
    },
    {
      "cell_type": "code",
      "metadata": {
        "id": "Q7Pvxy96ouTM",
        "colab_type": "code",
        "colab": {}
      },
      "source": [
        ""
      ],
      "execution_count": 0,
      "outputs": []
    }
  ]
}
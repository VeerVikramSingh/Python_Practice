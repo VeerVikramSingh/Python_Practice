{
  "nbformat": 4,
  "nbformat_minor": 0,
  "metadata": {
    "colab": {
      "name": "Linear_Regression.ipynb",
      "provenance": [],
      "collapsed_sections": [],
      "include_colab_link": true
    },
    "kernelspec": {
      "name": "python3",
      "display_name": "Python 3"
    }
  },
  "cells": [
    {
      "cell_type": "markdown",
      "metadata": {
        "id": "view-in-github",
        "colab_type": "text"
      },
      "source": [
        "<a href=\"https://colab.research.google.com/github/VeerVikramSingh/Python_Practice/blob/master/Linear_Regression.ipynb\" target=\"_parent\"><img src=\"https://colab.research.google.com/assets/colab-badge.svg\" alt=\"Open In Colab\"/></a>"
      ]
    },
    {
      "cell_type": "code",
      "metadata": {
        "id": "ho3I-147ceuz",
        "colab_type": "code",
        "outputId": "d15685af-5da4-44f6-b48f-abba43ad3da6",
        "colab": {
          "base_uri": "https://localhost:8080/",
          "height": 204
        }
      },
      "source": [
        "import pandas as pd\n",
        "import seaborn as sns\n",
        "import matplotlib.pyplot as plt\n",
        "from sklearn import metrics\n",
        "import numpy as np\n",
        "%matplotlib inline\n",
        "data=pd.read_csv(\"https://raw.githubusercontent.com/insaid2018/Term-2/master/CaseStudy/Advertising.csv\",index_col=0)\n",
        "data.head()"
      ],
      "execution_count": 1,
      "outputs": [
        {
          "output_type": "execute_result",
          "data": {
            "text/html": [
              "<div>\n",
              "<style scoped>\n",
              "    .dataframe tbody tr th:only-of-type {\n",
              "        vertical-align: middle;\n",
              "    }\n",
              "\n",
              "    .dataframe tbody tr th {\n",
              "        vertical-align: top;\n",
              "    }\n",
              "\n",
              "    .dataframe thead th {\n",
              "        text-align: right;\n",
              "    }\n",
              "</style>\n",
              "<table border=\"1\" class=\"dataframe\">\n",
              "  <thead>\n",
              "    <tr style=\"text-align: right;\">\n",
              "      <th></th>\n",
              "      <th>TV</th>\n",
              "      <th>radio</th>\n",
              "      <th>newspaper</th>\n",
              "      <th>sales</th>\n",
              "    </tr>\n",
              "  </thead>\n",
              "  <tbody>\n",
              "    <tr>\n",
              "      <th>1</th>\n",
              "      <td>230.1</td>\n",
              "      <td>37.8</td>\n",
              "      <td>69.2</td>\n",
              "      <td>22.1</td>\n",
              "    </tr>\n",
              "    <tr>\n",
              "      <th>2</th>\n",
              "      <td>44.5</td>\n",
              "      <td>39.3</td>\n",
              "      <td>45.1</td>\n",
              "      <td>10.4</td>\n",
              "    </tr>\n",
              "    <tr>\n",
              "      <th>3</th>\n",
              "      <td>17.2</td>\n",
              "      <td>45.9</td>\n",
              "      <td>69.3</td>\n",
              "      <td>9.3</td>\n",
              "    </tr>\n",
              "    <tr>\n",
              "      <th>4</th>\n",
              "      <td>151.5</td>\n",
              "      <td>41.3</td>\n",
              "      <td>58.5</td>\n",
              "      <td>18.5</td>\n",
              "    </tr>\n",
              "    <tr>\n",
              "      <th>5</th>\n",
              "      <td>180.8</td>\n",
              "      <td>10.8</td>\n",
              "      <td>58.4</td>\n",
              "      <td>12.9</td>\n",
              "    </tr>\n",
              "  </tbody>\n",
              "</table>\n",
              "</div>"
            ],
            "text/plain": [
              "      TV  radio  newspaper  sales\n",
              "1  230.1   37.8       69.2   22.1\n",
              "2   44.5   39.3       45.1   10.4\n",
              "3   17.2   45.9       69.3    9.3\n",
              "4  151.5   41.3       58.5   18.5\n",
              "5  180.8   10.8       58.4   12.9"
            ]
          },
          "metadata": {
            "tags": []
          },
          "execution_count": 1
        }
      ]
    },
    {
      "cell_type": "code",
      "metadata": {
        "id": "gDFpExdMbK3A",
        "colab_type": "code",
        "outputId": "7449b963-c202-4733-ab45-f436472dbb16",
        "colab": {
          "base_uri": "https://localhost:8080/",
          "height": 357
        }
      },
      "source": [
        "print(data.shape)\n",
        "print(data.info())\n",
        "print(data.describe())"
      ],
      "execution_count": 2,
      "outputs": [
        {
          "output_type": "stream",
          "text": [
            "(200, 4)\n",
            "<class 'pandas.core.frame.DataFrame'>\n",
            "Int64Index: 200 entries, 1 to 200\n",
            "Data columns (total 4 columns):\n",
            "TV           200 non-null float64\n",
            "radio        200 non-null float64\n",
            "newspaper    200 non-null float64\n",
            "sales        200 non-null float64\n",
            "dtypes: float64(4)\n",
            "memory usage: 7.8 KB\n",
            "None\n",
            "               TV       radio   newspaper       sales\n",
            "count  200.000000  200.000000  200.000000  200.000000\n",
            "mean   147.042500   23.264000   30.554000   14.022500\n",
            "std     85.854236   14.846809   21.778621    5.217457\n",
            "min      0.700000    0.000000    0.300000    1.600000\n",
            "25%     74.375000    9.975000   12.750000   10.375000\n",
            "50%    149.750000   22.900000   25.750000   12.900000\n",
            "75%    218.825000   36.525000   45.100000   17.400000\n",
            "max    296.400000   49.600000  114.000000   27.000000\n"
          ],
          "name": "stdout"
        }
      ]
    },
    {
      "cell_type": "code",
      "metadata": {
        "id": "R_CX_eVQcMF1",
        "colab_type": "code",
        "outputId": "cc176073-4a2b-4ea4-e4e7-3c4efebc744c",
        "colab": {
          "base_uri": "https://localhost:8080/",
          "height": 459
        }
      },
      "source": [
        "f,axes = plt.subplots(2, 2, figsize=(7, 7), sharex=True)\n",
        " \n",
        "sns.distplot(data.sales, color=\"b\", ax=axes[0, 0])\n",
        "sns.distplot(data.TV, color=\"r\", ax=axes[0, 1])\n",
        "\n",
        "sns.distplot(data.radio, color=\"g\", ax=axes[1, 0])\n",
        "\n",
        "sns.distplot(data.newspaper, color=\"m\", ax=axes[1, 1])"
      ],
      "execution_count": 3,
      "outputs": [
        {
          "output_type": "execute_result",
          "data": {
            "text/plain": [
              "<matplotlib.axes._subplots.AxesSubplot at 0x7fb1a09e4eb8>"
            ]
          },
          "metadata": {
            "tags": []
          },
          "execution_count": 3
        },
        {
          "output_type": "display_data",
          "data": {
            "image/png": "[encoded data removed]",
            "text/plain": [
              "<Figure size 504x504 with 4 Axes>"
            ]
          },
          "metadata": {
            "tags": []
          }
        }
      ]
    },
    {
      "cell_type": "code",
      "metadata": {
        "id": "P1eUt6yD3Lzm",
        "colab_type": "code",
        "outputId": "b6bf641d-3364-4245-87ef-7b51a43dc0fc",
        "colab": {
          "base_uri": "https://localhost:8080/",
          "height": 459
        }
      },
      "source": [
        "f,axes=plt.subplots(2,2,figsize=(7,7))\n",
        "sns.despine(left=True)\n",
        "sns.distplot(data.sales,color=\"b\",ax=axes[0,0])\n",
        "sns.distplot(data[\"TV\"],color=\"r\",ax=axes[0,1])\n",
        "sns.distplot(data.radio,color=\"g\",ax=axes[1,0])\n",
        "sns.distplot(data.newspaper,color=\"m\",ax=axes[1,1])"
      ],
      "execution_count": 4,
      "outputs": [
        {
          "output_type": "execute_result",
          "data": {
            "text/plain": [
              "<matplotlib.axes._subplots.AxesSubplot at 0x7fb1a0375780>"
            ]
          },
          "metadata": {
            "tags": []
          },
          "execution_count": 4
        },
        {
          "output_type": "display_data",
          "data": {
            "image/png": "[encoded data removed]",
            "text/plain": [
              "<Figure size 504x504 with 4 Axes>"
            ]
          },
          "metadata": {
            "tags": []
          }
        }
      ]
    },
    {
      "cell_type": "code",
      "metadata": {
        "id": "H6VbfDk07I-d",
        "colab_type": "code",
        "outputId": "d2844581-e5db-49ad-c605-487ea93e858e",
        "colab": {
          "base_uri": "https://localhost:8080/",
          "height": 458
        }
      },
      "source": [
        "sns.jointplot(\"sales\",\"TV\",data=data,kind=\"reg\")"
      ],
      "execution_count": 5,
      "outputs": [
        {
          "output_type": "execute_result",
          "data": {
            "text/plain": [
              "<seaborn.axisgrid.JointGrid at 0x7fb1b1500240>"
            ]
          },
          "metadata": {
            "tags": []
          },
          "execution_count": 5
        },
        {
          "output_type": "display_data",
          "data": {
            "image/png": "[encoded data removed]",
            "text/plain": [
              "<Figure size 432x432 with 3 Axes>"
            ]
          },
          "metadata": {
            "tags": []
          }
        }
      ]
    },
    {
      "cell_type": "code",
      "metadata": {
        "id": "wAO0kg8tACC4",
        "colab_type": "code",
        "outputId": "74905f64-c602-4877-d32d-72617e60452a",
        "colab": {
          "base_uri": "https://localhost:8080/",
          "height": 296
        }
      },
      "source": [
        "sns.regplot(\"sales\",\"TV\",data=data)"
      ],
      "execution_count": 6,
      "outputs": [
        {
          "output_type": "execute_result",
          "data": {
            "text/plain": [
              "<matplotlib.axes._subplots.AxesSubplot at 0x7fb19d955ba8>"
            ]
          },
          "metadata": {
            "tags": []
          },
          "execution_count": 6
        },
        {
          "output_type": "display_data",
          "data": {
            "image/png": "[encoded data removed]",
            "text/plain": [
              "<Figure size 432x288 with 1 Axes>"
            ]
          },
          "metadata": {
            "tags": []
          }
        }
      ]
    },
    {
      "cell_type": "code",
      "metadata": {
        "id": "VkoSKADGAe0m",
        "colab_type": "code",
        "outputId": "a3e3e733-79f9-479e-a2fb-db9c1fec21b3",
        "colab": {
          "base_uri": "https://localhost:8080/",
          "height": 1000
        }
      },
      "source": [
        "sns.jointplot(\"TV\",\"sales\",data=data,kind=\"reg\")\n",
        "sns.jointplot(\"radio\",\"sales\",data=data,kind=\"reg\")\n",
        "sns.jointplot(\"newspaper\",\"sales\",data=data,kind=\"reg\")"
      ],
      "execution_count": 7,
      "outputs": [
        {
          "output_type": "execute_result",
          "data": {
            "text/plain": [
              "<seaborn.axisgrid.JointGrid at 0x7fb19d71c2e8>"
            ]
          },
          "metadata": {
            "tags": []
          },
          "execution_count": 7
        },
        {
          "output_type": "display_data",
          "data": {
            "image/png": "[encoded data removed]",
            "text/plain": [
              "<Figure size 432x432 with 3 Axes>"
            ]
          },
          "metadata": {
            "tags": []
          }
        },
        {
          "output_type": "display_data",
          "data": {
            "image/png": "[encoded data removed]",
            "text/plain": [
              "<Figure size 432x432 with 3 Axes>"
            ]
          },
          "metadata": {
            "tags": []
          }
        },
        {
          "output_type": "display_data",
          "data": {
            "image/png": "[encoded data removed]",
            "text/plain": [
              "<Figure size 432x432 with 3 Axes>"
            ]
          },
          "metadata": {
            "tags": []
          }
        }
      ]
    },
    {
      "cell_type": "code",
      "metadata": {
        "id": "vCyDC6A_CNQA",
        "colab_type": "code",
        "outputId": "10fbf353-448d-48d3-8048-6aac4779dd2c",
        "colab": {
          "base_uri": "https://localhost:8080/",
          "height": 632
        }
      },
      "source": [
        "sns.pairplot(data,size=2,aspect=1.5)"
      ],
      "execution_count": 8,
      "outputs": [
        {
          "output_type": "stream",
          "text": [
            "/usr/local/lib/python3.6/dist-packages/seaborn/axisgrid.py:2065: UserWarning: The `size` parameter has been renamed to `height`; pleaes update your code.\n",
            "  warnings.warn(msg, UserWarning)\n"
          ],
          "name": "stderr"
        },
        {
          "output_type": "execute_result",
          "data": {
            "text/plain": [
              "<seaborn.axisgrid.PairGrid at 0x7fb19d8bea20>"
            ]
          },
          "metadata": {
            "tags": []
          },
          "execution_count": 8
        },
        {
          "output_type": "display_data",
          "data": {
            "image/png": "[encoded data removed]",
            "text/plain": [
              "<Figure size 864x576 with 20 Axes>"
            ]
          },
          "metadata": {
            "tags": []
          }
        }
      ]
    },
    {
      "cell_type": "code",
      "metadata": {
        "id": "8Fj4hmFYDlnQ",
        "colab_type": "code",
        "outputId": "f6791c84-ead5-4494-9ded-ddeec1f6387a",
        "colab": {
          "base_uri": "https://localhost:8080/",
          "height": 416
        }
      },
      "source": [
        "sns.pairplot(data,x_vars=[\"TV\",\"radio\",\"newspaper\"],y_vars=\"sales\",size=5,aspect=1,kind=\"reg\")"
      ],
      "execution_count": 9,
      "outputs": [
        {
          "output_type": "stream",
          "text": [
            "/usr/local/lib/python3.6/dist-packages/seaborn/axisgrid.py:2065: UserWarning: The `size` parameter has been renamed to `height`; pleaes update your code.\n",
            "  warnings.warn(msg, UserWarning)\n"
          ],
          "name": "stderr"
        },
        {
          "output_type": "execute_result",
          "data": {
            "text/plain": [
              "<seaborn.axisgrid.PairGrid at 0x7fb19cf3bcc0>"
            ]
          },
          "metadata": {
            "tags": []
          },
          "execution_count": 9
        },
        {
          "output_type": "display_data",
          "data": {
            "image/png": "[encoded data removed]",
            "text/plain": [
              "<Figure size 1080x360 with 3 Axes>"
            ]
          },
          "metadata": {
            "tags": []
          }
        }
      ]
    },
    {
      "cell_type": "code",
      "metadata": {
        "id": "Npsu4r8uEj4g",
        "colab_type": "code",
        "outputId": "84880047-46aa-4cdf-b8f3-9931909a2171",
        "colab": {
          "base_uri": "https://localhost:8080/",
          "height": 173
        }
      },
      "source": [
        "data.corr()"
      ],
      "execution_count": 10,
      "outputs": [
        {
          "output_type": "execute_result",
          "data": {
            "text/html": [
              "<div>\n",
              "<style scoped>\n",
              "    .dataframe tbody tr th:only-of-type {\n",
              "        vertical-align: middle;\n",
              "    }\n",
              "\n",
              "    .dataframe tbody tr th {\n",
              "        vertical-align: top;\n",
              "    }\n",
              "\n",
              "    .dataframe thead th {\n",
              "        text-align: right;\n",
              "    }\n",
              "</style>\n",
              "<table border=\"1\" class=\"dataframe\">\n",
              "  <thead>\n",
              "    <tr style=\"text-align: right;\">\n",
              "      <th></th>\n",
              "      <th>TV</th>\n",
              "      <th>radio</th>\n",
              "      <th>newspaper</th>\n",
              "      <th>sales</th>\n",
              "    </tr>\n",
              "  </thead>\n",
              "  <tbody>\n",
              "    <tr>\n",
              "      <th>TV</th>\n",
              "      <td>1.000000</td>\n",
              "      <td>0.054809</td>\n",
              "      <td>0.056648</td>\n",
              "      <td>0.782224</td>\n",
              "    </tr>\n",
              "    <tr>\n",
              "      <th>radio</th>\n",
              "      <td>0.054809</td>\n",
              "      <td>1.000000</td>\n",
              "      <td>0.354104</td>\n",
              "      <td>0.576223</td>\n",
              "    </tr>\n",
              "    <tr>\n",
              "      <th>newspaper</th>\n",
              "      <td>0.056648</td>\n",
              "      <td>0.354104</td>\n",
              "      <td>1.000000</td>\n",
              "      <td>0.228299</td>\n",
              "    </tr>\n",
              "    <tr>\n",
              "      <th>sales</th>\n",
              "      <td>0.782224</td>\n",
              "      <td>0.576223</td>\n",
              "      <td>0.228299</td>\n",
              "      <td>1.000000</td>\n",
              "    </tr>\n",
              "  </tbody>\n",
              "</table>\n",
              "</div>"
            ],
            "text/plain": [
              "                 TV     radio  newspaper     sales\n",
              "TV         1.000000  0.054809   0.056648  0.782224\n",
              "radio      0.054809  1.000000   0.354104  0.576223\n",
              "newspaper  0.056648  0.354104   1.000000  0.228299\n",
              "sales      0.782224  0.576223   0.228299  1.000000"
            ]
          },
          "metadata": {
            "tags": []
          },
          "execution_count": 10
        }
      ]
    },
    {
      "cell_type": "code",
      "metadata": {
        "id": "8_DanyM6E8P3",
        "colab_type": "code",
        "outputId": "8322e10a-e196-45b2-9202-7c9ff7d220dc",
        "colab": {
          "base_uri": "https://localhost:8080/",
          "height": 286
        }
      },
      "source": [
        "sns.heatmap(data.corr(),annot=True)"
      ],
      "execution_count": 11,
      "outputs": [
        {
          "output_type": "execute_result",
          "data": {
            "text/plain": [
              "<matplotlib.axes._subplots.AxesSubplot at 0x7fb19d7d1c50>"
            ]
          },
          "metadata": {
            "tags": []
          },
          "execution_count": 11
        },
        {
          "output_type": "display_data",
          "data": {
            "image/png": "[encoded data removed]",
            "text/plain": [
              "<Figure size 432x288 with 2 Axes>"
            ]
          },
          "metadata": {
            "tags": []
          }
        }
      ]
    },
    {
      "cell_type": "code",
      "metadata": {
        "id": "JY5hycbvFEyn",
        "colab_type": "code",
        "colab": {}
      },
      "source": [
        "import sklearn\n",
        "from sklearn.preprocessing import StandardScaler\n",
        "scaler=StandardScaler().fit(data)\n",
        "data1=scaler.transform(data)"
      ],
      "execution_count": 0,
      "outputs": []
    },
    {
      "cell_type": "code",
      "metadata": {
        "id": "VjqbNG5gu-uO",
        "colab_type": "code",
        "outputId": "816645d1-1c9e-41e7-9e47-4dd2bb2968af",
        "colab": {
          "base_uri": "https://localhost:8080/",
          "height": 204
        }
      },
      "source": [
        "import pandas as pd\n",
        "data=pd.DataFrame(data1)\n",
        "data.head()"
      ],
      "execution_count": 13,
      "outputs": [
        {
          "output_type": "execute_result",
          "data": {
            "text/html": [
              "<div>\n",
              "<style scoped>\n",
              "    .dataframe tbody tr th:only-of-type {\n",
              "        vertical-align: middle;\n",
              "    }\n",
              "\n",
              "    .dataframe tbody tr th {\n",
              "        vertical-align: top;\n",
              "    }\n",
              "\n",
              "    .dataframe thead th {\n",
              "        text-align: right;\n",
              "    }\n",
              "</style>\n",
              "<table border=\"1\" class=\"dataframe\">\n",
              "  <thead>\n",
              "    <tr style=\"text-align: right;\">\n",
              "      <th></th>\n",
              "      <th>0</th>\n",
              "      <th>1</th>\n",
              "      <th>2</th>\n",
              "      <th>3</th>\n",
              "    </tr>\n",
              "  </thead>\n",
              "  <tbody>\n",
              "    <tr>\n",
              "      <th>0</th>\n",
              "      <td>0.969852</td>\n",
              "      <td>0.981522</td>\n",
              "      <td>1.778945</td>\n",
              "      <td>1.552053</td>\n",
              "    </tr>\n",
              "    <tr>\n",
              "      <th>1</th>\n",
              "      <td>-1.197376</td>\n",
              "      <td>1.082808</td>\n",
              "      <td>0.669579</td>\n",
              "      <td>-0.696046</td>\n",
              "    </tr>\n",
              "    <tr>\n",
              "      <th>2</th>\n",
              "      <td>-1.516155</td>\n",
              "      <td>1.528463</td>\n",
              "      <td>1.783549</td>\n",
              "      <td>-0.907406</td>\n",
              "    </tr>\n",
              "    <tr>\n",
              "      <th>3</th>\n",
              "      <td>0.052050</td>\n",
              "      <td>1.217855</td>\n",
              "      <td>1.286405</td>\n",
              "      <td>0.860330</td>\n",
              "    </tr>\n",
              "    <tr>\n",
              "      <th>4</th>\n",
              "      <td>0.394182</td>\n",
              "      <td>-0.841614</td>\n",
              "      <td>1.281802</td>\n",
              "      <td>-0.215683</td>\n",
              "    </tr>\n",
              "  </tbody>\n",
              "</table>\n",
              "</div>"
            ],
            "text/plain": [
              "          0         1         2         3\n",
              "0  0.969852  0.981522  1.778945  1.552053\n",
              "1 -1.197376  1.082808  0.669579 -0.696046\n",
              "2 -1.516155  1.528463  1.783549 -0.907406\n",
              "3  0.052050  1.217855  1.286405  0.860330\n",
              "4  0.394182 -0.841614  1.281802 -0.215683"
            ]
          },
          "metadata": {
            "tags": []
          },
          "execution_count": 13
        }
      ]
    },
    {
      "cell_type": "code",
      "metadata": {
        "id": "nOWMV3ZSxjAs",
        "colab_type": "code",
        "outputId": "846ff317-b3c9-4548-e800-7b9506354e9f",
        "colab": {
          "base_uri": "https://localhost:8080/",
          "height": 204
        }
      },
      "source": [
        "data.columns=[\"TV\",\"radio\",\"newspaper\",\"sales\"]\n",
        "data.head()"
      ],
      "execution_count": 14,
      "outputs": [
        {
          "output_type": "execute_result",
          "data": {
            "text/html": [
              "<div>\n",
              "<style scoped>\n",
              "    .dataframe tbody tr th:only-of-type {\n",
              "        vertical-align: middle;\n",
              "    }\n",
              "\n",
              "    .dataframe tbody tr th {\n",
              "        vertical-align: top;\n",
              "    }\n",
              "\n",
              "    .dataframe thead th {\n",
              "        text-align: right;\n",
              "    }\n",
              "</style>\n",
              "<table border=\"1\" class=\"dataframe\">\n",
              "  <thead>\n",
              "    <tr style=\"text-align: right;\">\n",
              "      <th></th>\n",
              "      <th>TV</th>\n",
              "      <th>radio</th>\n",
              "      <th>newspaper</th>\n",
              "      <th>sales</th>\n",
              "    </tr>\n",
              "  </thead>\n",
              "  <tbody>\n",
              "    <tr>\n",
              "      <th>0</th>\n",
              "      <td>0.969852</td>\n",
              "      <td>0.981522</td>\n",
              "      <td>1.778945</td>\n",
              "      <td>1.552053</td>\n",
              "    </tr>\n",
              "    <tr>\n",
              "      <th>1</th>\n",
              "      <td>-1.197376</td>\n",
              "      <td>1.082808</td>\n",
              "      <td>0.669579</td>\n",
              "      <td>-0.696046</td>\n",
              "    </tr>\n",
              "    <tr>\n",
              "      <th>2</th>\n",
              "      <td>-1.516155</td>\n",
              "      <td>1.528463</td>\n",
              "      <td>1.783549</td>\n",
              "      <td>-0.907406</td>\n",
              "    </tr>\n",
              "    <tr>\n",
              "      <th>3</th>\n",
              "      <td>0.052050</td>\n",
              "      <td>1.217855</td>\n",
              "      <td>1.286405</td>\n",
              "      <td>0.860330</td>\n",
              "    </tr>\n",
              "    <tr>\n",
              "      <th>4</th>\n",
              "      <td>0.394182</td>\n",
              "      <td>-0.841614</td>\n",
              "      <td>1.281802</td>\n",
              "      <td>-0.215683</td>\n",
              "    </tr>\n",
              "  </tbody>\n",
              "</table>\n",
              "</div>"
            ],
            "text/plain": [
              "         TV     radio  newspaper     sales\n",
              "0  0.969852  0.981522   1.778945  1.552053\n",
              "1 -1.197376  1.082808   0.669579 -0.696046\n",
              "2 -1.516155  1.528463   1.783549 -0.907406\n",
              "3  0.052050  1.217855   1.286405  0.860330\n",
              "4  0.394182 -0.841614   1.281802 -0.215683"
            ]
          },
          "metadata": {
            "tags": []
          },
          "execution_count": 14
        }
      ]
    },
    {
      "cell_type": "code",
      "metadata": {
        "id": "COGyy8jXx_4L",
        "colab_type": "code",
        "outputId": "135c8c99-910d-4590-a2f8-1b27074075cc",
        "colab": {
          "base_uri": "https://localhost:8080/",
          "height": 289
        }
      },
      "source": [
        "feat_col=[\"TV\",\"radio\",\"newspaper\"]\n",
        "x=data[feat_col]\n",
        "print(x)\n",
        "print(type(x))\n",
        "print(x.shape)"
      ],
      "execution_count": 15,
      "outputs": [
        {
          "output_type": "stream",
          "text": [
            "           TV     radio  newspaper\n",
            "0    0.969852  0.981522   1.778945\n",
            "1   -1.197376  1.082808   0.669579\n",
            "2   -1.516155  1.528463   1.783549\n",
            "3    0.052050  1.217855   1.286405\n",
            "4    0.394182 -0.841614   1.281802\n",
            "..        ...       ...        ...\n",
            "195 -1.270941 -1.321031  -0.771217\n",
            "196 -0.617035 -1.240003  -1.033598\n",
            "197  0.349810 -0.942899  -1.111852\n",
            "198  1.594565  1.265121   1.640850\n",
            "199  0.993206 -0.990165  -1.005979\n",
            "\n",
            "[200 rows x 3 columns]\n",
            "<class 'pandas.core.frame.DataFrame'>\n",
            "(200, 3)\n"
          ],
          "name": "stdout"
        }
      ]
    },
    {
      "cell_type": "code",
      "metadata": {
        "id": "44TLxtI2zmBr",
        "colab_type": "code",
        "outputId": "31f3b726-a9b7-45b4-ab34-9270439c08f9",
        "colab": {
          "base_uri": "https://localhost:8080/",
          "height": 153
        }
      },
      "source": [
        "y=data[\"sales\"]\n",
        "print(y.head())\n",
        "print(type(y))\n",
        "print(y.shape)"
      ],
      "execution_count": 16,
      "outputs": [
        {
          "output_type": "stream",
          "text": [
            "0    1.552053\n",
            "1   -0.696046\n",
            "2   -0.907406\n",
            "3    0.860330\n",
            "4   -0.215683\n",
            "Name: sales, dtype: float64\n",
            "<class 'pandas.core.series.Series'>\n",
            "(200,)\n"
          ],
          "name": "stdout"
        }
      ]
    },
    {
      "cell_type": "code",
      "metadata": {
        "id": "vhCFezPtz28n",
        "colab_type": "code",
        "colab": {}
      },
      "source": [
        "from sklearn.model_selection import train_test_split\n",
        "\n",
        "def split(x,y):\n",
        "    return train_test_split(x, y, test_size=0.20, random_state=1)\n",
        "  "
      ],
      "execution_count": 0,
      "outputs": []
    },
    {
      "cell_type": "code",
      "metadata": {
        "id": "BJ7A5n0vO0aE",
        "colab_type": "code",
        "outputId": "8b405335-7c5e-4de9-b469-5f2d88656c1a",
        "colab": {
          "base_uri": "https://localhost:8080/",
          "height": 136
        }
      },
      "source": [
        "x_train, x_test, y_train, y_test=split(x,y)\n",
        "print('Train cases as below')\n",
        "print('X_train shape: ',x_train.shape)\n",
        "print('y_train shape: ',y_train.shape)\n",
        "print('\\nTest cases as below')\n",
        "print('X_test shape: ',x_test.shape)\n",
        "print('y_test shape: ',y_test.shape)"
      ],
      "execution_count": 18,
      "outputs": [
        {
          "output_type": "stream",
          "text": [
            "Train cases as below\n",
            "X_train shape:  (160, 3)\n",
            "y_train shape:  (160,)\n",
            "\n",
            "Test cases as below\n",
            "X_test shape:  (40, 3)\n",
            "y_test shape:  (40,)\n"
          ],
          "name": "stdout"
        }
      ]
    },
    {
      "cell_type": "code",
      "metadata": {
        "id": "p3LI_VQFO3be",
        "colab_type": "code",
        "colab": {}
      },
      "source": [
        "from sklearn.model_selection import train_test_split\n",
        "def split(x,y):\n",
        "  return train_test_split(x,y,test_size=0.20,random_state=1)"
      ],
      "execution_count": 0,
      "outputs": []
    },
    {
      "cell_type": "code",
      "metadata": {
        "id": "yFRmqCGpQkP7",
        "colab_type": "code",
        "outputId": "5c451c44-0fbf-4e93-8dda-a15ae929a51a",
        "colab": {
          "base_uri": "https://localhost:8080/",
          "height": 85
        }
      },
      "source": [
        "x_train,y_train,x_test,y_test=split(x,y)\n",
        "print(x_train.shape)\n",
        "print(y_train.shape)\n",
        "print(x_test.shape)\n",
        "print(y_test.shape)"
      ],
      "execution_count": 20,
      "outputs": [
        {
          "output_type": "stream",
          "text": [
            "(160, 3)\n",
            "(40, 3)\n",
            "(160,)\n",
            "(40,)\n"
          ],
          "name": "stdout"
        }
      ]
    },
    {
      "cell_type": "code",
      "metadata": {
        "id": "iZCv_Z2tSABn",
        "colab_type": "code",
        "colab": {}
      },
      "source": [
        "def linear_reg( x, y, gridsearch = False):\n",
        "    \n",
        "    x_train, x_test, y_train, y_test = split(x,y)\n",
        "    \n",
        "    from sklearn.linear_model import LinearRegression\n",
        "    linreg = LinearRegression()\n",
        "    \n",
        "    if not(gridsearch):\n",
        "        linreg.fit(x_train, y_train) \n",
        "\n",
        "    else:\n",
        "        from sklearn.model_selection import GridSearchCV\n",
        "        parameters = {'normalize':[True,False], 'copy_x':[True, False]}\n",
        "        linreg = GridSearchCV(linreg,parameters, cv = 10,refit = True)\n",
        "        linreg.fit(x_train, y_train)                                                           # fit the model to the training data (learn the coefficients)\n",
        "        print(\"Mean cross-validated score of the best_estimator : \", linreg.best_score_)  \n",
        "        \n",
        "        y_pred_test = linreg.predict(x_test)                                                   # make predictions on the testing set\n",
        "\n",
        "        RMSE_test = np.sqrt(metrics.mean_squared_error(y_test, y_pred_test))                          # compute the RMSE of our predictions\n",
        "        print('RMSE for the test set is {}'.format(RMSE_test))\n",
        "\n",
        "    return linreg"
      ],
      "execution_count": 0,
      "outputs": []
    },
    {
      "cell_type": "code",
      "metadata": {
        "id": "HD3A-lFCXuGq",
        "colab_type": "code",
        "outputId": "f53baeb4-5c0e-462f-f52f-963d2787b82b",
        "colab": {
          "base_uri": "https://localhost:8080/",
          "height": 34
        }
      },
      "source": [
        "x = data[feat_col]  \n",
        "y = data.sales\n",
        "linreg = linear_reg(x,y)\n",
        "linreg"
      ],
      "execution_count": 22,
      "outputs": [
        {
          "output_type": "execute_result",
          "data": {
            "text/plain": [
              "LinearRegression(copy_X=True, fit_intercept=True, n_jobs=None, normalize=False)"
            ]
          },
          "metadata": {
            "tags": []
          },
          "execution_count": 22
        }
      ]
    },
    {
      "cell_type": "code",
      "metadata": {
        "id": "S8sra8Y7YJCC",
        "colab_type": "code",
        "outputId": "4e843e73-a1ea-4b1f-b2de-0c34fc4506e6",
        "colab": {
          "base_uri": "https://localhost:8080/",
          "height": 51
        }
      },
      "source": [
        "print('Intercept:',linreg.intercept_)          # print the intercept \n",
        "print('Coefficients:',linreg.coef_) "
      ],
      "execution_count": 23,
      "outputs": [
        {
          "output_type": "stream",
          "text": [
            "Intercept: 0.0011620874606385126\n",
            "Coefficients: [0.77081214 0.50806629 0.01079522]\n"
          ],
          "name": "stdout"
        }
      ]
    },
    {
      "cell_type": "code",
      "metadata": {
        "id": "55LsZVOUxNS8",
        "colab_type": "code",
        "colab": {}
      },
      "source": [
        "def linear_reg( x, y, gridsearch = False):\n",
        "    \n",
        "    x_train, x_test, y_train, y_test = split(x,y)\n",
        "    \n",
        "    from sklearn.linear_model import LinearRegression\n",
        "    linreg = LinearRegression()\n",
        "    \n",
        "    if not(gridsearch):\n",
        "        linreg.fit(x_train, y_train) \n",
        "\n",
        "    else:\n",
        "        from sklearn.model_selection import GridSearchCV\n",
        "        \n",
        "        linreg = GridSearchCV(linreg,parameters, cv = 10,refit = True)\n",
        "        linreg.fit(x_train, y_train)                                                           # fit the model to the training data (learn the coefficients)\n",
        "        print(\"Mean cross-validated score of the best_estimator : \", linreg.best_score_)  \n",
        "        \n",
        "        y_pred_test = linreg.predict(x_test)                                                   # make predictions on the testing set\n",
        "\n",
        "        RMSE_test = np.sqrt(metrics.mean_squared_error(y_test, y_pred_test))                          # compute the RMSE of our predictions\n",
        "        print('RMSE for the test set is {}'.format(RMSE_test))\n",
        "\n",
        "    return linreg"
      ],
      "execution_count": 0,
      "outputs": []
    },
    {
      "cell_type": "code",
      "metadata": {
        "id": "WYZDQISh1dck",
        "colab_type": "code",
        "colab": {}
      },
      "source": [
        "feat_col.insert(0,'Intercept')"
      ],
      "execution_count": 0,
      "outputs": []
    },
    {
      "cell_type": "code",
      "metadata": {
        "id": "Vd5RgmtukOQh",
        "colab_type": "code",
        "colab": {
          "base_uri": "https://localhost:8080/",
          "height": 34
        },
        "outputId": "0fd63778-e546-4a2e-b142-5e4864f2a2e1"
      },
      "source": [
        "feat_col.pop(1)"
      ],
      "execution_count": 26,
      "outputs": [
        {
          "output_type": "execute_result",
          "data": {
            "text/plain": [
              "'TV'"
            ]
          },
          "metadata": {
            "tags": []
          },
          "execution_count": 26
        }
      ]
    },
    {
      "cell_type": "code",
      "metadata": {
        "id": "g4fByYvFkxh7",
        "colab_type": "code",
        "colab": {}
      },
      "source": [
        "feat_col.insert(1,\"TV\")"
      ],
      "execution_count": 0,
      "outputs": []
    },
    {
      "cell_type": "code",
      "metadata": {
        "id": "M1AKZQYzlwTW",
        "colab_type": "code",
        "outputId": "c3061881-f53f-406e-d643-13359aea4c7d",
        "colab": {
          "base_uri": "https://localhost:8080/",
          "height": 34
        }
      },
      "source": [
        "feat_col.insert(0,\"intercept\")\n",
        "feat_col"
      ],
      "execution_count": 28,
      "outputs": [
        {
          "output_type": "execute_result",
          "data": {
            "text/plain": [
              "['intercept', 'Intercept', 'TV', 'radio', 'newspaper']"
            ]
          },
          "metadata": {
            "tags": []
          },
          "execution_count": 28
        }
      ]
    },
    {
      "cell_type": "code",
      "metadata": {
        "id": "9JK-TJltl8uM",
        "colab_type": "code",
        "colab": {}
      },
      "source": [
        "coef = linreg.coef_.tolist()"
      ],
      "execution_count": 0,
      "outputs": []
    },
    {
      "cell_type": "code",
      "metadata": {
        "id": "pm9IcGeNmFei",
        "colab_type": "code",
        "outputId": "d033a2bc-9a75-45f4-9ac8-cbafc92ad7f2",
        "colab": {
          "base_uri": "https://localhost:8080/",
          "height": 34
        }
      },
      "source": [
        "coef"
      ],
      "execution_count": 30,
      "outputs": [
        {
          "output_type": "execute_result",
          "data": {
            "text/plain": [
              "[0.7708121379125106, 0.5080662902756101, 0.010795215187608953]"
            ]
          },
          "metadata": {
            "tags": []
          },
          "execution_count": 30
        }
      ]
    },
    {
      "cell_type": "code",
      "metadata": {
        "id": "-oKQbyMTpSzF",
        "colab_type": "code",
        "outputId": "0ec4191f-d5f4-47da-bd0e-0c885393dd0f",
        "colab": {
          "base_uri": "https://localhost:8080/",
          "height": 34
        }
      },
      "source": [
        "list(linreg.coef_)"
      ],
      "execution_count": 31,
      "outputs": [
        {
          "output_type": "execute_result",
          "data": {
            "text/plain": [
              "[0.7708121379125106, 0.5080662902756101, 0.010795215187608953]"
            ]
          },
          "metadata": {
            "tags": []
          },
          "execution_count": 31
        }
      ]
    },
    {
      "cell_type": "code",
      "metadata": {
        "id": "BIsJFTGwphVs",
        "colab_type": "code",
        "outputId": "84c727fa-0bb1-4541-9d06-2b26266cd672",
        "colab": {
          "base_uri": "https://localhost:8080/",
          "height": 85
        }
      },
      "source": [
        "coef.insert(0, linreg.intercept_)\n",
        "coef"
      ],
      "execution_count": 32,
      "outputs": [
        {
          "output_type": "execute_result",
          "data": {
            "text/plain": [
              "[0.0011620874606385126,\n",
              " 0.7708121379125106,\n",
              " 0.5080662902756101,\n",
              " 0.010795215187608953]"
            ]
          },
          "metadata": {
            "tags": []
          },
          "execution_count": 32
        }
      ]
    },
    {
      "cell_type": "code",
      "metadata": {
        "id": "cTA7JFhrqB6G",
        "colab_type": "code",
        "colab": {}
      },
      "source": [
        "import numpy as np\n",
        "import pandas as pd\n",
        "import seaborn as sns\n",
        "import matplotlib.pyplot as plt\n",
        "from sklearn import metrics\n",
        "%matplotlib inline\n"
      ],
      "execution_count": 0,
      "outputs": []
    },
    {
      "cell_type": "code",
      "metadata": {
        "id": "GHtNfaIdsU45",
        "colab_type": "code",
        "outputId": "08e34efe-3376-42c5-d282-4a1024a1b584",
        "colab": {
          "base_uri": "https://localhost:8080/",
          "height": 204
        }
      },
      "source": [
        "data=pd.read_csv(\"https://raw.githubusercontent.com/insaid2018/Term-2/master/CaseStudy/Advertising.csv\")\n",
        "data.head()"
      ],
      "execution_count": 34,
      "outputs": [
        {
          "output_type": "execute_result",
          "data": {
            "text/html": [
              "<div>\n",
              "<style scoped>\n",
              "    .dataframe tbody tr th:only-of-type {\n",
              "        vertical-align: middle;\n",
              "    }\n",
              "\n",
              "    .dataframe tbody tr th {\n",
              "        vertical-align: top;\n",
              "    }\n",
              "\n",
              "    .dataframe thead th {\n",
              "        text-align: right;\n",
              "    }\n",
              "</style>\n",
              "<table border=\"1\" class=\"dataframe\">\n",
              "  <thead>\n",
              "    <tr style=\"text-align: right;\">\n",
              "      <th></th>\n",
              "      <th>Unnamed: 0</th>\n",
              "      <th>TV</th>\n",
              "      <th>radio</th>\n",
              "      <th>newspaper</th>\n",
              "      <th>sales</th>\n",
              "    </tr>\n",
              "  </thead>\n",
              "  <tbody>\n",
              "    <tr>\n",
              "      <th>0</th>\n",
              "      <td>1</td>\n",
              "      <td>230.1</td>\n",
              "      <td>37.8</td>\n",
              "      <td>69.2</td>\n",
              "      <td>22.1</td>\n",
              "    </tr>\n",
              "    <tr>\n",
              "      <th>1</th>\n",
              "      <td>2</td>\n",
              "      <td>44.5</td>\n",
              "      <td>39.3</td>\n",
              "      <td>45.1</td>\n",
              "      <td>10.4</td>\n",
              "    </tr>\n",
              "    <tr>\n",
              "      <th>2</th>\n",
              "      <td>3</td>\n",
              "      <td>17.2</td>\n",
              "      <td>45.9</td>\n",
              "      <td>69.3</td>\n",
              "      <td>9.3</td>\n",
              "    </tr>\n",
              "    <tr>\n",
              "      <th>3</th>\n",
              "      <td>4</td>\n",
              "      <td>151.5</td>\n",
              "      <td>41.3</td>\n",
              "      <td>58.5</td>\n",
              "      <td>18.5</td>\n",
              "    </tr>\n",
              "    <tr>\n",
              "      <th>4</th>\n",
              "      <td>5</td>\n",
              "      <td>180.8</td>\n",
              "      <td>10.8</td>\n",
              "      <td>58.4</td>\n",
              "      <td>12.9</td>\n",
              "    </tr>\n",
              "  </tbody>\n",
              "</table>\n",
              "</div>"
            ],
            "text/plain": [
              "   Unnamed: 0     TV  radio  newspaper  sales\n",
              "0           1  230.1   37.8       69.2   22.1\n",
              "1           2   44.5   39.3       45.1   10.4\n",
              "2           3   17.2   45.9       69.3    9.3\n",
              "3           4  151.5   41.3       58.5   18.5\n",
              "4           5  180.8   10.8       58.4   12.9"
            ]
          },
          "metadata": {
            "tags": []
          },
          "execution_count": 34
        }
      ]
    },
    {
      "cell_type": "code",
      "metadata": {
        "id": "2PMREeogsyYK",
        "colab_type": "code",
        "outputId": "aba9df1d-b360-40ec-d07b-c265097eeda8",
        "colab": {
          "base_uri": "https://localhost:8080/",
          "height": 204
        }
      },
      "source": [
        "data=pd.read_csv(\"https://raw.githubusercontent.com/insaid2018/Term-2/master/CaseStudy/Advertising.csv\",index_col=0)\n",
        "data.head()"
      ],
      "execution_count": 35,
      "outputs": [
        {
          "output_type": "execute_result",
          "data": {
            "text/html": [
              "<div>\n",
              "<style scoped>\n",
              "    .dataframe tbody tr th:only-of-type {\n",
              "        vertical-align: middle;\n",
              "    }\n",
              "\n",
              "    .dataframe tbody tr th {\n",
              "        vertical-align: top;\n",
              "    }\n",
              "\n",
              "    .dataframe thead th {\n",
              "        text-align: right;\n",
              "    }\n",
              "</style>\n",
              "<table border=\"1\" class=\"dataframe\">\n",
              "  <thead>\n",
              "    <tr style=\"text-align: right;\">\n",
              "      <th></th>\n",
              "      <th>TV</th>\n",
              "      <th>radio</th>\n",
              "      <th>newspaper</th>\n",
              "      <th>sales</th>\n",
              "    </tr>\n",
              "  </thead>\n",
              "  <tbody>\n",
              "    <tr>\n",
              "      <th>1</th>\n",
              "      <td>230.1</td>\n",
              "      <td>37.8</td>\n",
              "      <td>69.2</td>\n",
              "      <td>22.1</td>\n",
              "    </tr>\n",
              "    <tr>\n",
              "      <th>2</th>\n",
              "      <td>44.5</td>\n",
              "      <td>39.3</td>\n",
              "      <td>45.1</td>\n",
              "      <td>10.4</td>\n",
              "    </tr>\n",
              "    <tr>\n",
              "      <th>3</th>\n",
              "      <td>17.2</td>\n",
              "      <td>45.9</td>\n",
              "      <td>69.3</td>\n",
              "      <td>9.3</td>\n",
              "    </tr>\n",
              "    <tr>\n",
              "      <th>4</th>\n",
              "      <td>151.5</td>\n",
              "      <td>41.3</td>\n",
              "      <td>58.5</td>\n",
              "      <td>18.5</td>\n",
              "    </tr>\n",
              "    <tr>\n",
              "      <th>5</th>\n",
              "      <td>180.8</td>\n",
              "      <td>10.8</td>\n",
              "      <td>58.4</td>\n",
              "      <td>12.9</td>\n",
              "    </tr>\n",
              "  </tbody>\n",
              "</table>\n",
              "</div>"
            ],
            "text/plain": [
              "      TV  radio  newspaper  sales\n",
              "1  230.1   37.8       69.2   22.1\n",
              "2   44.5   39.3       45.1   10.4\n",
              "3   17.2   45.9       69.3    9.3\n",
              "4  151.5   41.3       58.5   18.5\n",
              "5  180.8   10.8       58.4   12.9"
            ]
          },
          "metadata": {
            "tags": []
          },
          "execution_count": 35
        }
      ]
    },
    {
      "cell_type": "code",
      "metadata": {
        "id": "J5DE_OldtIK_",
        "colab_type": "code",
        "outputId": "53ef40a4-b12d-4d69-f44b-038d945e7fec",
        "colab": {
          "base_uri": "https://localhost:8080/",
          "height": 442
        }
      },
      "source": [
        "print(data.shape)\n",
        "print(data.info())\n",
        "print(data.describe)"
      ],
      "execution_count": 36,
      "outputs": [
        {
          "output_type": "stream",
          "text": [
            "(200, 4)\n",
            "<class 'pandas.core.frame.DataFrame'>\n",
            "Int64Index: 200 entries, 1 to 200\n",
            "Data columns (total 4 columns):\n",
            "TV           200 non-null float64\n",
            "radio        200 non-null float64\n",
            "newspaper    200 non-null float64\n",
            "sales        200 non-null float64\n",
            "dtypes: float64(4)\n",
            "memory usage: 7.8 KB\n",
            "None\n",
            "<bound method NDFrame.describe of         TV  radio  newspaper  sales\n",
            "1    230.1   37.8       69.2   22.1\n",
            "2     44.5   39.3       45.1   10.4\n",
            "3     17.2   45.9       69.3    9.3\n",
            "4    151.5   41.3       58.5   18.5\n",
            "5    180.8   10.8       58.4   12.9\n",
            "..     ...    ...        ...    ...\n",
            "196   38.2    3.7       13.8    7.6\n",
            "197   94.2    4.9        8.1    9.7\n",
            "198  177.0    9.3        6.4   12.8\n",
            "199  283.6   42.0       66.2   25.5\n",
            "200  232.1    8.6        8.7   13.4\n",
            "\n",
            "[200 rows x 4 columns]>\n"
          ],
          "name": "stdout"
        }
      ]
    },
    {
      "cell_type": "code",
      "metadata": {
        "id": "jWliMNvBtTfY",
        "colab_type": "code",
        "outputId": "e69fa7bd-7276-473e-c5ce-23922ad16d76",
        "colab": {
          "base_uri": "https://localhost:8080/",
          "height": 129
        }
      },
      "source": [
        "f,axes=plt.subplots(2,2,figsize=(7,7),sharex=True,shar)\n",
        "sns.distplot(data[\"sales\"],color=\"b\",ax=axes[0,0])\n",
        "sns.distplot(data[\"TV\"],color=\"r\",ax=axes[0,1])\n",
        "sns.distplot(data[\"radio\"],color=\"g\",ax=axes[1,0])\n",
        "sns.distplot(data[\"newspaper\"],color=\"m\",ax=axes[1,1])"
      ],
      "execution_count": 37,
      "outputs": [
        {
          "output_type": "error",
          "ename": "SyntaxError",
          "evalue": "ignored",
          "traceback": [
            "\u001b[0;36m  File \u001b[0;32m\"<ipython-input-37-6afbb1432247>\"\u001b[0;36m, line \u001b[0;32m1\u001b[0m\n\u001b[0;31m    f,axes=plt.subplots(2,2,figsize=(7,7),sharex=True,shar)\u001b[0m\n\u001b[0m                                                     ^\u001b[0m\n\u001b[0;31mSyntaxError\u001b[0m\u001b[0;31m:\u001b[0m positional argument follows keyword argument\n"
          ]
        }
      ]
    },
    {
      "cell_type": "code",
      "metadata": {
        "id": "X8MVoebyuaL_",
        "colab_type": "code",
        "colab": {}
      },
      "source": [
        "print(sns.jointplot(\"newspaper\",\"sales\",data=data,kind=\"reg\"))\n",
        "print(sns.jointplot(\"TV\",\"sales\",data=data,kind=\"reg\"))\n",
        "print(sns.jointplot(\"radio\",\"sales\",data=data,kind=\"reg\"))"
      ],
      "execution_count": 0,
      "outputs": []
    },
    {
      "cell_type": "code",
      "metadata": {
        "id": "BRfnlNgswkIl",
        "colab_type": "code",
        "colab": {}
      },
      "source": [
        "sns.pairplot(data,size=2,aspect=1.5)"
      ],
      "execution_count": 0,
      "outputs": []
    },
    {
      "cell_type": "code",
      "metadata": {
        "id": "n40OE1HFz93o",
        "colab_type": "code",
        "colab": {}
      },
      "source": [
        "sns.pairplot(data,x_vars=[\"TV\",\"radio\",\"newspaper\"],y_vars=[\"sales\"],size=4,aspect=1.5,kind=\"reg\")"
      ],
      "execution_count": 0,
      "outputs": []
    },
    {
      "cell_type": "code",
      "metadata": {
        "id": "x5fywF340Xlk",
        "colab_type": "code",
        "colab": {}
      },
      "source": [
        "print(data.corr())\n",
        "print(sns.heatmap(data.corr(),annot=True))"
      ],
      "execution_count": 0,
      "outputs": []
    },
    {
      "cell_type": "code",
      "metadata": {
        "id": "gnzqxVuJ5Y2H",
        "colab_type": "code",
        "colab": {}
      },
      "source": [
        "from sklearn.preprocessing import StandardScaler\n",
        "scalar=StandardScaler().fit(data)\n",
        "data1=scalar.transform(data)\n",
        "data=pd.DataFrame(data1)\n",
        "data.head()"
      ],
      "execution_count": 0,
      "outputs": []
    },
    {
      "cell_type": "code",
      "metadata": {
        "id": "VSHP2ZHmIpdv",
        "colab_type": "code",
        "colab": {}
      },
      "source": [
        "data.columns=[\"TV\",\"radio\",\"newspaper\",\"sales\"]\n",
        "data.head()"
      ],
      "execution_count": 0,
      "outputs": []
    },
    {
      "cell_type": "code",
      "metadata": {
        "id": "U31t-FueLQeb",
        "colab_type": "code",
        "colab": {}
      },
      "source": [
        "from sklearn.model_selection import train_test_split\n",
        "def split(x,y):\n",
        "  return train_test_split(x,y,test_size=0.20,random_state=1)"
      ],
      "execution_count": 0,
      "outputs": []
    },
    {
      "cell_type": "code",
      "metadata": {
        "id": "Ul3ESYEZLvCI",
        "colab_type": "code",
        "colab": {}
      },
      "source": [
        "x=data[[\"TV\",\"radio\",\"newspaper\"]]\n",
        "y=data[\"sales\"]\n",
        "print(type(x))\n",
        "print(type(y))\n",
        "print(x.shape)\n",
        "print(y.shape)\n",
        "print(x.head())"
      ],
      "execution_count": 0,
      "outputs": []
    },
    {
      "cell_type": "code",
      "metadata": {
        "id": "M7PAY4-PMATP",
        "colab_type": "code",
        "colab": {}
      },
      "source": [
        "x_train,x_test,y_train,y_test=split(x,y)"
      ],
      "execution_count": 0,
      "outputs": []
    },
    {
      "cell_type": "code",
      "metadata": {
        "id": "tzQaATCnOQnb",
        "colab_type": "code",
        "colab": {}
      },
      "source": [
        "print(x_train.shape)\n",
        "print(y_train.shape)\n",
        "print(x_test.shape)\n",
        "print(y_test.shape)"
      ],
      "execution_count": 0,
      "outputs": []
    },
    {
      "cell_type": "code",
      "metadata": {
        "id": "DfagQe1WOf8O",
        "colab_type": "code",
        "colab": {}
      },
      "source": [
        "x_train.to_csv(\"datasump.x_train\")\n",
        "y_test.to_csv(\"datasump.y_test\")"
      ],
      "execution_count": 0,
      "outputs": []
    },
    {
      "cell_type": "code",
      "metadata": {
        "id": "_71erqGMPXUq",
        "colab_type": "code",
        "colab": {}
      },
      "source": [
        "x_train=pd.read_csv(\"datasump.x_train\")\n",
        "x_train.head()"
      ],
      "execution_count": 0,
      "outputs": []
    },
    {
      "cell_type": "code",
      "metadata": {
        "id": "t9lNvJ0VPmE5",
        "colab_type": "code",
        "colab": {}
      },
      "source": [
        "from sklearn.linear_model import LinearRegression\n",
        "linreg=LinearRegression()\n",
        "linreg"
      ],
      "execution_count": 0,
      "outputs": []
    },
    {
      "cell_type": "code",
      "metadata": {
        "id": "dXMqzG3MaSrJ",
        "colab_type": "code",
        "colab": {}
      },
      "source": [
        "x_train.head()"
      ],
      "execution_count": 0,
      "outputs": []
    },
    {
      "cell_type": "code",
      "metadata": {
        "id": "VQ03-C1ZbDwb",
        "colab_type": "code",
        "colab": {}
      },
      "source": [
        "y_train.head()"
      ],
      "execution_count": 0,
      "outputs": []
    },
    {
      "cell_type": "code",
      "metadata": {
        "id": "BhOIAdt7bjJb",
        "colab_type": "code",
        "colab": {}
      },
      "source": [
        "x_test.shape"
      ],
      "execution_count": 0,
      "outputs": []
    },
    {
      "cell_type": "code",
      "metadata": {
        "id": "4TUmRS3kehgh",
        "colab_type": "code",
        "colab": {}
      },
      "source": [
        "print(x_train.shape)\n",
        "print(y_train.shape)\n",
        "print(x_test.shape)\n",
        "print(y_test.shape)"
      ],
      "execution_count": 0,
      "outputs": []
    },
    {
      "cell_type": "code",
      "metadata": {
        "id": "NusRmQrJhbU4",
        "colab_type": "code",
        "colab": {}
      },
      "source": [
        "linreg.fit(x_train,y_train)\n",
        "y_pred=linreg.predict(x_test)"
      ],
      "execution_count": 0,
      "outputs": []
    },
    {
      "cell_type": "code",
      "metadata": {
        "id": "WbThKByHjAKD",
        "colab_type": "code",
        "colab": {}
      },
      "source": [
        "RMSE_test = (metrics.mean_squared_error(y_test, y_pred))                          # compute the RMSE of our predictions\n",
        "print('RMSE for the test set is {}'.format(RMSE_test))"
      ],
      "execution_count": 0,
      "outputs": []
    },
    {
      "cell_type": "code",
      "metadata": {
        "id": "Bq0QWAS6jEFo",
        "colab_type": "code",
        "colab": {}
      },
      "source": [
        "from sklearn.linear_model import LinearRegression\n",
        "linreg=LinearRegression(normalize=True)\n",
        "linreg.fit(x_train,y_train)\n",
        "y_pred=linreg.predict(x_test)"
      ],
      "execution_count": 0,
      "outputs": []
    },
    {
      "cell_type": "code",
      "metadata": {
        "id": "ReBjuGAOliHk",
        "colab_type": "code",
        "colab": {}
      },
      "source": [
        "rmse=metrics.mean_squared_error(y_test,y_pred)\n",
        "print(rmse)"
      ],
      "execution_count": 0,
      "outputs": []
    },
    {
      "cell_type": "code",
      "metadata": {
        "id": "7683ZlBIl13a",
        "colab_type": "code",
        "colab": {}
      },
      "source": [
        "data_new=pd.read_csv(\"https://raw.githubusercontent.com/insaid2018/Term-2/master/CaseStudy/Advertising.csv\",index_col=0)\n",
        "data_new.head()"
      ],
      "execution_count": 0,
      "outputs": []
    },
    {
      "cell_type": "code",
      "metadata": {
        "id": "G5sONmSSmZpa",
        "colab_type": "code",
        "colab": {}
      },
      "source": [
        "x=data[[\"TV\",\"radio\",\"newspaper\"]]\n",
        "y=data[\"sales\"]\n",
        "print(x.shape)\n",
        "print(y.shape)"
      ],
      "execution_count": 0,
      "outputs": []
    },
    {
      "cell_type": "code",
      "metadata": {
        "id": "TdX24OkSolgt",
        "colab_type": "code",
        "colab": {}
      },
      "source": [
        "from sklearn.model_selection import train_test_split\n",
        "def split(x,y):\n",
        "  return train_test_split(x,y,test_size=0.20,random_state=1)"
      ],
      "execution_count": 0,
      "outputs": []
    },
    {
      "cell_type": "code",
      "metadata": {
        "id": "b5zflEsBo9Mo",
        "colab_type": "code",
        "colab": {}
      },
      "source": [
        "x_train,x_test,y_train,y_test=split(x,y)"
      ],
      "execution_count": 0,
      "outputs": []
    },
    {
      "cell_type": "code",
      "metadata": {
        "id": "XNp7ch16pGCI",
        "colab_type": "code",
        "colab": {}
      },
      "source": [
        "print(x_train.shape)\n",
        "print(x_test.shape)\n",
        "print(y_train.shape)\n",
        "print(y_test.shape)"
      ],
      "execution_count": 0,
      "outputs": []
    },
    {
      "cell_type": "code",
      "metadata": {
        "id": "2xnR248wpVdp",
        "colab_type": "code",
        "colab": {}
      },
      "source": [
        "from sklearn.linear_model import LinearRegression\n",
        "linreg=LinearRegression(normalize=False)\n",
        "linreg.fit(x_train,y_train)\n",
        "y_pred=linreg.predict(x_test)\n",
        "rmse=metrics.mean_squared_error(y_test,y_pred)\n",
        "print(rmse)"
      ],
      "execution_count": 0,
      "outputs": []
    },
    {
      "cell_type": "code",
      "metadata": {
        "id": "wQ8HdnXyrXhf",
        "colab_type": "code",
        "colab": {}
      },
      "source": [
        "x=data_new[[\"TV\",\"radio\",\"newspaper\"]]\n",
        "y=data_new[\"sales\"]\n",
        "print(x.shape)\n",
        "print(y.shape)"
      ],
      "execution_count": 0,
      "outputs": []
    },
    {
      "cell_type": "code",
      "metadata": {
        "id": "ko68MRcwr5wi",
        "colab_type": "code",
        "colab": {}
      },
      "source": [
        "from sklearn.model_selection import train_test_split\n",
        "def split(x,y):\n",
        "  return train_test_split(x,y,test_size=0.20,random_state=1)"
      ],
      "execution_count": 0,
      "outputs": []
    },
    {
      "cell_type": "code",
      "metadata": {
        "id": "WyrEYtaCtTxr",
        "colab_type": "code",
        "colab": {}
      },
      "source": [
        "x_train,x_test,y_train,y_test=split(x,y)\n",
        "print(x_train.shape)\n",
        "print(x_test.shape)\n",
        "print(y_train.shape)\n",
        "print(y_test.shape)"
      ],
      "execution_count": 0,
      "outputs": []
    },
    {
      "cell_type": "code",
      "metadata": {
        "id": "8oPN0uB6t9LN",
        "colab_type": "code",
        "colab": {}
      },
      "source": [
        "from sklearn.linear_model import LinearRegression\n",
        "linreg1=LinearRegression(normalize=True)\n",
        "linreg1.fit(x_train,y_train)\n",
        "y_pred=linreg1.predict(x_test)"
      ],
      "execution_count": 0,
      "outputs": []
    },
    {
      "cell_type": "code",
      "metadata": {
        "id": "C7CmvaFhu2BR",
        "colab_type": "code",
        "colab": {}
      },
      "source": [
        "rmse=metrics.mean_squared_error(y_test,y_pred)\n",
        "print(rmse)"
      ],
      "execution_count": 0,
      "outputs": []
    },
    {
      "cell_type": "code",
      "metadata": {
        "id": "dbAGtvF4vAa2",
        "colab_type": "code",
        "colab": {}
      },
      "source": [
        "from sklearn.model_selection import GridSearchCV\n",
        "linreg2=LinearRegression()\n",
        "parameters={\"normalize\":[True,False],\"copy_X\":[True,False],\"fit_intercept\":[True,False]}\n",
        "linreg2=GridSearchCV(linreg2,parameters)\n",
        "linreg2.fit(x_train,y_train)"
      ],
      "execution_count": 0,
      "outputs": []
    },
    {
      "cell_type": "code",
      "metadata": {
        "id": "muGr57Csedom",
        "colab_type": "code",
        "colab": {}
      },
      "source": [
        "linreg2.best_score_"
      ],
      "execution_count": 0,
      "outputs": []
    },
    {
      "cell_type": "code",
      "metadata": {
        "id": "_J5oFhlCfMTE",
        "colab_type": "code",
        "colab": {}
      },
      "source": [
        "linreg2.best_estimator_"
      ],
      "execution_count": 0,
      "outputs": []
    },
    {
      "cell_type": "code",
      "metadata": {
        "id": "XOTQgEr_fQdF",
        "colab_type": "code",
        "colab": {}
      },
      "source": [
        "linreg2=LinearRegression(copy_X=True, fit_intercept=True, n_jobs=None, normalize=True)\n",
        "linreg2.fit(x_train,y_train)\n",
        "y_pred1=linreg2.predict(x_test)\n",
        "rmse=metrics.mean_squared_error(y_test,y_pred1)\n",
        "print(rmse)"
      ],
      "execution_count": 0,
      "outputs": []
    },
    {
      "cell_type": "code",
      "metadata": {
        "id": "mRq6fFcCgUOc",
        "colab_type": "code",
        "colab": {}
      },
      "source": [
        "excel_df=pd.read_excel('https://github.com/insaid2018/Term-1/blob/master/Data/Casestudy/supermarkets.xlsx?raw=true')\n",
        "print(excel_df.head())"
      ],
      "execution_count": 0,
      "outputs": []
    },
    {
      "cell_type": "code",
      "metadata": {
        "id": "sAaAycJw-54q",
        "colab_type": "code",
        "colab": {}
      },
      "source": [
        "excel_df=pd.read_excel('https://github.com/insaid2018/Term-1/blob/master/Data/Casestudy/supermarkets.xlsx?raw=true',sheet_name=0)\n",
        "excel_df.head()"
      ],
      "execution_count": 0,
      "outputs": []
    },
    {
      "cell_type": "code",
      "metadata": {
        "id": "MbBgQb5E_HpH",
        "colab_type": "code",
        "colab": {}
      },
      "source": [
        "txt_df=pd.read_csv(\"https://raw.githubusercontent.com/insaid2018/Term-1/master/Data/Casestudy/supermarkets-semi-colons.txt\")\n",
        "txt_df.head()"
      ],
      "execution_count": 0,
      "outputs": []
    },
    {
      "cell_type": "code",
      "metadata": {
        "id": "ApmagR4TCMeo",
        "colab_type": "code",
        "colab": {}
      },
      "source": [
        "txt_df=pd.read_csv(\"https://raw.githubusercontent.com/insaid2018/Term-1/master/Data/Casestudy/supermarkets-semi-colons.txt\",sep=\";\")\n",
        "txt_df.head()"
      ],
      "execution_count": 0,
      "outputs": []
    },
    {
      "cell_type": "code",
      "metadata": {
        "id": "AzPnQQu6DMYD",
        "colab_type": "code",
        "colab": {}
      },
      "source": [
        "import pandas as pd\n",
        "import seaborn as sns\n",
        "tips=sns.load_dataset(\"tips\")\n",
        "tips.head()"
      ],
      "execution_count": 0,
      "outputs": []
    },
    {
      "cell_type": "code",
      "metadata": {
        "id": "cSl81PKan_P7",
        "colab_type": "code",
        "colab": {}
      },
      "source": [
        "tips[\"time\"].unique()"
      ],
      "execution_count": 0,
      "outputs": []
    },
    {
      "cell_type": "code",
      "metadata": {
        "id": "JiaWIp0hoSTz",
        "colab_type": "code",
        "colab": {}
      },
      "source": [
        "tips[\"time\"].head()"
      ],
      "execution_count": 0,
      "outputs": []
    },
    {
      "cell_type": "code",
      "metadata": {
        "id": "lSTYaZQ0oo6o",
        "colab_type": "code",
        "colab": {}
      },
      "source": [
        "tips[(tips[\"time\"]==\"Dinner\")][\"tip\"].sum()"
      ],
      "execution_count": 0,
      "outputs": []
    },
    {
      "cell_type": "code",
      "metadata": {
        "id": "usThmWTosd1s",
        "colab_type": "code",
        "colab": {}
      },
      "source": [
        "tips[(tips[\"time\"]==\"Lunch\")][\"tip\"].sum()"
      ],
      "execution_count": 0,
      "outputs": []
    },
    {
      "cell_type": "code",
      "metadata": {
        "id": "ajLszJKqsxpw",
        "colab_type": "code",
        "colab": {}
      },
      "source": [
        "tips.groupby([\"time\",\"sex\",\"day\"])[\"tip\"].agg([\"sum\",\"mean\",\"count\"])"
      ],
      "execution_count": 0,
      "outputs": []
    },
    {
      "cell_type": "code",
      "metadata": {
        "id": "CaJ9pn0rtQfJ",
        "colab_type": "code",
        "colab": {}
      },
      "source": [
        "tips.head()"
      ],
      "execution_count": 0,
      "outputs": []
    },
    {
      "cell_type": "code",
      "metadata": {
        "id": "MjemEXwwtVIR",
        "colab_type": "code",
        "colab": {}
      },
      "source": [
        "tips.groupby(\"time\")"
      ],
      "execution_count": 0,
      "outputs": []
    },
    {
      "cell_type": "code",
      "metadata": {
        "id": "D3ZRI-qow-o7",
        "colab_type": "code",
        "colab": {}
      },
      "source": [
        "tips.head()"
      ],
      "execution_count": 0,
      "outputs": []
    },
    {
      "cell_type": "code",
      "metadata": {
        "id": "iOaXDm0yxGxD",
        "colab_type": "code",
        "colab": {}
      },
      "source": [
        "people = [['Rick',60, 'O+'], ['Morty', 10, 'O+'], ['Summer', 45,'A-'], ['Beth',18,'B+']]\n",
        "people_df = pd.DataFrame(people, columns=['Name','Score', 'Blood Group'])\n",
        "people_df"
      ],
      "execution_count": 0,
      "outputs": []
    },
    {
      "cell_type": "code",
      "metadata": {
        "id": "MrLCvmr-zQQN",
        "colab_type": "code",
        "colab": {}
      },
      "source": [
        "people_df[\"Score\"]"
      ],
      "execution_count": 0,
      "outputs": []
    },
    {
      "cell_type": "code",
      "metadata": {
        "id": "oxOjKL8TzU2K",
        "colab_type": "code",
        "colab": {}
      },
      "source": [
        "def double(x):\n",
        "  if x%6==0:\n",
        "    return x*2\n",
        "  else:\n",
        "    return x"
      ],
      "execution_count": 0,
      "outputs": []
    },
    {
      "cell_type": "code",
      "metadata": {
        "id": "JAiyp4fEzkZg",
        "colab_type": "code",
        "colab": {}
      },
      "source": [
        "people_df[\"Score\"].apply(double)"
      ],
      "execution_count": 0,
      "outputs": []
    },
    {
      "cell_type": "code",
      "metadata": {
        "id": "EfhcKPN8zt_l",
        "colab_type": "code",
        "colab": {}
      },
      "source": [
        "people_df[\"Score\"].apply(lambda x:x*2)"
      ],
      "execution_count": 0,
      "outputs": []
    },
    {
      "cell_type": "code",
      "metadata": {
        "id": "PWRJczir0F9B",
        "colab_type": "code",
        "colab": {}
      },
      "source": [
        "print(\"Intercept:\",linreg2.intercept_)\n",
        "print(\"coefficents:\",linreg2.coef_)"
      ],
      "execution_count": 0,
      "outputs": []
    },
    {
      "cell_type": "code",
      "metadata": {
        "id": "zTLHMS8ONyEg",
        "colab_type": "code",
        "colab": {}
      },
      "source": [
        "print(linreg.intercept_)\n",
        "print(linreg.coef_)"
      ],
      "execution_count": 0,
      "outputs": []
    },
    {
      "cell_type": "code",
      "metadata": {
        "id": "jVaR3jKkOApg",
        "colab_type": "code",
        "colab": {}
      },
      "source": [
        "import pandas as pd\n",
        "import numpy as np\n",
        "import seaborn as sns\n",
        "import matplotlib.pyplot as plt\n",
        "from seaborn import matrix\n",
        "%matplotlib inline\n"
      ],
      "execution_count": 0,
      "outputs": []
    },
    {
      "cell_type": "code",
      "metadata": {
        "id": "ka8hOhfeqcT5",
        "colab_type": "code",
        "colab": {}
      },
      "source": [
        "data=pd.read_csv(\"https://raw.githubusercontent.com/insaid2018/Term-2/master/CaseStudy/Advertising.csv\",index_col=0)"
      ],
      "execution_count": 0,
      "outputs": []
    },
    {
      "cell_type": "code",
      "metadata": {
        "id": "5dK4XMOxrTOt",
        "colab_type": "code",
        "colab": {}
      },
      "source": [
        "data.head()"
      ],
      "execution_count": 0,
      "outputs": []
    },
    {
      "cell_type": "code",
      "metadata": {
        "id": "Apx9FkH7rVXN",
        "colab_type": "code",
        "colab": {}
      },
      "source": [
        "print(sns.distplot(data[\"TV\"],color=\"g\"))\n"
      ],
      "execution_count": 0,
      "outputs": []
    },
    {
      "cell_type": "code",
      "metadata": {
        "id": "g9X9E6tjsjB5",
        "colab_type": "code",
        "colab": {}
      },
      "source": [
        "\n",
        "print(sns.distplot(data[\"sales\"]))"
      ],
      "execution_count": 0,
      "outputs": []
    },
    {
      "cell_type": "code",
      "metadata": {
        "id": "SoZge3vFtbtE",
        "colab_type": "code",
        "colab": {}
      },
      "source": [
        "print(data.shape)\n",
        "print(data.info())\n",
        "print(data.describe)"
      ],
      "execution_count": 0,
      "outputs": []
    },
    {
      "cell_type": "code",
      "metadata": {
        "id": "J7Nvzrr0uDTR",
        "colab_type": "code",
        "colab": {}
      },
      "source": [
        "f,axes=plt.subplots(2,2,figsize=(7,7),sharex=True)\n",
        "sns.despine(left=True)\n",
        "sns.distplot(data[\"TV\"],color=\"g\",ax=axes[0,0])\n",
        "sns.distplot(data[\"radio\"],color=\"b\",ax=axes[0,1])\n",
        "sns.distplot(data[\"newspaper\"],color=\"r\",ax=axes[1,0])\n",
        "sns.distplot(data[\"sales\"],ax=axes[1,1])"
      ],
      "execution_count": 0,
      "outputs": []
    },
    {
      "cell_type": "code",
      "metadata": {
        "id": "sMTKNNrQul-C",
        "colab_type": "code",
        "colab": {}
      },
      "source": [
        "print(sns.jointplot(\"TV\",\"sales\",data=data,kind=\"reg\"))\n",
        "print(sns.jointplot(\"radio\",\"sales\",data=data,kind=\"reg\"))\n",
        "print(sns.jointplot(\"newspaper\",\"sales\",data=data,kind=\"reg\"))"
      ],
      "execution_count": 0,
      "outputs": []
    },
    {
      "cell_type": "code",
      "metadata": {
        "id": "MbHxjcsexHvV",
        "colab_type": "code",
        "colab": {}
      },
      "source": [
        "sns.pairplot(data,size=2.5,aspect=1.5)"
      ],
      "execution_count": 0,
      "outputs": []
    },
    {
      "cell_type": "markdown",
      "metadata": {
        "id": "Ykf6KF75yn3T",
        "colab_type": "text"
      },
      "source": [
        ""
      ]
    },
    {
      "cell_type": "code",
      "metadata": {
        "id": "pEtoKVz-zhnY",
        "colab_type": "code",
        "colab": {}
      },
      "source": [
        "sns.pairplot(data=data,x_vars=[\"TV\",\"radio\",\"newspaper\"],y_vars=[\"sales\"],size=5,aspect=1.5,kind=\"reg\")"
      ],
      "execution_count": 0,
      "outputs": []
    },
    {
      "cell_type": "code",
      "metadata": {
        "id": "zraTziQQzvjf",
        "colab_type": "code",
        "colab": {}
      },
      "source": [
        "data.corr()"
      ],
      "execution_count": 0,
      "outputs": []
    },
    {
      "cell_type": "code",
      "metadata": {
        "id": "vFm-r7ZM0Hg0",
        "colab_type": "code",
        "colab": {}
      },
      "source": [
        "sns.heatmap(data.corr(),annot=True)"
      ],
      "execution_count": 0,
      "outputs": []
    },
    {
      "cell_type": "code",
      "metadata": {
        "id": "UiPxNyPj0MPO",
        "colab_type": "code",
        "colab": {}
      },
      "source": [
        "data.head()"
      ],
      "execution_count": 0,
      "outputs": []
    },
    {
      "cell_type": "code",
      "metadata": {
        "id": "HhaMpXsH77-i",
        "colab_type": "code",
        "colab": {}
      },
      "source": [
        "data.head()"
      ],
      "execution_count": 0,
      "outputs": []
    },
    {
      "cell_type": "code",
      "metadata": {
        "id": "GBVa3AWXNg6s",
        "colab_type": "code",
        "colab": {}
      },
      "source": [
        "import sklearn\n",
        "from sklearn.preprocessing import StandardScaler\n",
        "scalar=StandardScaler().fit(data)\n",
        "data1=scalar.transform(data)"
      ],
      "execution_count": 0,
      "outputs": []
    },
    {
      "cell_type": "code",
      "metadata": {
        "id": "GobllkMENmq9",
        "colab_type": "code",
        "colab": {}
      },
      "source": [
        "data=pd.DataFrame(data1)\n",
        "data.head()"
      ],
      "execution_count": 0,
      "outputs": []
    },
    {
      "cell_type": "code",
      "metadata": {
        "id": "YiVUh8GgPy2b",
        "colab_type": "code",
        "colab": {}
      },
      "source": [
        "data.columns=[\"TV\",\"radio\",\"newspaper\",\"sales\"]\n",
        "data.head()"
      ],
      "execution_count": 0,
      "outputs": []
    },
    {
      "cell_type": "code",
      "metadata": {
        "id": "aH2j-ga1QhFa",
        "colab_type": "code",
        "colab": {}
      },
      "source": [
        "x=data[[\"TV\",\"radio\",\"sales\"]]\n",
        "x.head()"
      ],
      "execution_count": 0,
      "outputs": []
    },
    {
      "cell_type": "code",
      "metadata": {
        "id": "yHH9gD6mRUtX",
        "colab_type": "code",
        "colab": {}
      },
      "source": [
        "y=data[\"sales\"]\n",
        "y.head()"
      ],
      "execution_count": 0,
      "outputs": []
    },
    {
      "cell_type": "code",
      "metadata": {
        "id": "XBcXvM2iRZRv",
        "colab_type": "code",
        "colab": {}
      },
      "source": [
        "print(type(x))\n",
        "print(type(y))\n",
        "print(x.shape)\n",
        "print(y.shape)"
      ],
      "execution_count": 0,
      "outputs": []
    },
    {
      "cell_type": "code",
      "metadata": {
        "id": "jdSJWf6bRluB",
        "colab_type": "code",
        "colab": {}
      },
      "source": [
        "from sklearn.model_selection import  train_test_split\n",
        "def split(x,y):\n",
        "  return train_test_split(x,y,test_size=0.20,random_state=1)"
      ],
      "execution_count": 0,
      "outputs": []
    },
    {
      "cell_type": "code",
      "metadata": {
        "id": "_dnzEfYgSFOX",
        "colab_type": "code",
        "colab": {}
      },
      "source": [
        "x_train,x_test,y_train,y_test=split(x,y)"
      ],
      "execution_count": 0,
      "outputs": []
    },
    {
      "cell_type": "code",
      "metadata": {
        "id": "UiDjtNnfSvMf",
        "colab_type": "code",
        "colab": {}
      },
      "source": [
        "print(x_train.head())\n",
        "print(y_train.head())\n",
        "print(x_train.shape)\n",
        "print(x_test.shape)"
      ],
      "execution_count": 0,
      "outputs": []
    },
    {
      "cell_type": "code",
      "metadata": {
        "id": "3ZeQ0c86S1kY",
        "colab_type": "code",
        "colab": {}
      },
      "source": [
        "from sklearn import metrics\n",
        "from sklearn.linear_model import LinearRegression\n",
        "linreg=LinearRegression()\n",
        "linreg.fit(x_train,y_train)\n",
        "y_pred=linreg.predict(x_test)\n",
        "RMSE=metrics.mean_squared_error(y_test,y_pred)\n",
        "print(RMSE)\n"
      ],
      "execution_count": 0,
      "outputs": []
    },
    {
      "cell_type": "code",
      "metadata": {
        "id": "qbAovJvGT3Ky",
        "colab_type": "code",
        "colab": {}
      },
      "source": [
        "data.head()"
      ],
      "execution_count": 0,
      "outputs": []
    },
    {
      "cell_type": "code",
      "metadata": {
        "id": "LLx1NjgLUp1t",
        "colab_type": "code",
        "colab": {}
      },
      "source": [
        "x_train.to_csv(\"datasump_xtrain.csv\")\n",
        "y_train.to_csv(\"datasump_ytrain.csv\")"
      ],
      "execution_count": 0,
      "outputs": []
    },
    {
      "cell_type": "code",
      "metadata": {
        "id": "L2JWWwGfVizE",
        "colab_type": "code",
        "colab": {}
      },
      "source": [
        "x_train=pd.read_csv(\"datasump_xtrain.csv\")\n",
        "x_train.head()"
      ],
      "execution_count": 0,
      "outputs": []
    },
    {
      "cell_type": "code",
      "metadata": {
        "id": "k5neRUYLWRJi",
        "colab_type": "code",
        "colab": {}
      },
      "source": [
        "data=pd.read_csv(\"https://raw.githubusercontent.com/insaid2018/Term-2/master/CaseStudy/Advertising.csv\",index_col=0)\n",
        "data.head()"
      ],
      "execution_count": 0,
      "outputs": []
    },
    {
      "cell_type": "code",
      "metadata": {
        "id": "D3vJ8EqeWyyQ",
        "colab_type": "code",
        "colab": {}
      },
      "source": [
        "x=data[[\"TV\",\"radio\",\"newspaper\"]]\n",
        "y=data[\"sales\"]\n",
        "x.head"
      ],
      "execution_count": 0,
      "outputs": []
    },
    {
      "cell_type": "code",
      "metadata": {
        "id": "_gu7PT2uW_1o",
        "colab_type": "code",
        "colab": {}
      },
      "source": [
        "from sklearn.model_selection import  train_test_split\n",
        "def split(x,y):\n",
        "  return train_test_split(x,y,test_size=0.20,random_state=1)"
      ],
      "execution_count": 0,
      "outputs": []
    },
    {
      "cell_type": "code",
      "metadata": {
        "id": "0TVAWRrwXU72",
        "colab_type": "code",
        "colab": {}
      },
      "source": [
        "x_train,x_test,y_train,y_test=split(x,y)\n",
        "from sklearn.linear_model import LinearRegression\n",
        "linreg=LinearRegression()\n",
        "linreg.fit(x_train,y_train)\n",
        "y_pred=linreg.predict(x_test)\n",
        "RMSE=metrics.mean_squared_error(y_test,y_pred)\n",
        "print(RMSE)"
      ],
      "execution_count": 0,
      "outputs": []
    },
    {
      "cell_type": "code",
      "metadata": {
        "id": "MSMNJN3GX6WR",
        "colab_type": "code",
        "colab": {}
      },
      "source": [
        "data.head()"
      ],
      "execution_count": 0,
      "outputs": []
    },
    {
      "cell_type": "code",
      "metadata": {
        "id": "28hhCGqxbLm-",
        "colab_type": "code",
        "colab": {}
      },
      "source": [
        "from sklearn.linear_model import LinearRegression\n",
        "linreg=LinearRegression(normalize=True)\n",
        "linreg.fit(x_train,y_train)\n",
        "y_pred=linreg.predict(x_test)\n",
        "rmse=metrics.mean_squared_error(y_test,y_pred)\n",
        "print(rmse)"
      ],
      "execution_count": 0,
      "outputs": []
    },
    {
      "cell_type": "code",
      "metadata": {
        "id": "B1Ux1roYbhXC",
        "colab_type": "code",
        "colab": {}
      },
      "source": [
        "data=pd.read_csv(\"https://raw.githubusercontent.com/insaid2018/Term-2/master/CaseStudy/Advertising.csv\",index_col=0)\n",
        "data.head()"
      ],
      "execution_count": 0,
      "outputs": []
    },
    {
      "cell_type": "code",
      "metadata": {
        "id": "cWPQI9QHcKkl",
        "colab_type": "code",
        "colab": {}
      },
      "source": [
        "import sklearn"
      ],
      "execution_count": 0,
      "outputs": []
    },
    {
      "cell_type": "code",
      "metadata": {
        "id": "8s5jO-3JcVsJ",
        "colab_type": "code",
        "colab": {
          "base_uri": "https://localhost:8080/",
          "height": 204
        },
        "outputId": "78e92ff3-d81c-495f-e7e4-18a4220cca00"
      },
      "source": [
        "from sklearn.preprocessing import StandardScaler\n",
        "scaler=StandardScaler().fit(data)\n",
        "data1=scaler.transform(data)\n",
        "data2=pd.DataFrame(data1)\n",
        "data2.head()"
      ],
      "execution_count": 57,
      "outputs": [
        {
          "output_type": "execute_result",
          "data": {
            "text/html": [
              "<div>\n",
              "<style scoped>\n",
              "    .dataframe tbody tr th:only-of-type {\n",
              "        vertical-align: middle;\n",
              "    }\n",
              "\n",
              "    .dataframe tbody tr th {\n",
              "        vertical-align: top;\n",
              "    }\n",
              "\n",
              "    .dataframe thead th {\n",
              "        text-align: right;\n",
              "    }\n",
              "</style>\n",
              "<table border=\"1\" class=\"dataframe\">\n",
              "  <thead>\n",
              "    <tr style=\"text-align: right;\">\n",
              "      <th></th>\n",
              "      <th>0</th>\n",
              "      <th>1</th>\n",
              "      <th>2</th>\n",
              "      <th>3</th>\n",
              "    </tr>\n",
              "  </thead>\n",
              "  <tbody>\n",
              "    <tr>\n",
              "      <th>0</th>\n",
              "      <td>0.969852</td>\n",
              "      <td>0.981522</td>\n",
              "      <td>1.778945</td>\n",
              "      <td>1.552053</td>\n",
              "    </tr>\n",
              "    <tr>\n",
              "      <th>1</th>\n",
              "      <td>-1.197376</td>\n",
              "      <td>1.082808</td>\n",
              "      <td>0.669579</td>\n",
              "      <td>-0.696046</td>\n",
              "    </tr>\n",
              "    <tr>\n",
              "      <th>2</th>\n",
              "      <td>-1.516155</td>\n",
              "      <td>1.528463</td>\n",
              "      <td>1.783549</td>\n",
              "      <td>-0.907406</td>\n",
              "    </tr>\n",
              "    <tr>\n",
              "      <th>3</th>\n",
              "      <td>0.052050</td>\n",
              "      <td>1.217855</td>\n",
              "      <td>1.286405</td>\n",
              "      <td>0.860330</td>\n",
              "    </tr>\n",
              "    <tr>\n",
              "      <th>4</th>\n",
              "      <td>0.394182</td>\n",
              "      <td>-0.841614</td>\n",
              "      <td>1.281802</td>\n",
              "      <td>-0.215683</td>\n",
              "    </tr>\n",
              "  </tbody>\n",
              "</table>\n",
              "</div>"
            ],
            "text/plain": [
              "          0         1         2         3\n",
              "0  0.969852  0.981522  1.778945  1.552053\n",
              "1 -1.197376  1.082808  0.669579 -0.696046\n",
              "2 -1.516155  1.528463  1.783549 -0.907406\n",
              "3  0.052050  1.217855  1.286405  0.860330\n",
              "4  0.394182 -0.841614  1.281802 -0.215683"
            ]
          },
          "metadata": {
            "tags": []
          },
          "execution_count": 57
        }
      ]
    },
    {
      "cell_type": "code",
      "metadata": {
        "id": "1cuLV1Vec7cD",
        "colab_type": "code",
        "colab": {
          "base_uri": "https://localhost:8080/",
          "height": 204
        },
        "outputId": "a851156d-e778-4ec1-a106-0d52855493d3"
      },
      "source": [
        "data2.columns=[\"TV\",\"radio\",\"newspaper\",\"sales\"]\n",
        "data2.head()"
      ],
      "execution_count": 58,
      "outputs": [
        {
          "output_type": "execute_result",
          "data": {
            "text/html": [
              "<div>\n",
              "<style scoped>\n",
              "    .dataframe tbody tr th:only-of-type {\n",
              "        vertical-align: middle;\n",
              "    }\n",
              "\n",
              "    .dataframe tbody tr th {\n",
              "        vertical-align: top;\n",
              "    }\n",
              "\n",
              "    .dataframe thead th {\n",
              "        text-align: right;\n",
              "    }\n",
              "</style>\n",
              "<table border=\"1\" class=\"dataframe\">\n",
              "  <thead>\n",
              "    <tr style=\"text-align: right;\">\n",
              "      <th></th>\n",
              "      <th>TV</th>\n",
              "      <th>radio</th>\n",
              "      <th>newspaper</th>\n",
              "      <th>sales</th>\n",
              "    </tr>\n",
              "  </thead>\n",
              "  <tbody>\n",
              "    <tr>\n",
              "      <th>0</th>\n",
              "      <td>0.969852</td>\n",
              "      <td>0.981522</td>\n",
              "      <td>1.778945</td>\n",
              "      <td>1.552053</td>\n",
              "    </tr>\n",
              "    <tr>\n",
              "      <th>1</th>\n",
              "      <td>-1.197376</td>\n",
              "      <td>1.082808</td>\n",
              "      <td>0.669579</td>\n",
              "      <td>-0.696046</td>\n",
              "    </tr>\n",
              "    <tr>\n",
              "      <th>2</th>\n",
              "      <td>-1.516155</td>\n",
              "      <td>1.528463</td>\n",
              "      <td>1.783549</td>\n",
              "      <td>-0.907406</td>\n",
              "    </tr>\n",
              "    <tr>\n",
              "      <th>3</th>\n",
              "      <td>0.052050</td>\n",
              "      <td>1.217855</td>\n",
              "      <td>1.286405</td>\n",
              "      <td>0.860330</td>\n",
              "    </tr>\n",
              "    <tr>\n",
              "      <th>4</th>\n",
              "      <td>0.394182</td>\n",
              "      <td>-0.841614</td>\n",
              "      <td>1.281802</td>\n",
              "      <td>-0.215683</td>\n",
              "    </tr>\n",
              "  </tbody>\n",
              "</table>\n",
              "</div>"
            ],
            "text/plain": [
              "         TV     radio  newspaper     sales\n",
              "0  0.969852  0.981522   1.778945  1.552053\n",
              "1 -1.197376  1.082808   0.669579 -0.696046\n",
              "2 -1.516155  1.528463   1.783549 -0.907406\n",
              "3  0.052050  1.217855   1.286405  0.860330\n",
              "4  0.394182 -0.841614   1.281802 -0.215683"
            ]
          },
          "metadata": {
            "tags": []
          },
          "execution_count": 58
        }
      ]
    },
    {
      "cell_type": "code",
      "metadata": {
        "id": "h8sdk5nBda9p",
        "colab_type": "code",
        "colab": {}
      },
      "source": [
        "X=data2[[\"TV\",\"radio\",\"newspaper\"]]\n",
        "Y=data2[\"sales\"]"
      ],
      "execution_count": 0,
      "outputs": []
    },
    {
      "cell_type": "code",
      "metadata": {
        "id": "00n7mjb1dvtt",
        "colab_type": "code",
        "colab": {}
      },
      "source": [
        "from sklearn.model_selection import train_test_split\n",
        "def split(X,Y):\n",
        "  return train_test_split(X,Y,test_size=0.20,random_state=1)"
      ],
      "execution_count": 0,
      "outputs": []
    },
    {
      "cell_type": "code",
      "metadata": {
        "id": "-gGk3Qhod-lK",
        "colab_type": "code",
        "colab": {}
      },
      "source": [
        "X_train,X_test,Y_train,Y_test=split(X,Y)"
      ],
      "execution_count": 0,
      "outputs": []
    },
    {
      "cell_type": "code",
      "metadata": {
        "id": "98knLc63eIzW",
        "colab_type": "code",
        "colab": {
          "base_uri": "https://localhost:8080/",
          "height": 34
        },
        "outputId": "7ed4769c-76bb-4cd2-dc05-8e9fa964fe08"
      },
      "source": [
        "from sklearn.linear_model import LinearRegression\n",
        "linreg1=LinearRegression()\n",
        "linreg1.fit(X_train,Y_train)\n",
        "Y_pred=linreg1.predict(X_test)\n",
        "RMSE=metrics.mean_squared_error(Y_test,Y_pred)\n",
        "print(RMSE.round(4))"
      ],
      "execution_count": 64,
      "outputs": [
        {
          "output_type": "stream",
          "text": [
            "0.0735\n"
          ],
          "name": "stdout"
        }
      ]
    },
    {
      "cell_type": "code",
      "metadata": {
        "id": "qS0qQLbnewUc",
        "colab_type": "code",
        "colab": {}
      },
      "source": [
        "from sklearn.model_selection import GridSearchCV\n",
        "parameters = {'normalize':[True,False], 'copy_X':[True, False], 'fit_intercept':[True,False]}\n",
        "linreg=LinearRegression()\n",
        "linreg=GridSearchCV(linreg,parameters)"
      ],
      "execution_count": 0,
      "outputs": []
    },
    {
      "cell_type": "code",
      "metadata": {
        "id": "sIYTrXPJjN83",
        "colab_type": "code",
        "colab": {
          "base_uri": "https://localhost:8080/",
          "height": 170
        },
        "outputId": "728a71c2-2193-4cf4-87dd-00bf0a390d5e"
      },
      "source": [
        "linreg"
      ],
      "execution_count": 66,
      "outputs": [
        {
          "output_type": "execute_result",
          "data": {
            "text/plain": [
              "GridSearchCV(cv='warn', error_score='raise-deprecating',\n",
              "             estimator=LinearRegression(copy_X=True, fit_intercept=True,\n",
              "                                        n_jobs=None, normalize=False),\n",
              "             iid='warn', n_jobs=None,\n",
              "             param_grid={'copy_X': [True, False],\n",
              "                         'fit_intercept': [True, False],\n",
              "                         'normalize': [True, False]},\n",
              "             pre_dispatch='2*n_jobs', refit=True, return_train_score=False,\n",
              "             scoring=None, verbose=0)"
            ]
          },
          "metadata": {
            "tags": []
          },
          "execution_count": 66
        }
      ]
    },
    {
      "cell_type": "code",
      "metadata": {
        "id": "77-gcBCfjP2w",
        "colab_type": "code",
        "colab": {
          "base_uri": "https://localhost:8080/",
          "height": 34
        },
        "outputId": "e939a8c8-03f3-4782-a777-032f9d36509e"
      },
      "source": [
        "linreg.estimator"
      ],
      "execution_count": 67,
      "outputs": [
        {
          "output_type": "execute_result",
          "data": {
            "text/plain": [
              "LinearRegression(copy_X=True, fit_intercept=True, n_jobs=None, normalize=False)"
            ]
          },
          "metadata": {
            "tags": []
          },
          "execution_count": 67
        }
      ]
    },
    {
      "cell_type": "code",
      "metadata": {
        "id": "K9IjlZafmpDd",
        "colab_type": "code",
        "colab": {
          "base_uri": "https://localhost:8080/",
          "height": 170
        },
        "outputId": "2cfe1b22-2d96-45a1-f1ca-b6dc70ef34d0"
      },
      "source": [
        "linreg.score"
      ],
      "execution_count": 68,
      "outputs": [
        {
          "output_type": "execute_result",
          "data": {
            "text/plain": [
              "<bound method BaseSearchCV.score of GridSearchCV(cv='warn', error_score='raise-deprecating',\n",
              "             estimator=LinearRegression(copy_X=True, fit_intercept=True,\n",
              "                                        n_jobs=None, normalize=False),\n",
              "             iid='warn', n_jobs=None,\n",
              "             param_grid={'copy_X': [True, False],\n",
              "                         'fit_intercept': [True, False],\n",
              "                         'normalize': [True, False]},\n",
              "             pre_dispatch='2*n_jobs', refit=True, return_train_score=False,\n",
              "             scoring=None, verbose=0)>"
            ]
          },
          "metadata": {
            "tags": []
          },
          "execution_count": 68
        }
      ]
    },
    {
      "cell_type": "code",
      "metadata": {
        "id": "36LihE70m8In",
        "colab_type": "code",
        "colab": {
          "base_uri": "https://localhost:8080/",
          "height": 163
        },
        "outputId": "216595c9-2567-4518-cbd1-09d623921fa0"
      },
      "source": [
        "linreg.best_score_"
      ],
      "execution_count": 69,
      "outputs": [
        {
          "output_type": "error",
          "ename": "AttributeError",
          "evalue": "ignored",
          "traceback": [
            "\u001b[0;31m---------------------------------------------------------------------------\u001b[0m",
            "\u001b[0;31mAttributeError\u001b[0m                            Traceback (most recent call last)",
            "\u001b[0;32m<ipython-input-69-83ba6be3b4d3>\u001b[0m in \u001b[0;36m<module>\u001b[0;34m()\u001b[0m\n\u001b[0;32m----> 1\u001b[0;31m \u001b[0mlinreg\u001b[0m\u001b[0;34m.\u001b[0m\u001b[0mbest_score_\u001b[0m\u001b[0;34m\u001b[0m\u001b[0;34m\u001b[0m\u001b[0m\n\u001b[0m",
            "\u001b[0;31mAttributeError\u001b[0m: 'GridSearchCV' object has no attribute 'best_score_'"
          ]
        }
      ]
    },
    {
      "cell_type": "code",
      "metadata": {
        "id": "kd35kVRCnDwd",
        "colab_type": "code",
        "colab": {
          "base_uri": "https://localhost:8080/",
          "height": 34
        },
        "outputId": "77e8826e-d813-49d9-e14d-8a9963b562ff"
      },
      "source": [
        "linreg.estimator"
      ],
      "execution_count": 70,
      "outputs": [
        {
          "output_type": "execute_result",
          "data": {
            "text/plain": [
              "LinearRegression(copy_X=True, fit_intercept=True, n_jobs=None, normalize=False)"
            ]
          },
          "metadata": {
            "tags": []
          },
          "execution_count": 70
        }
      ]
    },
    {
      "cell_type": "code",
      "metadata": {
        "id": "XXAlwtF8nXET",
        "colab_type": "code",
        "colab": {
          "base_uri": "https://localhost:8080/",
          "height": 34
        },
        "outputId": "9be9a7fa-21f5-4809-aeb5-a1f9b195fff2"
      },
      "source": [
        "linreg=LinearRegression(copy_X=True, fit_intercept=True, n_jobs=None, normalize=False)\n",
        "linreg.fit(X_train,Y_train)\n",
        "Y_Pred=linreg.predict(X_test)\n",
        "RMSE=metrics.mean_squared_error(Y_test,Y_pred)\n",
        "print(RMSE)\n"
      ],
      "execution_count": 71,
      "outputs": [
        {
          "output_type": "stream",
          "text": [
            "0.07353999839228295\n"
          ],
          "name": "stdout"
        }
      ]
    },
    {
      "cell_type": "code",
      "metadata": {
        "id": "sIdwZBfLoESn",
        "colab_type": "code",
        "colab": {
          "base_uri": "https://localhost:8080/",
          "height": 34
        },
        "outputId": "c9907602-55ee-4441-db7e-7c6f1a9b9a12"
      },
      "source": [
        "linreg.coef_"
      ],
      "execution_count": 72,
      "outputs": [
        {
          "output_type": "execute_result",
          "data": {
            "text/plain": [
              "array([0.77081214, 0.50806629, 0.01079522])"
            ]
          },
          "metadata": {
            "tags": []
          },
          "execution_count": 72
        }
      ]
    },
    {
      "cell_type": "code",
      "metadata": {
        "id": "0mbsY-oepOyG",
        "colab_type": "code",
        "colab": {
          "base_uri": "https://localhost:8080/",
          "height": 34
        },
        "outputId": "af888bdd-09a4-401b-b07c-3f300b5bf2c5"
      },
      "source": [
        "linreg.intercept_"
      ],
      "execution_count": 73,
      "outputs": [
        {
          "output_type": "execute_result",
          "data": {
            "text/plain": [
              "0.0011620874606385126"
            ]
          },
          "metadata": {
            "tags": []
          },
          "execution_count": 73
        }
      ]
    },
    {
      "cell_type": "code",
      "metadata": {
        "id": "wL-8aV3CpS6Q",
        "colab_type": "code",
        "colab": {}
      },
      "source": [
        "X"
      ],
      "execution_count": 0,
      "outputs": []
    },
    {
      "cell_type": "code",
      "metadata": {
        "id": "8eyK7ZzVpf7q",
        "colab_type": "code",
        "colab": {
          "base_uri": "https://localhost:8080/",
          "height": 163
        },
        "outputId": "7b5521a7-782d-4439-a155-c654929e1eaf"
      },
      "source": [
        "X.insert(0,\"Intercept\")"
      ],
      "execution_count": 74,
      "outputs": [
        {
          "output_type": "error",
          "ename": "TypeError",
          "evalue": "ignored",
          "traceback": [
            "\u001b[0;31m---------------------------------------------------------------------------\u001b[0m",
            "\u001b[0;31mTypeError\u001b[0m                                 Traceback (most recent call last)",
            "\u001b[0;32m<ipython-input-74-01fc996c48c4>\u001b[0m in \u001b[0;36m<module>\u001b[0;34m()\u001b[0m\n\u001b[0;32m----> 1\u001b[0;31m \u001b[0mX\u001b[0m\u001b[0;34m.\u001b[0m\u001b[0minsert\u001b[0m\u001b[0;34m(\u001b[0m\u001b[0;36m0\u001b[0m\u001b[0;34m,\u001b[0m\u001b[0;34m\"Intercept\"\u001b[0m\u001b[0;34m)\u001b[0m\u001b[0;34m\u001b[0m\u001b[0;34m\u001b[0m\u001b[0m\n\u001b[0m",
            "\u001b[0;31mTypeError\u001b[0m: insert() missing 1 required positional argument: 'value'"
          ]
        }
      ]
    },
    {
      "cell_type": "code",
      "metadata": {
        "id": "r5P7Fg_tqbeb",
        "colab_type": "code",
        "colab": {}
      },
      "source": [
        "feat_col=[\"TV\",\"radio\",\"newspaper\"]"
      ],
      "execution_count": 0,
      "outputs": []
    },
    {
      "cell_type": "code",
      "metadata": {
        "id": "Pfgaty2grueN",
        "colab_type": "code",
        "colab": {
          "base_uri": "https://localhost:8080/",
          "height": 34
        },
        "outputId": "313bbfbc-d897-485f-a068-6f173c8aa6d4"
      },
      "source": [
        "feat_col"
      ],
      "execution_count": 76,
      "outputs": [
        {
          "output_type": "execute_result",
          "data": {
            "text/plain": [
              "['TV', 'radio', 'newspaper']"
            ]
          },
          "metadata": {
            "tags": []
          },
          "execution_count": 76
        }
      ]
    },
    {
      "cell_type": "code",
      "metadata": {
        "id": "IwhWFQfZrxlY",
        "colab_type": "code",
        "colab": {}
      },
      "source": [
        "feat_col.insert(0,\"Intercept\")"
      ],
      "execution_count": 0,
      "outputs": []
    },
    {
      "cell_type": "code",
      "metadata": {
        "id": "FMcBVwQHr9uN",
        "colab_type": "code",
        "colab": {
          "base_uri": "https://localhost:8080/",
          "height": 34
        },
        "outputId": "f196909c-8e31-4337-8fe9-3305822860af"
      },
      "source": [
        "feat_col"
      ],
      "execution_count": 78,
      "outputs": [
        {
          "output_type": "execute_result",
          "data": {
            "text/plain": [
              "['Intercept', 'TV', 'radio', 'newspaper']"
            ]
          },
          "metadata": {
            "tags": []
          },
          "execution_count": 78
        }
      ]
    },
    {
      "cell_type": "code",
      "metadata": {
        "id": "9sxZmtJfr_di",
        "colab_type": "code",
        "colab": {}
      },
      "source": [
        "coef=linreg.coef_.tolist()\n",
        "coef.insert(0,linreg.intercept_)"
      ],
      "execution_count": 0,
      "outputs": []
    },
    {
      "cell_type": "code",
      "metadata": {
        "id": "6RA6AG3osz_f",
        "colab_type": "code",
        "colab": {
          "base_uri": "https://localhost:8080/",
          "height": 85
        },
        "outputId": "1c737360-6603-45f8-b1da-8e51309e15aa"
      },
      "source": [
        "coef"
      ],
      "execution_count": 80,
      "outputs": [
        {
          "output_type": "execute_result",
          "data": {
            "text/plain": [
              "[0.0011620874606385126,\n",
              " 0.7708121379125106,\n",
              " 0.5080662902756101,\n",
              " 0.010795215187608953]"
            ]
          },
          "metadata": {
            "tags": []
          },
          "execution_count": 80
        }
      ]
    },
    {
      "cell_type": "code",
      "metadata": {
        "id": "bzu3lGP8s9DJ",
        "colab_type": "code",
        "colab": {
          "base_uri": "https://localhost:8080/",
          "height": 85
        },
        "outputId": "c7341c36-39ba-4250-fc85-46fc0efcc8a8"
      },
      "source": [
        "eq1=zip(feat_col,coef)\n",
        "for c1,c2 in eq1:\n",
        "  print(c1,c2)"
      ],
      "execution_count": 81,
      "outputs": [
        {
          "output_type": "stream",
          "text": [
            "Intercept 0.0011620874606385126\n",
            "TV 0.7708121379125106\n",
            "radio 0.5080662902756101\n",
            "newspaper 0.010795215187608953\n"
          ],
          "name": "stdout"
        }
      ]
    },
    {
      "cell_type": "code",
      "metadata": {
        "id": "iLTyDAm2whzW",
        "colab_type": "code",
        "colab": {
          "base_uri": "https://localhost:8080/",
          "height": 34
        },
        "outputId": "c63f6879-9bf3-4939-fc64-f0e578b56dd8"
      },
      "source": [
        "feat_col=[\"TV\",\"radio\",\"newspaper\"]\n",
        "feat_col"
      ],
      "execution_count": 82,
      "outputs": [
        {
          "output_type": "execute_result",
          "data": {
            "text/plain": [
              "['TV', 'radio', 'newspaper']"
            ]
          },
          "metadata": {
            "tags": []
          },
          "execution_count": 82
        }
      ]
    },
    {
      "cell_type": "code",
      "metadata": {
        "id": "K2Gr3_NCxAvu",
        "colab_type": "code",
        "colab": {}
      },
      "source": [
        "feat_col.insert(0,\"Intercept\")\n",
        "coef=linreg.coef_.tolist()\n",
        "coef.insert(0,linreg.intercept_)"
      ],
      "execution_count": 0,
      "outputs": []
    },
    {
      "cell_type": "code",
      "metadata": {
        "id": "ygePiAu7x0I3",
        "colab_type": "code",
        "colab": {
          "base_uri": "https://localhost:8080/",
          "height": 85
        },
        "outputId": "8b4182f3-f7af-4ffe-9135-e9fc33171362"
      },
      "source": [
        "for (c1,c2) in zip(feat_col,coef):\n",
        "  print(c1,c2)"
      ],
      "execution_count": 84,
      "outputs": [
        {
          "output_type": "stream",
          "text": [
            "Intercept 0.0011620874606385126\n",
            "TV 0.7708121379125106\n",
            "radio 0.5080662902756101\n",
            "newspaper 0.010795215187608953\n"
          ],
          "name": "stdout"
        }
      ]
    },
    {
      "cell_type": "code",
      "metadata": {
        "id": "S41XHKCByHpN",
        "colab_type": "code",
        "colab": {}
      },
      "source": [
        "Y_train_pred=linreg.predict(X_train)\n",
        "Y_test_pred=linreg.predict(X_test)"
      ],
      "execution_count": 0,
      "outputs": []
    },
    {
      "cell_type": "code",
      "metadata": {
        "id": "AsrAXmWWXRO_",
        "colab_type": "code",
        "colab": {}
      },
      "source": [
        ""
      ],
      "execution_count": 0,
      "outputs": []
    },
    {
      "cell_type": "markdown",
      "metadata": {
        "id": "WzQxp47QXUla",
        "colab_type": "text"
      },
      "source": [
        "MAE,MSE,RMSE.."
      ]
    },
    {
      "cell_type": "code",
      "metadata": {
        "id": "E0t6xuw3X4Wi",
        "colab_type": "code",
        "colab": {
          "base_uri": "https://localhost:8080/",
          "height": 51
        },
        "outputId": "ea353353-2ba6-41aa-ea99-3d4ef6d74cb6"
      },
      "source": [
        "MAE_Train=metrics.mean_absolute_error(Y_train,Y_train_pred)\n",
        "MAE_test=metrics.mean_absolute_error(Y_test,Y_test_pred)\n",
        "print(MAE_Train)\n",
        "print(MAE_test)"
      ],
      "execution_count": 86,
      "outputs": [
        {
          "output_type": "stream",
          "text": [
            "0.2553322418777194\n",
            "0.19987243199696367\n"
          ],
          "name": "stdout"
        }
      ]
    },
    {
      "cell_type": "code",
      "metadata": {
        "id": "Hmxfj877Ym1Y",
        "colab_type": "code",
        "colab": {
          "base_uri": "https://localhost:8080/",
          "height": 51
        },
        "outputId": "349ce7f8-21b0-4c73-ecc2-ac321f66acfa"
      },
      "source": [
        "MSE_Train=metrics.mean_squared_error(Y_train,Y_train_pred)\n",
        "MSE_Test=metrics.mean_squared_error(Y_test,Y_test_pred)\n",
        "print(MSE_Train)\n",
        "print(MSE_Test)"
      ],
      "execution_count": 87,
      "outputs": [
        {
          "output_type": "stream",
          "text": [
            "0.11138075570325356\n",
            "0.07353999839228295\n"
          ],
          "name": "stdout"
        }
      ]
    },
    {
      "cell_type": "code",
      "metadata": {
        "id": "eubmLnDoZmRk",
        "colab_type": "code",
        "colab": {
          "base_uri": "https://localhost:8080/",
          "height": 51
        },
        "outputId": "381f472a-503f-45a1-c3be-933e6366f4af"
      },
      "source": [
        "RMSE_Train=np.sqrt(metrics.mean_squared_error(Y_train,Y_train_pred))\n",
        "RMSE_Test=np.sqrt(metrics.mean_squared_error(Y_test,Y_test_pred))\n",
        "print(RMSE_Train)\n",
        "print(RMSE_Test)"
      ],
      "execution_count": 88,
      "outputs": [
        {
          "output_type": "stream",
          "text": [
            "0.33373755512865727\n",
            "0.27118259234744946\n"
          ],
          "name": "stdout"
        }
      ]
    },
    {
      "cell_type": "code",
      "metadata": {
        "id": "wq7kXQ9HaKvY",
        "colab_type": "code",
        "colab": {}
      },
      "source": [
        "x=data[[\"TV\",\"radio\"]]\n",
        "y=data[\"sales\"]\n",
        "x_train,x_test,y_train,y_test=split(x,y)"
      ],
      "execution_count": 0,
      "outputs": []
    },
    {
      "cell_type": "code",
      "metadata": {
        "id": "0y5yacR8Dom6",
        "colab_type": "code",
        "colab": {
          "base_uri": "https://localhost:8080/",
          "height": 34
        },
        "outputId": "a3a653a4-5f3f-4015-e563-97e5ac74255d"
      },
      "source": [
        "linreg.fit(x_train,y_train)"
      ],
      "execution_count": 90,
      "outputs": [
        {
          "output_type": "execute_result",
          "data": {
            "text/plain": [
              "LinearRegression(copy_X=True, fit_intercept=True, n_jobs=None, normalize=False)"
            ]
          },
          "metadata": {
            "tags": []
          },
          "execution_count": 90
        }
      ]
    },
    {
      "cell_type": "code",
      "metadata": {
        "id": "hWlu2CKkD4W1",
        "colab_type": "code",
        "colab": {}
      },
      "source": [
        "y_pred_test=linreg.predict(x_test)"
      ],
      "execution_count": 0,
      "outputs": []
    },
    {
      "cell_type": "code",
      "metadata": {
        "id": "uONXtfWoEEpE",
        "colab_type": "code",
        "colab": {
          "base_uri": "https://localhost:8080/",
          "height": 34
        },
        "outputId": "a5aa4681-0b42-4788-a0a4-4bd71d0cfede"
      },
      "source": [
        "rmse=metrics.mean_squared_error(y_test,y_pred_test)\n",
        "print(rmse)"
      ],
      "execution_count": 92,
      "outputs": [
        {
          "output_type": "stream",
          "text": [
            "1.9552218850113199\n"
          ],
          "name": "stdout"
        }
      ]
    },
    {
      "cell_type": "code",
      "metadata": {
        "id": "hlHBPCszEcHp",
        "colab_type": "code",
        "colab": {
          "base_uri": "https://localhost:8080/",
          "height": 34
        },
        "outputId": "f7d9699e-5a24-4174-a6db-aebd2bf4cfbb"
      },
      "source": [
        "linreg.intercept_"
      ],
      "execution_count": 93,
      "outputs": [
        {
          "output_type": "execute_result",
          "data": {
            "text/plain": [
              "2.947515036029003"
            ]
          },
          "metadata": {
            "tags": []
          },
          "execution_count": 93
        }
      ]
    },
    {
      "cell_type": "code",
      "metadata": {
        "id": "ljY3Z1U0Ehrm",
        "colab_type": "code",
        "colab": {
          "base_uri": "https://localhost:8080/",
          "height": 34
        },
        "outputId": "377160a7-704a-4be7-c36f-6a43b7013891"
      },
      "source": [
        "linreg.coef_"
      ],
      "execution_count": 94,
      "outputs": [
        {
          "output_type": "execute_result",
          "data": {
            "text/plain": [
              "array([0.04686997, 0.1800065 ])"
            ]
          },
          "metadata": {
            "tags": []
          },
          "execution_count": 94
        }
      ]
    },
    {
      "cell_type": "code",
      "metadata": {
        "id": "_gPgdJ3KEkA3",
        "colab_type": "code",
        "colab": {}
      },
      "source": [
        "y_train_pred=linreg.predict(x_train)\n",
        "y_test_pred=linreg.predict(x_test)"
      ],
      "execution_count": 0,
      "outputs": []
    },
    {
      "cell_type": "code",
      "metadata": {
        "id": "-grjbT04GedW",
        "colab_type": "code",
        "colab": {
          "base_uri": "https://localhost:8080/",
          "height": 51
        },
        "outputId": "1cbc503a-a265-48f0-e509-9f273e2d0db1"
      },
      "source": [
        "RMSE_TRAIN=np.sqrt(metrics.mean_squared_error(y_train,y_train_pred))\n",
        "RMSE_TEST=np.sqrt(metrics.mean_squared_error(y_test,y_test_pred))\n",
        "print(RMSE_TRAIN)\n",
        "print(RMSE_TEST)"
      ],
      "execution_count": 95,
      "outputs": [
        {
          "output_type": "stream",
          "text": [
            "1.7376069405545282\n",
            "1.398292489077775\n"
          ],
          "name": "stdout"
        }
      ]
    },
    {
      "cell_type": "code",
      "metadata": {
        "id": "s1k8-DYjHRKe",
        "colab_type": "code",
        "colab": {
          "base_uri": "https://localhost:8080/",
          "height": 204
        },
        "outputId": "c150514c-3654-420d-bab9-f110389062a1"
      },
      "source": [
        "np.random.seed(123456)                                                # set a seed for reproducibility\n",
        "nums = np.random.rand(len(data))\n",
        "mask_suburban = (nums > 0.33) & (nums < 0.66)                         # assign roughly one third of observations to each group\n",
        "mask_urban = nums > 0.66\n",
        "data['Area'] = 'rural'\n",
        "data.loc[mask_suburban, 'Area'] = 'suburban'\n",
        "data.loc[mask_urban, 'Area'] = 'urban'\n",
        "data.head()"
      ],
      "execution_count": 96,
      "outputs": [
        {
          "output_type": "execute_result",
          "data": {
            "text/html": [
              "<div>\n",
              "<style scoped>\n",
              "    .dataframe tbody tr th:only-of-type {\n",
              "        vertical-align: middle;\n",
              "    }\n",
              "\n",
              "    .dataframe tbody tr th {\n",
              "        vertical-align: top;\n",
              "    }\n",
              "\n",
              "    .dataframe thead th {\n",
              "        text-align: right;\n",
              "    }\n",
              "</style>\n",
              "<table border=\"1\" class=\"dataframe\">\n",
              "  <thead>\n",
              "    <tr style=\"text-align: right;\">\n",
              "      <th></th>\n",
              "      <th>TV</th>\n",
              "      <th>radio</th>\n",
              "      <th>newspaper</th>\n",
              "      <th>sales</th>\n",
              "      <th>Area</th>\n",
              "    </tr>\n",
              "  </thead>\n",
              "  <tbody>\n",
              "    <tr>\n",
              "      <th>1</th>\n",
              "      <td>230.1</td>\n",
              "      <td>37.8</td>\n",
              "      <td>69.2</td>\n",
              "      <td>22.1</td>\n",
              "      <td>rural</td>\n",
              "    </tr>\n",
              "    <tr>\n",
              "      <th>2</th>\n",
              "      <td>44.5</td>\n",
              "      <td>39.3</td>\n",
              "      <td>45.1</td>\n",
              "      <td>10.4</td>\n",
              "      <td>urban</td>\n",
              "    </tr>\n",
              "    <tr>\n",
              "      <th>3</th>\n",
              "      <td>17.2</td>\n",
              "      <td>45.9</td>\n",
              "      <td>69.3</td>\n",
              "      <td>9.3</td>\n",
              "      <td>rural</td>\n",
              "    </tr>\n",
              "    <tr>\n",
              "      <th>4</th>\n",
              "      <td>151.5</td>\n",
              "      <td>41.3</td>\n",
              "      <td>58.5</td>\n",
              "      <td>18.5</td>\n",
              "      <td>urban</td>\n",
              "    </tr>\n",
              "    <tr>\n",
              "      <th>5</th>\n",
              "      <td>180.8</td>\n",
              "      <td>10.8</td>\n",
              "      <td>58.4</td>\n",
              "      <td>12.9</td>\n",
              "      <td>suburban</td>\n",
              "    </tr>\n",
              "  </tbody>\n",
              "</table>\n",
              "</div>"
            ],
            "text/plain": [
              "      TV  radio  newspaper  sales      Area\n",
              "1  230.1   37.8       69.2   22.1     rural\n",
              "2   44.5   39.3       45.1   10.4     urban\n",
              "3   17.2   45.9       69.3    9.3     rural\n",
              "4  151.5   41.3       58.5   18.5     urban\n",
              "5  180.8   10.8       58.4   12.9  suburban"
            ]
          },
          "metadata": {
            "tags": []
          },
          "execution_count": 96
        }
      ]
    },
    {
      "cell_type": "code",
      "metadata": {
        "id": "pbUY1MK9NdtV",
        "colab_type": "code",
        "colab": {}
      },
      "source": [
        ""
      ],
      "execution_count": 0,
      "outputs": []
    }
  ]
}